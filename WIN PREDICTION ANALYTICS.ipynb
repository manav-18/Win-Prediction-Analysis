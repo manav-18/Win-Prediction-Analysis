{
 "cells": [
  {
   "cell_type": "code",
   "execution_count": 1,
   "metadata": {},
   "outputs": [],
   "source": [
    "import pandas as pd\n",
    "import numpy as np\n",
    "import seaborn as sns\n",
    "#sns.set_style(\"whitegrid\")\n",
    "import matplotlib.pyplot as plt\n",
    "import warnings\n",
    "warnings.filterwarnings('ignore')\n",
    "from prettytable import PrettyTable as pt\n",
    "from sklearn import metrics\n",
    "pd.set_option('display.max_columns', None)\n",
    "pd.set_option('display.max_rows', 100)"
   ]
  },
  {
   "cell_type": "code",
   "execution_count": 2,
   "metadata": {},
   "outputs": [],
   "source": [
    "#!pip install prettytable"
   ]
  },
  {
   "cell_type": "code",
   "execution_count": 3,
   "metadata": {},
   "outputs": [],
   "source": [
    "df = pd.read_excel('Win_Prediction_Data.xlsx')"
   ]
  },
  {
   "cell_type": "code",
   "execution_count": 4,
   "metadata": {
    "scrolled": true
   },
   "outputs": [
    {
     "data": {
      "text/html": [
       "<div>\n",
       "<style scoped>\n",
       "    .dataframe tbody tr th:only-of-type {\n",
       "        vertical-align: middle;\n",
       "    }\n",
       "\n",
       "    .dataframe tbody tr th {\n",
       "        vertical-align: top;\n",
       "    }\n",
       "\n",
       "    .dataframe thead th {\n",
       "        text-align: right;\n",
       "    }\n",
       "</style>\n",
       "<table border=\"1\" class=\"dataframe\">\n",
       "  <thead>\n",
       "    <tr style=\"text-align: right;\">\n",
       "      <th></th>\n",
       "      <th>Client Category</th>\n",
       "      <th>Solution Type</th>\n",
       "      <th>Deal Date</th>\n",
       "      <th>Sector</th>\n",
       "      <th>Location</th>\n",
       "      <th>VP Name</th>\n",
       "      <th>Manager Name</th>\n",
       "      <th>Deal Cost</th>\n",
       "      <th>Deal Status Code</th>\n",
       "    </tr>\n",
       "  </thead>\n",
       "  <tbody>\n",
       "    <tr>\n",
       "      <th>0</th>\n",
       "      <td>Telecom</td>\n",
       "      <td>Solution 7</td>\n",
       "      <td>2012-03-27</td>\n",
       "      <td>Sector 24</td>\n",
       "      <td>L5</td>\n",
       "      <td>Ekta Zutshi</td>\n",
       "      <td>Gopa Trilochana</td>\n",
       "      <td>150000.00</td>\n",
       "      <td>Won</td>\n",
       "    </tr>\n",
       "    <tr>\n",
       "      <th>1</th>\n",
       "      <td>Telecom</td>\n",
       "      <td>Solution 7</td>\n",
       "      <td>2012-09-25</td>\n",
       "      <td>Sector 24</td>\n",
       "      <td>L5</td>\n",
       "      <td>Ekta Zutshi</td>\n",
       "      <td>Gopa Trilochana</td>\n",
       "      <td>744705.88</td>\n",
       "      <td>Won</td>\n",
       "    </tr>\n",
       "    <tr>\n",
       "      <th>2</th>\n",
       "      <td>Internal</td>\n",
       "      <td>Solution 59</td>\n",
       "      <td>2011-08-01</td>\n",
       "      <td>Sector 20</td>\n",
       "      <td>Others</td>\n",
       "      <td>Ekta Zutshi</td>\n",
       "      <td>Russell Dahlen</td>\n",
       "      <td>60000.00</td>\n",
       "      <td>Lost</td>\n",
       "    </tr>\n",
       "    <tr>\n",
       "      <th>3</th>\n",
       "      <td>Internal</td>\n",
       "      <td>Solution 59</td>\n",
       "      <td>2011-04-28</td>\n",
       "      <td>Sector 20</td>\n",
       "      <td>Others</td>\n",
       "      <td>Ekta Zutshi</td>\n",
       "      <td>Russell Dahlen</td>\n",
       "      <td>60000.00</td>\n",
       "      <td>Lost</td>\n",
       "    </tr>\n",
       "    <tr>\n",
       "      <th>4</th>\n",
       "      <td>Internal</td>\n",
       "      <td>Solution 32</td>\n",
       "      <td>2011-06-03</td>\n",
       "      <td>Sector 20</td>\n",
       "      <td>Others</td>\n",
       "      <td>Ekta Zutshi</td>\n",
       "      <td>Russell Dahlen</td>\n",
       "      <td>80882.35</td>\n",
       "      <td>Lost</td>\n",
       "    </tr>\n",
       "  </tbody>\n",
       "</table>\n",
       "</div>"
      ],
      "text/plain": [
       "  Client Category Solution Type  Deal Date     Sector Location      VP Name  \\\n",
       "0         Telecom    Solution 7 2012-03-27  Sector 24       L5  Ekta Zutshi   \n",
       "1         Telecom    Solution 7 2012-09-25  Sector 24       L5  Ekta Zutshi   \n",
       "2        Internal   Solution 59 2011-08-01  Sector 20   Others  Ekta Zutshi   \n",
       "3        Internal   Solution 59 2011-04-28  Sector 20   Others  Ekta Zutshi   \n",
       "4        Internal   Solution 32 2011-06-03  Sector 20   Others  Ekta Zutshi   \n",
       "\n",
       "      Manager Name  Deal Cost Deal Status Code  \n",
       "0  Gopa Trilochana  150000.00              Won  \n",
       "1  Gopa Trilochana  744705.88              Won  \n",
       "2   Russell Dahlen   60000.00             Lost  \n",
       "3   Russell Dahlen   60000.00             Lost  \n",
       "4   Russell Dahlen   80882.35             Lost  "
      ]
     },
     "execution_count": 4,
     "metadata": {},
     "output_type": "execute_result"
    }
   ],
   "source": [
    "df.head()"
   ]
  },
  {
   "cell_type": "code",
   "execution_count": 5,
   "metadata": {
    "scrolled": true
   },
   "outputs": [
    {
     "data": {
      "text/plain": [
       "<bound method DataFrame.info of       Client Category Solution Type  Deal Date     Sector Location  \\\n",
       "0             Telecom    Solution 7 2012-03-27  Sector 24       L5   \n",
       "1             Telecom    Solution 7 2012-09-25  Sector 24       L5   \n",
       "2            Internal   Solution 59 2011-08-01  Sector 20   Others   \n",
       "3            Internal   Solution 59 2011-04-28  Sector 20   Others   \n",
       "4            Internal   Solution 32 2011-06-03  Sector 20   Others   \n",
       "...               ...           ...        ...        ...      ...   \n",
       "10056       Power ind    Solution 9 2019-03-18   Sector 9       L5   \n",
       "10057        Internal    Solution 6 2019-03-04  Sector 20   Others   \n",
       "10058       Power ind    Solution 9 2019-02-28   Sector 9       L5   \n",
       "10059       Power ind   Solution 62 2019-01-27   Sector 9       L5   \n",
       "10060          Others    Solution 9 2019-05-30  Sector 12      L10   \n",
       "\n",
       "               VP Name     Manager Name   Deal Cost Deal Status Code  \n",
       "0          Ekta Zutshi  Gopa Trilochana   150000.00              Won  \n",
       "1          Ekta Zutshi  Gopa Trilochana   744705.88              Won  \n",
       "2          Ekta Zutshi   Russell Dahlen    60000.00             Lost  \n",
       "3          Ekta Zutshi   Russell Dahlen    60000.00             Lost  \n",
       "4          Ekta Zutshi   Russell Dahlen    80882.35             Lost  \n",
       "...                ...              ...         ...              ...  \n",
       "10056  Rudraksh Sharma  Rudraksh Sharma   588235.29             Lost  \n",
       "10057  Rudraksh Sharma   Sharavan Singh   777058.82              Won  \n",
       "10058  Rudraksh Sharma  Rudraksh Sharma   588235.29             Lost  \n",
       "10059      Man Suddeth  Cleotilde Biron  3042058.82              Won  \n",
       "10060  Son Mcconnaughy       Tarun Garg   147058.82             Lost  \n",
       "\n",
       "[10061 rows x 9 columns]>"
      ]
     },
     "execution_count": 5,
     "metadata": {},
     "output_type": "execute_result"
    }
   ],
   "source": [
    "df.info"
   ]
  },
  {
   "cell_type": "code",
   "execution_count": 6,
   "metadata": {},
   "outputs": [
    {
     "data": {
      "text/html": [
       "<div>\n",
       "<style scoped>\n",
       "    .dataframe tbody tr th:only-of-type {\n",
       "        vertical-align: middle;\n",
       "    }\n",
       "\n",
       "    .dataframe tbody tr th {\n",
       "        vertical-align: top;\n",
       "    }\n",
       "\n",
       "    .dataframe thead th {\n",
       "        text-align: right;\n",
       "    }\n",
       "</style>\n",
       "<table border=\"1\" class=\"dataframe\">\n",
       "  <thead>\n",
       "    <tr style=\"text-align: right;\">\n",
       "      <th></th>\n",
       "      <th>Deal Cost</th>\n",
       "    </tr>\n",
       "  </thead>\n",
       "  <tbody>\n",
       "    <tr>\n",
       "      <th>count</th>\n",
       "      <td>1.006100e+04</td>\n",
       "    </tr>\n",
       "    <tr>\n",
       "      <th>mean</th>\n",
       "      <td>7.668969e+05</td>\n",
       "    </tr>\n",
       "    <tr>\n",
       "      <th>std</th>\n",
       "      <td>1.619894e+06</td>\n",
       "    </tr>\n",
       "    <tr>\n",
       "      <th>min</th>\n",
       "      <td>0.000000e+00</td>\n",
       "    </tr>\n",
       "    <tr>\n",
       "      <th>25%</th>\n",
       "      <td>1.897059e+05</td>\n",
       "    </tr>\n",
       "    <tr>\n",
       "      <th>50%</th>\n",
       "      <td>3.823529e+05</td>\n",
       "    </tr>\n",
       "    <tr>\n",
       "      <th>75%</th>\n",
       "      <td>7.647059e+05</td>\n",
       "    </tr>\n",
       "    <tr>\n",
       "      <th>max</th>\n",
       "      <td>3.676471e+07</td>\n",
       "    </tr>\n",
       "  </tbody>\n",
       "</table>\n",
       "</div>"
      ],
      "text/plain": [
       "          Deal Cost\n",
       "count  1.006100e+04\n",
       "mean   7.668969e+05\n",
       "std    1.619894e+06\n",
       "min    0.000000e+00\n",
       "25%    1.897059e+05\n",
       "50%    3.823529e+05\n",
       "75%    7.647059e+05\n",
       "max    3.676471e+07"
      ]
     },
     "execution_count": 6,
     "metadata": {},
     "output_type": "execute_result"
    }
   ],
   "source": [
    "df.describe()"
   ]
  },
  {
   "cell_type": "code",
   "execution_count": 7,
   "metadata": {},
   "outputs": [
    {
     "data": {
      "text/plain": [
       "Client Category       41\n",
       "Solution Type         67\n",
       "Deal Date           2555\n",
       "Sector                25\n",
       "Location              13\n",
       "VP Name               43\n",
       "Manager Name         278\n",
       "Deal Cost           1469\n",
       "Deal Status Code       2\n",
       "dtype: int64"
      ]
     },
     "execution_count": 7,
     "metadata": {},
     "output_type": "execute_result"
    }
   ],
   "source": [
    "df.nunique()"
   ]
  },
  {
   "cell_type": "code",
   "execution_count": 8,
   "metadata": {},
   "outputs": [
    {
     "data": {
      "text/html": [
       "<div>\n",
       "<style scoped>\n",
       "    .dataframe tbody tr th:only-of-type {\n",
       "        vertical-align: middle;\n",
       "    }\n",
       "\n",
       "    .dataframe tbody tr th {\n",
       "        vertical-align: top;\n",
       "    }\n",
       "\n",
       "    .dataframe thead th {\n",
       "        text-align: right;\n",
       "    }\n",
       "</style>\n",
       "<table border=\"1\" class=\"dataframe\">\n",
       "  <thead>\n",
       "    <tr style=\"text-align: right;\">\n",
       "      <th></th>\n",
       "      <th>Client Category</th>\n",
       "      <th>Solution Type</th>\n",
       "      <th>Sector</th>\n",
       "      <th>Location</th>\n",
       "      <th>VP Name</th>\n",
       "      <th>Manager Name</th>\n",
       "      <th>Deal Status Code</th>\n",
       "    </tr>\n",
       "  </thead>\n",
       "  <tbody>\n",
       "    <tr>\n",
       "      <th>count</th>\n",
       "      <td>9982</td>\n",
       "      <td>10061</td>\n",
       "      <td>10061</td>\n",
       "      <td>10061</td>\n",
       "      <td>10061</td>\n",
       "      <td>10061</td>\n",
       "      <td>10061</td>\n",
       "    </tr>\n",
       "    <tr>\n",
       "      <th>unique</th>\n",
       "      <td>41</td>\n",
       "      <td>67</td>\n",
       "      <td>25</td>\n",
       "      <td>13</td>\n",
       "      <td>43</td>\n",
       "      <td>278</td>\n",
       "      <td>2</td>\n",
       "    </tr>\n",
       "    <tr>\n",
       "      <th>top</th>\n",
       "      <td>Others</td>\n",
       "      <td>Solution 32</td>\n",
       "      <td>Sector 23</td>\n",
       "      <td>L10</td>\n",
       "      <td>Mervin Harwood</td>\n",
       "      <td>Molly Eakes</td>\n",
       "      <td>Lost</td>\n",
       "    </tr>\n",
       "    <tr>\n",
       "      <th>freq</th>\n",
       "      <td>1763</td>\n",
       "      <td>1439</td>\n",
       "      <td>2693</td>\n",
       "      <td>3360</td>\n",
       "      <td>1166</td>\n",
       "      <td>323</td>\n",
       "      <td>6306</td>\n",
       "    </tr>\n",
       "  </tbody>\n",
       "</table>\n",
       "</div>"
      ],
      "text/plain": [
       "       Client Category Solution Type     Sector Location         VP Name  \\\n",
       "count             9982         10061      10061    10061           10061   \n",
       "unique              41            67         25       13              43   \n",
       "top             Others   Solution 32  Sector 23      L10  Mervin Harwood   \n",
       "freq              1763          1439       2693     3360            1166   \n",
       "\n",
       "       Manager Name Deal Status Code  \n",
       "count         10061            10061  \n",
       "unique          278                2  \n",
       "top     Molly Eakes             Lost  \n",
       "freq            323             6306  "
      ]
     },
     "execution_count": 8,
     "metadata": {},
     "output_type": "execute_result"
    }
   ],
   "source": [
    "df.describe(include='O')"
   ]
  },
  {
   "cell_type": "markdown",
   "metadata": {},
   "source": [
    "# EDA WITH WIN % & WIN COUNTS WRT TO VP, MANAGER NAME COMBO."
   ]
  },
  {
   "cell_type": "markdown",
   "metadata": {},
   "source": [
    "# Data Separation as per data format."
   ]
  },
  {
   "cell_type": "code",
   "execution_count": 9,
   "metadata": {},
   "outputs": [],
   "source": [
    "cat_df=['Client Category', 'Solution Type', 'Sector', 'Location'] \n",
    "num_df=['Deal Cost'] \n",
    "target=['Deal Status Code']\n",
    "Names_df=['VP Name', 'Manager Name']\n",
    "date_df=['Deal Date']"
   ]
  },
  {
   "cell_type": "code",
   "execution_count": 10,
   "metadata": {},
   "outputs": [
    {
     "data": {
      "text/plain": [
       "<matplotlib.axes._subplots.AxesSubplot at 0x21e78209088>"
      ]
     },
     "execution_count": 10,
     "metadata": {},
     "output_type": "execute_result"
    },
    {
     "data": {
      "image/png": "[encoded data removed]",
      "text/plain": [
       "<Figure size 432x288 with 1 Axes>"
      ]
     },
     "metadata": {
      "needs_background": "light"
     },
     "output_type": "display_data"
    }
   ],
   "source": [
    "sns.countplot(x='Deal Status Code',data=df)"
   ]
  },
  {
   "cell_type": "markdown",
   "metadata": {},
   "source": [
    "# Client Category"
   ]
  },
  {
   "cell_type": "code",
   "execution_count": 11,
   "metadata": {},
   "outputs": [
    {
     "data": {
      "image/png": "[encoded data removed]",
      "text/plain": [
       "<Figure size 1224x576 with 1 Axes>"
      ]
     },
     "metadata": {
      "needs_background": "light"
     },
     "output_type": "display_data"
    }
   ],
   "source": [
    "plt.figure(figsize=(17,8))\n",
    "ax = sns.countplot(x = \"Client Category\", hue = \"Deal Status Code\", data = df)\n",
    "ax.set_xticklabels(ax.get_xticklabels(), rotation=30, ha=\"right\")\n",
    "plt.tight_layout()\n",
    "plt.show()"
   ]
  },
  {
   "cell_type": "code",
   "execution_count": 12,
   "metadata": {},
   "outputs": [
    {
     "data": {
      "text/html": [
       "<div>\n",
       "<style scoped>\n",
       "    .dataframe tbody tr th:only-of-type {\n",
       "        vertical-align: middle;\n",
       "    }\n",
       "\n",
       "    .dataframe tbody tr th {\n",
       "        vertical-align: top;\n",
       "    }\n",
       "\n",
       "    .dataframe thead th {\n",
       "        text-align: right;\n",
       "    }\n",
       "</style>\n",
       "<table border=\"1\" class=\"dataframe\">\n",
       "  <thead>\n",
       "    <tr style=\"text-align: right;\">\n",
       "      <th>Deal Status Code</th>\n",
       "      <th>Lost</th>\n",
       "      <th>Won</th>\n",
       "      <th>Total</th>\n",
       "      <th>Win%</th>\n",
       "    </tr>\n",
       "    <tr>\n",
       "      <th>Client Category</th>\n",
       "      <th></th>\n",
       "      <th></th>\n",
       "      <th></th>\n",
       "      <th></th>\n",
       "    </tr>\n",
       "  </thead>\n",
       "  <tbody>\n",
       "    <tr>\n",
       "      <th>Share_market</th>\n",
       "      <td>4</td>\n",
       "      <td>10</td>\n",
       "      <td>14</td>\n",
       "      <td>71.428571</td>\n",
       "    </tr>\n",
       "    <tr>\n",
       "      <th>Internal</th>\n",
       "      <td>694</td>\n",
       "      <td>760</td>\n",
       "      <td>1454</td>\n",
       "      <td>52.269601</td>\n",
       "    </tr>\n",
       "    <tr>\n",
       "      <th>Management</th>\n",
       "      <td>22</td>\n",
       "      <td>21</td>\n",
       "      <td>43</td>\n",
       "      <td>48.837209</td>\n",
       "    </tr>\n",
       "    <tr>\n",
       "      <th>Consulting</th>\n",
       "      <td>182</td>\n",
       "      <td>170</td>\n",
       "      <td>352</td>\n",
       "      <td>48.295455</td>\n",
       "    </tr>\n",
       "    <tr>\n",
       "      <th>Consumer Good</th>\n",
       "      <td>98</td>\n",
       "      <td>87</td>\n",
       "      <td>185</td>\n",
       "      <td>47.027027</td>\n",
       "    </tr>\n",
       "    <tr>\n",
       "      <th>Holding</th>\n",
       "      <td>14</td>\n",
       "      <td>11</td>\n",
       "      <td>25</td>\n",
       "      <td>44.000000</td>\n",
       "    </tr>\n",
       "    <tr>\n",
       "      <th>Energy</th>\n",
       "      <td>32</td>\n",
       "      <td>25</td>\n",
       "      <td>57</td>\n",
       "      <td>43.859649</td>\n",
       "    </tr>\n",
       "    <tr>\n",
       "      <th>International Bank</th>\n",
       "      <td>216</td>\n",
       "      <td>160</td>\n",
       "      <td>376</td>\n",
       "      <td>42.553191</td>\n",
       "    </tr>\n",
       "    <tr>\n",
       "      <th>Power ind</th>\n",
       "      <td>152</td>\n",
       "      <td>112</td>\n",
       "      <td>264</td>\n",
       "      <td>42.424242</td>\n",
       "    </tr>\n",
       "    <tr>\n",
       "      <th>Infrastructure</th>\n",
       "      <td>88</td>\n",
       "      <td>64</td>\n",
       "      <td>152</td>\n",
       "      <td>42.105263</td>\n",
       "    </tr>\n",
       "  </tbody>\n",
       "</table>\n",
       "</div>"
      ],
      "text/plain": [
       "Deal Status Code    Lost  Won  Total       Win%\n",
       "Client Category                                \n",
       "Share_market           4   10     14  71.428571\n",
       "Internal             694  760   1454  52.269601\n",
       "Management            22   21     43  48.837209\n",
       "Consulting           182  170    352  48.295455\n",
       "Consumer Good         98   87    185  47.027027\n",
       "Holding               14   11     25  44.000000\n",
       "Energy                32   25     57  43.859649\n",
       "International Bank   216  160    376  42.553191\n",
       "Power ind            152  112    264  42.424242\n",
       "Infrastructure        88   64    152  42.105263"
      ]
     },
     "execution_count": 12,
     "metadata": {},
     "output_type": "execute_result"
    }
   ],
   "source": [
    "#Win%age of Client Category column\n",
    "Win_Ratio=pd.crosstab(df['Client Category'],df['Deal Status Code'])\n",
    "Win_Ratio['Total']=(Win_Ratio['Won']+Win_Ratio['Lost'])\n",
    "Win_Ratio['Win%']=(Win_Ratio['Won']*100)/(Win_Ratio['Total'])\n",
    "Win_Ratio.sort_values(by=['Win%'],ascending=False).head(10)"
   ]
  },
  {
   "cell_type": "code",
   "execution_count": 13,
   "metadata": {},
   "outputs": [],
   "source": [
    "df[\"Name Pair\"] = df[\"VP Name\"]+\" \"+df[\"Manager Name\"]"
   ]
  },
  {
   "cell_type": "code",
   "execution_count": 14,
   "metadata": {},
   "outputs": [
    {
     "data": {
      "text/html": [
       "<div>\n",
       "<style scoped>\n",
       "    .dataframe tbody tr th:only-of-type {\n",
       "        vertical-align: middle;\n",
       "    }\n",
       "\n",
       "    .dataframe tbody tr th {\n",
       "        vertical-align: top;\n",
       "    }\n",
       "\n",
       "    .dataframe thead th {\n",
       "        text-align: right;\n",
       "    }\n",
       "</style>\n",
       "<table border=\"1\" class=\"dataframe\">\n",
       "  <thead>\n",
       "    <tr style=\"text-align: right;\">\n",
       "      <th></th>\n",
       "      <th>Name Pair</th>\n",
       "      <th>Client Category</th>\n",
       "    </tr>\n",
       "  </thead>\n",
       "  <tbody>\n",
       "    <tr>\n",
       "      <th>0</th>\n",
       "      <td>Ekta Zutshi Gopa Trilochana</td>\n",
       "      <td>Telecom</td>\n",
       "    </tr>\n",
       "    <tr>\n",
       "      <th>1</th>\n",
       "      <td>Ekta Zutshi Gopa Trilochana</td>\n",
       "      <td>Telecom</td>\n",
       "    </tr>\n",
       "    <tr>\n",
       "      <th>6</th>\n",
       "      <td>Mervin Harwood rahul sharma</td>\n",
       "      <td>Internal</td>\n",
       "    </tr>\n",
       "    <tr>\n",
       "      <th>8</th>\n",
       "      <td>Lilli Storrs Md. Daud</td>\n",
       "      <td>Consumer Good</td>\n",
       "    </tr>\n",
       "    <tr>\n",
       "      <th>10</th>\n",
       "      <td>Long Bergstrom Luv Malhotra</td>\n",
       "      <td>International Bank</td>\n",
       "    </tr>\n",
       "  </tbody>\n",
       "</table>\n",
       "</div>"
      ],
      "text/plain": [
       "                      Name Pair     Client Category\n",
       "0   Ekta Zutshi Gopa Trilochana             Telecom\n",
       "1   Ekta Zutshi Gopa Trilochana             Telecom\n",
       "6   Mervin Harwood rahul sharma            Internal\n",
       "8         Lilli Storrs Md. Daud       Consumer Good\n",
       "10  Long Bergstrom Luv Malhotra  International Bank"
      ]
     },
     "execution_count": 14,
     "metadata": {},
     "output_type": "execute_result"
    }
   ],
   "source": [
    "cc_df = df[df[\"Deal Status Code\"]==\"Won\"][[\"Name Pair\",\"Client Category\"]]\n",
    "cc_df.head()"
   ]
  },
  {
   "cell_type": "code",
   "execution_count": 15,
   "metadata": {},
   "outputs": [
    {
     "data": {
      "text/plain": [
       "Series([], Name: Name Pair, dtype: int64)"
      ]
     },
     "execution_count": 15,
     "metadata": {},
     "output_type": "execute_result"
    }
   ],
   "source": [
    "cc_df[cc_df[\"Client Category\"]==\"nan\"][\"Name Pair\"].value_counts()"
   ]
  },
  {
   "cell_type": "code",
   "execution_count": 16,
   "metadata": {},
   "outputs": [
    {
     "data": {
      "text/plain": [
       "array(['Telecom', 'Internal', 'Consumer Good', 'International Bank',\n",
       "       'Domestic Public Bank', 'Finance', 'Research Development',\n",
       "       'Services_based', 'Consulting', 'Others', 'Manufacturing', 'Tech',\n",
       "       'Domestic Private Bank', 'Healthcare', 'Electronics',\n",
       "       'Automobiles', 'Industries', 'Domestic Bank', 'Pharma',\n",
       "       'Power ind', 'Hospitality', 'Insurance', 'Payment',\n",
       "       'Govt Bank Special', 'Management', 'Media_Journal',\n",
       "       'Retail_market', 'Infrastructure', 'Energy', 'Govt', nan,\n",
       "       'Tax_audit', 'Share_market', 'Logistics', 'Knowledge', 'Energy ',\n",
       "       'Airpline', 'e-commerce', 'Holding', 'Real Estate',\n",
       "       'International Org', 'Medical '], dtype=object)"
      ]
     },
     "execution_count": 16,
     "metadata": {},
     "output_type": "execute_result"
    }
   ],
   "source": [
    "cc_df[\"Client Category\"].unique()"
   ]
  },
  {
   "cell_type": "code",
   "execution_count": 17,
   "metadata": {},
   "outputs": [],
   "source": [
    "cc_uniq_list = ['Telecom', 'Internal', 'Consumer Good', 'International Bank',\n",
    "       'Domestic Public Bank', 'Finance', 'Research Development',\n",
    "       'Services_based', 'Consulting', 'Others', 'Manufacturing', 'Tech',\n",
    "       'Domestic Private Bank', 'Healthcare', 'Electronics',\n",
    "       'Automobiles', 'Industries', 'Domestic Bank', 'Pharma',\n",
    "       'Power ind', 'Hospitality', 'Insurance', 'Payment',\n",
    "       'Govt Bank Special', 'Management', 'Media_Journal',\n",
    "       'Retail_market', 'Infrastructure', 'Energy', 'Govt',\n",
    "       'Tax_audit', 'Share_market', 'Logistics', 'Knowledge', 'Energy ',\n",
    "       'Airpline', 'e-commerce', 'Holding', 'Real Estate',\n",
    "       'International Org', 'Medical ']"
   ]
  },
  {
   "cell_type": "code",
   "execution_count": 18,
   "metadata": {},
   "outputs": [],
   "source": [
    "cc_table=pt([\"Client Category\",\"Names\",\"Won Counts\"])\n",
    "for i in cc_uniq_list:\n",
    "    cc_table.add_row([i,cc_df[cc_df[\"Client Category\"]==i][\"Name Pair\"].value_counts().index[0],cc_df[cc_df[\"Client Category\"]==i][\"Name Pair\"].value_counts()[0]])"
   ]
  },
  {
   "cell_type": "code",
   "execution_count": 19,
   "metadata": {},
   "outputs": [
    {
     "data": {
      "text/html": [
       "<table>\n",
       "    <thead>\n",
       "        <tr>\n",
       "            <th>Client Category</th>\n",
       "            <th>Names</th>\n",
       "            <th>Won Counts</th>\n",
       "        </tr>\n",
       "    </thead>\n",
       "    <tbody>\n",
       "        <tr>\n",
       "            <td>Others</td>\n",
       "            <td>Long Bergstrom Karna Bhuvennant</td>\n",
       "            <td>31</td>\n",
       "        </tr>\n",
       "        <tr>\n",
       "            <td>Consulting</td>\n",
       "            <td>Ekta Zutshi neeraj kumar</td>\n",
       "            <td>30</td>\n",
       "        </tr>\n",
       "        <tr>\n",
       "            <td>Internal</td>\n",
       "            <td>Ankita Aggarwal Desmond Krout</td>\n",
       "            <td>29</td>\n",
       "        </tr>\n",
       "        <tr>\n",
       "            <td>Tech</td>\n",
       "            <td>Rahul Bajpai Rudraksh Sharma</td>\n",
       "            <td>28</td>\n",
       "        </tr>\n",
       "        <tr>\n",
       "            <td>Telecom</td>\n",
       "            <td>Rahul Bajpai Abhiskek Kumar</td>\n",
       "            <td>27</td>\n",
       "        </tr>\n",
       "        <tr>\n",
       "            <td>Services_based</td>\n",
       "            <td>Long Bergstrom Russell Dahlen</td>\n",
       "            <td>24</td>\n",
       "        </tr>\n",
       "        <tr>\n",
       "            <td>International Bank</td>\n",
       "            <td>Long Bergstrom Russell Dahlen</td>\n",
       "            <td>23</td>\n",
       "        </tr>\n",
       "        <tr>\n",
       "            <td>Consumer Good</td>\n",
       "            <td>Mangesh K. Singh Darin Vath</td>\n",
       "            <td>23</td>\n",
       "        </tr>\n",
       "        <tr>\n",
       "            <td>Domestic Public Bank</td>\n",
       "            <td>Mervin Harwood Rosana Yokum</td>\n",
       "            <td>15</td>\n",
       "        </tr>\n",
       "        <tr>\n",
       "            <td>Automobiles</td>\n",
       "            <td>Mangesh K. Singh Kamelesh Srinivasan</td>\n",
       "            <td>12</td>\n",
       "        </tr>\n",
       "        <tr>\n",
       "            <td>Domestic Private Bank</td>\n",
       "            <td>Mervin Harwood Jackie Wolfson</td>\n",
       "            <td>10</td>\n",
       "        </tr>\n",
       "        <tr>\n",
       "            <td>Insurance</td>\n",
       "            <td>Alam Syed Darin Vath</td>\n",
       "            <td>9</td>\n",
       "        </tr>\n",
       "        <tr>\n",
       "            <td>Hospitality</td>\n",
       "            <td>Sargar Deep Rao Manpreet Singh</td>\n",
       "            <td>9</td>\n",
       "        </tr>\n",
       "        <tr>\n",
       "            <td>Domestic Bank</td>\n",
       "            <td>Rosanna Maynez Zulema Perrine</td>\n",
       "            <td>8</td>\n",
       "        </tr>\n",
       "        <tr>\n",
       "            <td>Finance</td>\n",
       "            <td>Son Mcconnaughy Rosana Yokum</td>\n",
       "            <td>7</td>\n",
       "        </tr>\n",
       "        <tr>\n",
       "            <td>Management</td>\n",
       "            <td>Russell Dahlen Martin Cheyne</td>\n",
       "            <td>6</td>\n",
       "        </tr>\n",
       "        <tr>\n",
       "            <td>Infrastructure</td>\n",
       "            <td>Mervin Harwood mohd khairul</td>\n",
       "            <td>6</td>\n",
       "        </tr>\n",
       "        <tr>\n",
       "            <td>Pharma</td>\n",
       "            <td>Prashant Rawat farmaan khan</td>\n",
       "            <td>5</td>\n",
       "        </tr>\n",
       "        <tr>\n",
       "            <td>Govt</td>\n",
       "            <td>Mervin Harwood Marcelo Riles</td>\n",
       "            <td>5</td>\n",
       "        </tr>\n",
       "        <tr>\n",
       "            <td>Research Development</td>\n",
       "            <td>Ekta Zutshi Marcella Mo</td>\n",
       "            <td>4</td>\n",
       "        </tr>\n",
       "        <tr>\n",
       "            <td>Power ind</td>\n",
       "            <td>Brendon Wycoff Shobhit Gupta</td>\n",
       "            <td>4</td>\n",
       "        </tr>\n",
       "        <tr>\n",
       "            <td>Electronics</td>\n",
       "            <td>Rahul Bajpai Shalendra D.</td>\n",
       "            <td>4</td>\n",
       "        </tr>\n",
       "        <tr>\n",
       "            <td>Share_market</td>\n",
       "            <td>Mervin Harwood Karna Bhuvennant</td>\n",
       "            <td>3</td>\n",
       "        </tr>\n",
       "        <tr>\n",
       "            <td>Retail_market</td>\n",
       "            <td>Long Bergstrom Jewell Tunstall</td>\n",
       "            <td>3</td>\n",
       "        </tr>\n",
       "        <tr>\n",
       "            <td>Media_Journal</td>\n",
       "            <td>Rudraksh Sharma Preetan Gujar</td>\n",
       "            <td>3</td>\n",
       "        </tr>\n",
       "        <tr>\n",
       "            <td>Manufacturing</td>\n",
       "            <td>som dutt D. Ankit </td>\n",
       "            <td>3</td>\n",
       "        </tr>\n",
       "        <tr>\n",
       "            <td>Healthcare</td>\n",
       "            <td>Long Bergstrom Luv Malhotra</td>\n",
       "            <td>3</td>\n",
       "        </tr>\n",
       "        <tr>\n",
       "            <td>Energy</td>\n",
       "            <td>som dutt Siddhant Gaur</td>\n",
       "            <td>3</td>\n",
       "        </tr>\n",
       "        <tr>\n",
       "            <td>e-commerce</td>\n",
       "            <td>Sargar Deep Rao Akshansh Chaudhary</td>\n",
       "            <td>2</td>\n",
       "        </tr>\n",
       "        <tr>\n",
       "            <td>Real Estate</td>\n",
       "            <td>Sargar Deep Rao Manpreet Singh</td>\n",
       "            <td>2</td>\n",
       "        </tr>\n",
       "        <tr>\n",
       "            <td>Payment</td>\n",
       "            <td>Vidur Hukle Sanchita Pant</td>\n",
       "            <td>2</td>\n",
       "        </tr>\n",
       "        <tr>\n",
       "            <td>Logistics</td>\n",
       "            <td>Long Bergstrom Anand S. Pandey</td>\n",
       "            <td>2</td>\n",
       "        </tr>\n",
       "        <tr>\n",
       "            <td>Industries</td>\n",
       "            <td>Ekta Zutshi Rahul Bajpai</td>\n",
       "            <td>2</td>\n",
       "        </tr>\n",
       "        <tr>\n",
       "            <td>Holding</td>\n",
       "            <td>som dutt Emil Knudsen</td>\n",
       "            <td>2</td>\n",
       "        </tr>\n",
       "        <tr>\n",
       "            <td>Govt Bank Special</td>\n",
       "            <td>Son Mcconnaughy Rosana Yokum</td>\n",
       "            <td>2</td>\n",
       "        </tr>\n",
       "        <tr>\n",
       "            <td>Energy </td>\n",
       "            <td>Sargar Deep Rao Tanuj Bindra</td>\n",
       "            <td>2</td>\n",
       "        </tr>\n",
       "        <tr>\n",
       "            <td>Airpline</td>\n",
       "            <td>Rosanna Maynez Molly Eakes</td>\n",
       "            <td>2</td>\n",
       "        </tr>\n",
       "        <tr>\n",
       "            <td>Tax_audit</td>\n",
       "            <td>Rahul Bajpai Rudraksh Sharma</td>\n",
       "            <td>1</td>\n",
       "        </tr>\n",
       "        <tr>\n",
       "            <td>Medical </td>\n",
       "            <td>Sargar Deep Rao Manpreet Singh</td>\n",
       "            <td>1</td>\n",
       "        </tr>\n",
       "        <tr>\n",
       "            <td>Knowledge</td>\n",
       "            <td>Sargar Deep Rao riyasat ali</td>\n",
       "            <td>1</td>\n",
       "        </tr>\n",
       "        <tr>\n",
       "            <td>International Org</td>\n",
       "            <td>Long Bergstrom Clinton Mani</td>\n",
       "            <td>1</td>\n",
       "        </tr>\n",
       "    </tbody>\n",
       "</table>"
      ],
      "text/plain": [
       "+-----------------------+--------------------------------------+------------+\n",
       "|    Client Category    |                Names                 | Won Counts |\n",
       "+-----------------------+--------------------------------------+------------+\n",
       "|         Others        |   Long Bergstrom Karna Bhuvennant    |     31     |\n",
       "|       Consulting      |       Ekta Zutshi neeraj kumar       |     30     |\n",
       "|        Internal       |    Ankita Aggarwal Desmond Krout     |     29     |\n",
       "|          Tech         |     Rahul Bajpai Rudraksh Sharma     |     28     |\n",
       "|        Telecom        |     Rahul Bajpai Abhiskek Kumar      |     27     |\n",
       "|     Services_based    |    Long Bergstrom Russell Dahlen     |     24     |\n",
       "|   International Bank  |    Long Bergstrom Russell Dahlen     |     23     |\n",
       "|     Consumer Good     |     Mangesh K. Singh Darin Vath      |     23     |\n",
       "|  Domestic Public Bank |     Mervin Harwood Rosana Yokum      |     15     |\n",
       "|      Automobiles      | Mangesh K. Singh Kamelesh Srinivasan |     12     |\n",
       "| Domestic Private Bank |    Mervin Harwood Jackie Wolfson     |     10     |\n",
       "|       Insurance       |         Alam Syed Darin Vath         |     9      |\n",
       "|      Hospitality      |    Sargar Deep Rao Manpreet Singh    |     9      |\n",
       "|     Domestic Bank     |    Rosanna Maynez Zulema Perrine     |     8      |\n",
       "|        Finance        |     Son Mcconnaughy Rosana Yokum     |     7      |\n",
       "|       Management      |     Russell Dahlen Martin Cheyne     |     6      |\n",
       "|     Infrastructure    |     Mervin Harwood mohd khairul      |     6      |\n",
       "|         Pharma        |     Prashant Rawat farmaan khan      |     5      |\n",
       "|          Govt         |     Mervin Harwood Marcelo Riles     |     5      |\n",
       "|  Research Development |       Ekta Zutshi Marcella Mo        |     4      |\n",
       "|       Power ind       |     Brendon Wycoff Shobhit Gupta     |     4      |\n",
       "|      Electronics      |      Rahul Bajpai Shalendra D.       |     4      |\n",
       "|      Share_market     |   Mervin Harwood Karna Bhuvennant    |     3      |\n",
       "|     Retail_market     |    Long Bergstrom Jewell Tunstall    |     3      |\n",
       "|     Media_Journal     |    Rudraksh Sharma Preetan Gujar     |     3      |\n",
       "|     Manufacturing     |          som dutt D. Ankit           |     3      |\n",
       "|       Healthcare      |     Long Bergstrom Luv Malhotra      |     3      |\n",
       "|         Energy        |        som dutt Siddhant Gaur        |     3      |\n",
       "|       e-commerce      |  Sargar Deep Rao Akshansh Chaudhary  |     2      |\n",
       "|      Real Estate      |    Sargar Deep Rao Manpreet Singh    |     2      |\n",
       "|        Payment        |      Vidur Hukle Sanchita Pant       |     2      |\n",
       "|       Logistics       |    Long Bergstrom Anand S. Pandey    |     2      |\n",
       "|       Industries      |       Ekta Zutshi Rahul Bajpai       |     2      |\n",
       "|        Holding        |        som dutt Emil Knudsen         |     2      |\n",
       "|   Govt Bank Special   |     Son Mcconnaughy Rosana Yokum     |     2      |\n",
       "|        Energy         |     Sargar Deep Rao Tanuj Bindra     |     2      |\n",
       "|        Airpline       |      Rosanna Maynez Molly Eakes      |     2      |\n",
       "|       Tax_audit       |     Rahul Bajpai Rudraksh Sharma     |     1      |\n",
       "|        Medical        |    Sargar Deep Rao Manpreet Singh    |     1      |\n",
       "|       Knowledge       |     Sargar Deep Rao riyasat ali      |     1      |\n",
       "|   International Org   |     Long Bergstrom Clinton Mani      |     1      |\n",
       "+-----------------------+--------------------------------------+------------+"
      ]
     },
     "execution_count": 19,
     "metadata": {},
     "output_type": "execute_result"
    }
   ],
   "source": [
    "cc_table.sortby = 'Won Counts'\n",
    "cc_table.reversesort = True\n",
    "cc_table"
   ]
  },
  {
   "cell_type": "markdown",
   "metadata": {},
   "source": [
    "# Solution Type"
   ]
  },
  {
   "cell_type": "code",
   "execution_count": 20,
   "metadata": {},
   "outputs": [
    {
     "data": {
      "image/png": "[encoded data removed]",
      "text/plain": [
       "<Figure size 1224x576 with 1 Axes>"
      ]
     },
     "metadata": {
      "needs_background": "light"
     },
     "output_type": "display_data"
    }
   ],
   "source": [
    "plt.figure(figsize=(17,8))\n",
    "ax = sns.countplot(x = \"Solution Type\", hue = \"Deal Status Code\", data = df)\n",
    "ax.set_xticklabels(ax.get_xticklabels(), rotation=30, ha=\"right\")\n",
    "plt.tight_layout()\n",
    "plt.show()"
   ]
  },
  {
   "cell_type": "code",
   "execution_count": 21,
   "metadata": {},
   "outputs": [
    {
     "data": {
      "text/html": [
       "<div>\n",
       "<style scoped>\n",
       "    .dataframe tbody tr th:only-of-type {\n",
       "        vertical-align: middle;\n",
       "    }\n",
       "\n",
       "    .dataframe tbody tr th {\n",
       "        vertical-align: top;\n",
       "    }\n",
       "\n",
       "    .dataframe thead th {\n",
       "        text-align: right;\n",
       "    }\n",
       "</style>\n",
       "<table border=\"1\" class=\"dataframe\">\n",
       "  <thead>\n",
       "    <tr style=\"text-align: right;\">\n",
       "      <th>Deal Status Code</th>\n",
       "      <th>Lost</th>\n",
       "      <th>Won</th>\n",
       "      <th>Total</th>\n",
       "      <th>Win%</th>\n",
       "    </tr>\n",
       "    <tr>\n",
       "      <th>Solution Type</th>\n",
       "      <th></th>\n",
       "      <th></th>\n",
       "      <th></th>\n",
       "      <th></th>\n",
       "    </tr>\n",
       "  </thead>\n",
       "  <tbody>\n",
       "    <tr>\n",
       "      <th>Solution 24</th>\n",
       "      <td>0</td>\n",
       "      <td>5</td>\n",
       "      <td>5</td>\n",
       "      <td>100.000000</td>\n",
       "    </tr>\n",
       "    <tr>\n",
       "      <th>Solution 19</th>\n",
       "      <td>0</td>\n",
       "      <td>1</td>\n",
       "      <td>1</td>\n",
       "      <td>100.000000</td>\n",
       "    </tr>\n",
       "    <tr>\n",
       "      <th>Solution 66</th>\n",
       "      <td>0</td>\n",
       "      <td>1</td>\n",
       "      <td>1</td>\n",
       "      <td>100.000000</td>\n",
       "    </tr>\n",
       "    <tr>\n",
       "      <th>Solution 64</th>\n",
       "      <td>0</td>\n",
       "      <td>1</td>\n",
       "      <td>1</td>\n",
       "      <td>100.000000</td>\n",
       "    </tr>\n",
       "    <tr>\n",
       "      <th>Solution 60</th>\n",
       "      <td>0</td>\n",
       "      <td>1</td>\n",
       "      <td>1</td>\n",
       "      <td>100.000000</td>\n",
       "    </tr>\n",
       "    <tr>\n",
       "      <th>Solution 57</th>\n",
       "      <td>0</td>\n",
       "      <td>1</td>\n",
       "      <td>1</td>\n",
       "      <td>100.000000</td>\n",
       "    </tr>\n",
       "    <tr>\n",
       "      <th>Solution 56</th>\n",
       "      <td>0</td>\n",
       "      <td>1</td>\n",
       "      <td>1</td>\n",
       "      <td>100.000000</td>\n",
       "    </tr>\n",
       "    <tr>\n",
       "      <th>Solution 18</th>\n",
       "      <td>0</td>\n",
       "      <td>1</td>\n",
       "      <td>1</td>\n",
       "      <td>100.000000</td>\n",
       "    </tr>\n",
       "    <tr>\n",
       "      <th>Solution 30</th>\n",
       "      <td>12</td>\n",
       "      <td>62</td>\n",
       "      <td>74</td>\n",
       "      <td>83.783784</td>\n",
       "    </tr>\n",
       "    <tr>\n",
       "      <th>Solution 65</th>\n",
       "      <td>4</td>\n",
       "      <td>10</td>\n",
       "      <td>14</td>\n",
       "      <td>71.428571</td>\n",
       "    </tr>\n",
       "  </tbody>\n",
       "</table>\n",
       "</div>"
      ],
      "text/plain": [
       "Deal Status Code  Lost  Won  Total        Win%\n",
       "Solution Type                                 \n",
       "Solution 24          0    5      5  100.000000\n",
       "Solution 19          0    1      1  100.000000\n",
       "Solution 66          0    1      1  100.000000\n",
       "Solution 64          0    1      1  100.000000\n",
       "Solution 60          0    1      1  100.000000\n",
       "Solution 57          0    1      1  100.000000\n",
       "Solution 56          0    1      1  100.000000\n",
       "Solution 18          0    1      1  100.000000\n",
       "Solution 30         12   62     74   83.783784\n",
       "Solution 65          4   10     14   71.428571"
      ]
     },
     "execution_count": 21,
     "metadata": {},
     "output_type": "execute_result"
    }
   ],
   "source": [
    "#Win%age of Solution Type column\n",
    "Win_Ratio=pd.crosstab(df['Solution Type'],df['Deal Status Code'])\n",
    "Win_Ratio['Total']=(Win_Ratio['Won']+Win_Ratio['Lost'])\n",
    "Win_Ratio['Win%']=(Win_Ratio['Won']*100)/(Win_Ratio['Total'])\n",
    "Win_Ratio.sort_values(by=['Win%'],ascending=False).head(10)"
   ]
  },
  {
   "cell_type": "markdown",
   "metadata": {},
   "source": [
    "# Years, Months & Quarter Wise."
   ]
  },
  {
   "cell_type": "code",
   "execution_count": 22,
   "metadata": {},
   "outputs": [
    {
     "data": {
      "text/plain": [
       "<matplotlib.axes._subplots.AxesSubplot at 0x21e78397dc8>"
      ]
     },
     "execution_count": 22,
     "metadata": {},
     "output_type": "execute_result"
    },
    {
     "data": {
      "image/png": "[encoded data removed]",
      "text/plain": [
       "<Figure size 1440x360 with 1 Axes>"
      ]
     },
     "metadata": {
      "needs_background": "light"
     },
     "output_type": "display_data"
    }
   ],
   "source": [
    "fig, ax = plt.subplots(figsize=(20, 5))\n",
    "\n",
    "# Extract the numerical representation of the date using the dt accessor\n",
    "won_dates = (df[df['Deal Status Code'] == 'Won']['Deal Date'] - pd.to_datetime('1970-01-01')).dt.total_seconds() * 1000\n",
    "lost_dates = (df[df['Deal Status Code'] == 'Lost']['Deal Date'] - pd.to_datetime('1970-01-01')).dt.total_seconds() * 1000\n",
    "\n",
    "sns.kdeplot(won_dates, shade=True, color='blue', label='Won', ax=ax)\n",
    "sns.kdeplot(lost_dates, shade=True, color='green', label='Lost', ax=ax)\n"
   ]
  },
  {
   "cell_type": "markdown",
   "metadata": {},
   "source": [
    "# Sector"
   ]
  },
  {
   "cell_type": "code",
   "execution_count": 23,
   "metadata": {},
   "outputs": [
    {
     "data": {
      "image/png": "[encoded data removed]",
      "text/plain": [
       "<Figure size 1224x576 with 1 Axes>"
      ]
     },
     "metadata": {
      "needs_background": "light"
     },
     "output_type": "display_data"
    }
   ],
   "source": [
    "plt.figure(figsize=(17,8))\n",
    "ax = sns.countplot(x = \"Sector\", hue = \"Deal Status Code\", data = df)\n",
    "ax.set_xticklabels(ax.get_xticklabels(), rotation=30, ha=\"right\")\n",
    "plt.tight_layout()\n",
    "plt.show()"
   ]
  },
  {
   "cell_type": "code",
   "execution_count": 24,
   "metadata": {},
   "outputs": [
    {
     "data": {
      "text/html": [
       "<div>\n",
       "<style scoped>\n",
       "    .dataframe tbody tr th:only-of-type {\n",
       "        vertical-align: middle;\n",
       "    }\n",
       "\n",
       "    .dataframe tbody tr th {\n",
       "        vertical-align: top;\n",
       "    }\n",
       "\n",
       "    .dataframe thead th {\n",
       "        text-align: right;\n",
       "    }\n",
       "</style>\n",
       "<table border=\"1\" class=\"dataframe\">\n",
       "  <thead>\n",
       "    <tr style=\"text-align: right;\">\n",
       "      <th>Deal Status Code</th>\n",
       "      <th>Lost</th>\n",
       "      <th>Won</th>\n",
       "      <th>Total</th>\n",
       "      <th>Win%</th>\n",
       "    </tr>\n",
       "    <tr>\n",
       "      <th>Sector</th>\n",
       "      <th></th>\n",
       "      <th></th>\n",
       "      <th></th>\n",
       "      <th></th>\n",
       "    </tr>\n",
       "  </thead>\n",
       "  <tbody>\n",
       "    <tr>\n",
       "      <th>Sector 21</th>\n",
       "      <td>10</td>\n",
       "      <td>20</td>\n",
       "      <td>30</td>\n",
       "      <td>66.666667</td>\n",
       "    </tr>\n",
       "    <tr>\n",
       "      <th>Sector 7</th>\n",
       "      <td>6</td>\n",
       "      <td>8</td>\n",
       "      <td>14</td>\n",
       "      <td>57.142857</td>\n",
       "    </tr>\n",
       "    <tr>\n",
       "      <th>Sector 20</th>\n",
       "      <td>384</td>\n",
       "      <td>389</td>\n",
       "      <td>773</td>\n",
       "      <td>50.323415</td>\n",
       "    </tr>\n",
       "    <tr>\n",
       "      <th>Sector 9</th>\n",
       "      <td>202</td>\n",
       "      <td>167</td>\n",
       "      <td>369</td>\n",
       "      <td>45.257453</td>\n",
       "    </tr>\n",
       "    <tr>\n",
       "      <th>Sector 17</th>\n",
       "      <td>274</td>\n",
       "      <td>200</td>\n",
       "      <td>474</td>\n",
       "      <td>42.194093</td>\n",
       "    </tr>\n",
       "    <tr>\n",
       "      <th>Sector 19</th>\n",
       "      <td>84</td>\n",
       "      <td>58</td>\n",
       "      <td>142</td>\n",
       "      <td>40.845070</td>\n",
       "    </tr>\n",
       "    <tr>\n",
       "      <th>Sector 15</th>\n",
       "      <td>234</td>\n",
       "      <td>153</td>\n",
       "      <td>387</td>\n",
       "      <td>39.534884</td>\n",
       "    </tr>\n",
       "    <tr>\n",
       "      <th>Sector 23</th>\n",
       "      <td>1640</td>\n",
       "      <td>1053</td>\n",
       "      <td>2693</td>\n",
       "      <td>39.101374</td>\n",
       "    </tr>\n",
       "    <tr>\n",
       "      <th>Sector 24</th>\n",
       "      <td>360</td>\n",
       "      <td>218</td>\n",
       "      <td>578</td>\n",
       "      <td>37.716263</td>\n",
       "    </tr>\n",
       "    <tr>\n",
       "      <th>Sector 22</th>\n",
       "      <td>90</td>\n",
       "      <td>54</td>\n",
       "      <td>144</td>\n",
       "      <td>37.500000</td>\n",
       "    </tr>\n",
       "  </tbody>\n",
       "</table>\n",
       "</div>"
      ],
      "text/plain": [
       "Deal Status Code  Lost   Won  Total       Win%\n",
       "Sector                                        \n",
       "Sector 21           10    20     30  66.666667\n",
       "Sector 7             6     8     14  57.142857\n",
       "Sector 20          384   389    773  50.323415\n",
       "Sector 9           202   167    369  45.257453\n",
       "Sector 17          274   200    474  42.194093\n",
       "Sector 19           84    58    142  40.845070\n",
       "Sector 15          234   153    387  39.534884\n",
       "Sector 23         1640  1053   2693  39.101374\n",
       "Sector 24          360   218    578  37.716263\n",
       "Sector 22           90    54    144  37.500000"
      ]
     },
     "execution_count": 24,
     "metadata": {},
     "output_type": "execute_result"
    }
   ],
   "source": [
    "#Win%age of Sector column\n",
    "Win_Ratio=pd.crosstab(df['Sector'],df['Deal Status Code'])\n",
    "Win_Ratio['Total']=(Win_Ratio['Won']+Win_Ratio['Lost'])\n",
    "Win_Ratio['Win%']=(Win_Ratio['Won']*100)/(Win_Ratio['Total'])\n",
    "Win_Ratio.sort_values(by=['Win%'],ascending=False).head(10)"
   ]
  },
  {
   "cell_type": "code",
   "execution_count": 25,
   "metadata": {},
   "outputs": [
    {
     "data": {
      "text/plain": [
       "0     Sector 24\n",
       "1     Sector 24\n",
       "6      Sector 2\n",
       "8     Sector 12\n",
       "10     Sector 2\n",
       "Name: Sector, dtype: object"
      ]
     },
     "execution_count": 25,
     "metadata": {},
     "output_type": "execute_result"
    }
   ],
   "source": [
    "sect_df = df[df[\"Deal Status Code\"]==\"Won\"][[\"Name Pair\",\"Sector\"]]\n",
    "sect_df[\"Sector\"].head()"
   ]
  },
  {
   "cell_type": "code",
   "execution_count": 26,
   "metadata": {},
   "outputs": [],
   "source": [
    "sect_table=pt([\"Sector\",\"Names\",\"Won Counts\"])\n",
    "for i in range(1,len(sect_df[\"Sector\"].unique())):\n",
    "    sect_table.add_row([\"Sector {}\".format(i),sect_df[sect_df[\"Sector\"]==\"Sector {}\".format(i)][\"Name Pair\"].value_counts().index[0],sect_df[sect_df[\"Sector\"]==\"Sector {}\".format(i)][\"Name Pair\"].value_counts()[0]])"
   ]
  },
  {
   "cell_type": "code",
   "execution_count": 27,
   "metadata": {},
   "outputs": [
    {
     "data": {
      "text/html": [
       "<table>\n",
       "    <thead>\n",
       "        <tr>\n",
       "            <th>Sector</th>\n",
       "            <th>Names</th>\n",
       "            <th>Won Counts</th>\n",
       "        </tr>\n",
       "    </thead>\n",
       "    <tbody>\n",
       "        <tr>\n",
       "            <td>Sector 23</td>\n",
       "            <td>neeraj kumar Molly Eakes</td>\n",
       "            <td>53</td>\n",
       "        </tr>\n",
       "        <tr>\n",
       "            <td>Sector 2</td>\n",
       "            <td>Long Bergstrom Russell Dahlen</td>\n",
       "            <td>35</td>\n",
       "        </tr>\n",
       "        <tr>\n",
       "            <td>Sector 24</td>\n",
       "            <td>Rahul Bajpai Abhiskek Kumar</td>\n",
       "            <td>27</td>\n",
       "        </tr>\n",
       "        <tr>\n",
       "            <td>Sector 12</td>\n",
       "            <td>Mangesh K. Singh Darin Vath</td>\n",
       "            <td>27</td>\n",
       "        </tr>\n",
       "        <tr>\n",
       "            <td>Sector 15</td>\n",
       "            <td>Rahul Bajpai Rudraksh Sharma</td>\n",
       "            <td>24</td>\n",
       "        </tr>\n",
       "        <tr>\n",
       "            <td>Sector 20</td>\n",
       "            <td>Ankita Aggarwal Desmond Krout</td>\n",
       "            <td>23</td>\n",
       "        </tr>\n",
       "        <tr>\n",
       "            <td>Sector 18</td>\n",
       "            <td>Rahul Bajpai Rudraksh Sharma</td>\n",
       "            <td>13</td>\n",
       "        </tr>\n",
       "        <tr>\n",
       "            <td>Sector 1</td>\n",
       "            <td>Mangesh K. Singh Kamelesh Srinivasan</td>\n",
       "            <td>12</td>\n",
       "        </tr>\n",
       "        <tr>\n",
       "            <td>Sector 21</td>\n",
       "            <td>Long Bergstrom Karna Bhuvennant</td>\n",
       "            <td>9</td>\n",
       "        </tr>\n",
       "        <tr>\n",
       "            <td>Sector 17</td>\n",
       "            <td>Russell Dahlen Martin Cheyne</td>\n",
       "            <td>9</td>\n",
       "        </tr>\n",
       "        <tr>\n",
       "            <td>Sector 16</td>\n",
       "            <td>Alam Syed Darin Vath</td>\n",
       "            <td>9</td>\n",
       "        </tr>\n",
       "        <tr>\n",
       "            <td>Sector 6</td>\n",
       "            <td>Rahul Bajpai Rudraksh Sharma</td>\n",
       "            <td>7</td>\n",
       "        </tr>\n",
       "        <tr>\n",
       "            <td>Sector 4</td>\n",
       "            <td>Son Mcconnaughy Rosana Yokum</td>\n",
       "            <td>7</td>\n",
       "        </tr>\n",
       "        <tr>\n",
       "            <td>Sector 3</td>\n",
       "            <td>Long Bergstrom Karna Bhuvennant</td>\n",
       "            <td>7</td>\n",
       "        </tr>\n",
       "        <tr>\n",
       "            <td>Sector 9</td>\n",
       "            <td>Ankita Aggarwal bhagwati prasad</td>\n",
       "            <td>6</td>\n",
       "        </tr>\n",
       "        <tr>\n",
       "            <td>Sector 22</td>\n",
       "            <td>neeraj kumar kailash kumar</td>\n",
       "            <td>5</td>\n",
       "        </tr>\n",
       "        <tr>\n",
       "            <td>Sector 19</td>\n",
       "            <td>Rudraksh Sharma Preetan Gujar</td>\n",
       "            <td>5</td>\n",
       "        </tr>\n",
       "        <tr>\n",
       "            <td>Sector 11</td>\n",
       "            <td>Rahul Bajpai Rudraksh Sharma</td>\n",
       "            <td>5</td>\n",
       "        </tr>\n",
       "        <tr>\n",
       "            <td>Sector 8</td>\n",
       "            <td>Long Bergstrom Karna Bhuvennant</td>\n",
       "            <td>3</td>\n",
       "        </tr>\n",
       "        <tr>\n",
       "            <td>Sector 14</td>\n",
       "            <td>Sargar Deep Rao Akshansh Chaudhary</td>\n",
       "            <td>3</td>\n",
       "        </tr>\n",
       "        <tr>\n",
       "            <td>Sector 5</td>\n",
       "            <td>Ekta Zutshi Rudraksh Sharma</td>\n",
       "            <td>2</td>\n",
       "        </tr>\n",
       "        <tr>\n",
       "            <td>Sector 13</td>\n",
       "            <td>Son Mcconnaughy Rosana Yokum</td>\n",
       "            <td>2</td>\n",
       "        </tr>\n",
       "        <tr>\n",
       "            <td>Sector 7</td>\n",
       "            <td>Long Bergstrom Gayle Molter</td>\n",
       "            <td>1</td>\n",
       "        </tr>\n",
       "        <tr>\n",
       "            <td>Sector 10</td>\n",
       "            <td>Gaurav Sameria Vishvajeet Kumar</td>\n",
       "            <td>1</td>\n",
       "        </tr>\n",
       "    </tbody>\n",
       "</table>"
      ],
      "text/plain": [
       "+-----------+--------------------------------------+------------+\n",
       "|   Sector  |                Names                 | Won Counts |\n",
       "+-----------+--------------------------------------+------------+\n",
       "| Sector 23 |       neeraj kumar Molly Eakes       |     53     |\n",
       "|  Sector 2 |    Long Bergstrom Russell Dahlen     |     35     |\n",
       "| Sector 24 |     Rahul Bajpai Abhiskek Kumar      |     27     |\n",
       "| Sector 12 |     Mangesh K. Singh Darin Vath      |     27     |\n",
       "| Sector 15 |     Rahul Bajpai Rudraksh Sharma     |     24     |\n",
       "| Sector 20 |    Ankita Aggarwal Desmond Krout     |     23     |\n",
       "| Sector 18 |     Rahul Bajpai Rudraksh Sharma     |     13     |\n",
       "|  Sector 1 | Mangesh K. Singh Kamelesh Srinivasan |     12     |\n",
       "| Sector 21 |   Long Bergstrom Karna Bhuvennant    |     9      |\n",
       "| Sector 17 |     Russell Dahlen Martin Cheyne     |     9      |\n",
       "| Sector 16 |         Alam Syed Darin Vath         |     9      |\n",
       "|  Sector 6 |     Rahul Bajpai Rudraksh Sharma     |     7      |\n",
       "|  Sector 4 |     Son Mcconnaughy Rosana Yokum     |     7      |\n",
       "|  Sector 3 |   Long Bergstrom Karna Bhuvennant    |     7      |\n",
       "|  Sector 9 |   Ankita Aggarwal bhagwati prasad    |     6      |\n",
       "| Sector 22 |      neeraj kumar kailash kumar      |     5      |\n",
       "| Sector 19 |    Rudraksh Sharma Preetan Gujar     |     5      |\n",
       "| Sector 11 |     Rahul Bajpai Rudraksh Sharma     |     5      |\n",
       "|  Sector 8 |   Long Bergstrom Karna Bhuvennant    |     3      |\n",
       "| Sector 14 |  Sargar Deep Rao Akshansh Chaudhary  |     3      |\n",
       "|  Sector 5 |     Ekta Zutshi Rudraksh Sharma      |     2      |\n",
       "| Sector 13 |     Son Mcconnaughy Rosana Yokum     |     2      |\n",
       "|  Sector 7 |     Long Bergstrom Gayle Molter      |     1      |\n",
       "| Sector 10 |   Gaurav Sameria Vishvajeet Kumar    |     1      |\n",
       "+-----------+--------------------------------------+------------+"
      ]
     },
     "execution_count": 27,
     "metadata": {},
     "output_type": "execute_result"
    }
   ],
   "source": [
    "sect_table.sortby = 'Won Counts'\n",
    "sect_table.reversesort = True\n",
    "sect_table"
   ]
  },
  {
   "cell_type": "markdown",
   "metadata": {},
   "source": [
    "# Location"
   ]
  },
  {
   "cell_type": "code",
   "execution_count": 28,
   "metadata": {},
   "outputs": [
    {
     "data": {
      "image/png": "[encoded data removed]",
      "text/plain": [
       "<Figure size 1224x576 with 1 Axes>"
      ]
     },
     "metadata": {
      "needs_background": "light"
     },
     "output_type": "display_data"
    }
   ],
   "source": [
    "plt.figure(figsize=(17,8))\n",
    "ax = sns.countplot(x = \"Location\", hue = \"Deal Status Code\", data = df)\n",
    "ax.set_xticklabels(ax.get_xticklabels(), rotation=30, ha=\"right\")\n",
    "plt.tight_layout()\n",
    "plt.show()"
   ]
  },
  {
   "cell_type": "code",
   "execution_count": 29,
   "metadata": {},
   "outputs": [
    {
     "data": {
      "text/html": [
       "<div>\n",
       "<style scoped>\n",
       "    .dataframe tbody tr th:only-of-type {\n",
       "        vertical-align: middle;\n",
       "    }\n",
       "\n",
       "    .dataframe tbody tr th {\n",
       "        vertical-align: top;\n",
       "    }\n",
       "\n",
       "    .dataframe thead th {\n",
       "        text-align: right;\n",
       "    }\n",
       "</style>\n",
       "<table border=\"1\" class=\"dataframe\">\n",
       "  <thead>\n",
       "    <tr style=\"text-align: right;\">\n",
       "      <th>Deal Status Code</th>\n",
       "      <th>Lost</th>\n",
       "      <th>Won</th>\n",
       "      <th>Total</th>\n",
       "      <th>Win%</th>\n",
       "    </tr>\n",
       "    <tr>\n",
       "      <th>Location</th>\n",
       "      <th></th>\n",
       "      <th></th>\n",
       "      <th></th>\n",
       "      <th></th>\n",
       "    </tr>\n",
       "  </thead>\n",
       "  <tbody>\n",
       "    <tr>\n",
       "      <th>Others</th>\n",
       "      <td>426</td>\n",
       "      <td>391</td>\n",
       "      <td>817</td>\n",
       "      <td>47.858017</td>\n",
       "    </tr>\n",
       "    <tr>\n",
       "      <th>L1</th>\n",
       "      <td>912</td>\n",
       "      <td>660</td>\n",
       "      <td>1572</td>\n",
       "      <td>41.984733</td>\n",
       "    </tr>\n",
       "    <tr>\n",
       "      <th>L5</th>\n",
       "      <td>1392</td>\n",
       "      <td>936</td>\n",
       "      <td>2328</td>\n",
       "      <td>40.206186</td>\n",
       "    </tr>\n",
       "    <tr>\n",
       "      <th>L11</th>\n",
       "      <td>232</td>\n",
       "      <td>135</td>\n",
       "      <td>367</td>\n",
       "      <td>36.784741</td>\n",
       "    </tr>\n",
       "    <tr>\n",
       "      <th>L3</th>\n",
       "      <td>356</td>\n",
       "      <td>200</td>\n",
       "      <td>556</td>\n",
       "      <td>35.971223</td>\n",
       "    </tr>\n",
       "    <tr>\n",
       "      <th>L12</th>\n",
       "      <td>178</td>\n",
       "      <td>98</td>\n",
       "      <td>276</td>\n",
       "      <td>35.507246</td>\n",
       "    </tr>\n",
       "    <tr>\n",
       "      <th>L10</th>\n",
       "      <td>2230</td>\n",
       "      <td>1130</td>\n",
       "      <td>3360</td>\n",
       "      <td>33.630952</td>\n",
       "    </tr>\n",
       "    <tr>\n",
       "      <th>L4</th>\n",
       "      <td>126</td>\n",
       "      <td>62</td>\n",
       "      <td>188</td>\n",
       "      <td>32.978723</td>\n",
       "    </tr>\n",
       "    <tr>\n",
       "      <th>L6</th>\n",
       "      <td>70</td>\n",
       "      <td>30</td>\n",
       "      <td>100</td>\n",
       "      <td>30.000000</td>\n",
       "    </tr>\n",
       "    <tr>\n",
       "      <th>L7</th>\n",
       "      <td>174</td>\n",
       "      <td>64</td>\n",
       "      <td>238</td>\n",
       "      <td>26.890756</td>\n",
       "    </tr>\n",
       "  </tbody>\n",
       "</table>\n",
       "</div>"
      ],
      "text/plain": [
       "Deal Status Code  Lost   Won  Total       Win%\n",
       "Location                                      \n",
       "Others             426   391    817  47.858017\n",
       "L1                 912   660   1572  41.984733\n",
       "L5                1392   936   2328  40.206186\n",
       "L11                232   135    367  36.784741\n",
       "L3                 356   200    556  35.971223\n",
       "L12                178    98    276  35.507246\n",
       "L10               2230  1130   3360  33.630952\n",
       "L4                 126    62    188  32.978723\n",
       "L6                  70    30    100  30.000000\n",
       "L7                 174    64    238  26.890756"
      ]
     },
     "execution_count": 29,
     "metadata": {},
     "output_type": "execute_result"
    }
   ],
   "source": [
    "#Win%age of Location column\n",
    "Win_Ratio=pd.crosstab(df['Location'],df['Deal Status Code'])\n",
    "Win_Ratio['Total']=(Win_Ratio['Won']+Win_Ratio['Lost'])\n",
    "Win_Ratio['Win%']=(Win_Ratio['Won']*100)/(Win_Ratio['Total'])\n",
    "Win_Ratio.sort_values(by=['Win%'],ascending=False).head(10)"
   ]
  },
  {
   "cell_type": "code",
   "execution_count": 30,
   "metadata": {},
   "outputs": [
    {
     "data": {
      "text/html": [
       "<div>\n",
       "<style scoped>\n",
       "    .dataframe tbody tr th:only-of-type {\n",
       "        vertical-align: middle;\n",
       "    }\n",
       "\n",
       "    .dataframe tbody tr th {\n",
       "        vertical-align: top;\n",
       "    }\n",
       "\n",
       "    .dataframe thead th {\n",
       "        text-align: right;\n",
       "    }\n",
       "</style>\n",
       "<table border=\"1\" class=\"dataframe\">\n",
       "  <thead>\n",
       "    <tr style=\"text-align: right;\">\n",
       "      <th></th>\n",
       "      <th>Name Pair</th>\n",
       "      <th>Location</th>\n",
       "    </tr>\n",
       "  </thead>\n",
       "  <tbody>\n",
       "    <tr>\n",
       "      <th>0</th>\n",
       "      <td>Ekta Zutshi Gopa Trilochana</td>\n",
       "      <td>L5</td>\n",
       "    </tr>\n",
       "    <tr>\n",
       "      <th>1</th>\n",
       "      <td>Ekta Zutshi Gopa Trilochana</td>\n",
       "      <td>L5</td>\n",
       "    </tr>\n",
       "    <tr>\n",
       "      <th>6</th>\n",
       "      <td>Mervin Harwood rahul sharma</td>\n",
       "      <td>L10</td>\n",
       "    </tr>\n",
       "    <tr>\n",
       "      <th>8</th>\n",
       "      <td>Lilli Storrs Md. Daud</td>\n",
       "      <td>L10</td>\n",
       "    </tr>\n",
       "    <tr>\n",
       "      <th>10</th>\n",
       "      <td>Long Bergstrom Luv Malhotra</td>\n",
       "      <td>L10</td>\n",
       "    </tr>\n",
       "  </tbody>\n",
       "</table>\n",
       "</div>"
      ],
      "text/plain": [
       "                      Name Pair Location\n",
       "0   Ekta Zutshi Gopa Trilochana       L5\n",
       "1   Ekta Zutshi Gopa Trilochana       L5\n",
       "6   Mervin Harwood rahul sharma      L10\n",
       "8         Lilli Storrs Md. Daud      L10\n",
       "10  Long Bergstrom Luv Malhotra      L10"
      ]
     },
     "execution_count": 30,
     "metadata": {},
     "output_type": "execute_result"
    }
   ],
   "source": [
    "loc_df = df[df[\"Deal Status Code\"]==\"Won\"][[\"Name Pair\",\"Location\"]]\n",
    "loc_df.head()"
   ]
  },
  {
   "cell_type": "code",
   "execution_count": 31,
   "metadata": {},
   "outputs": [],
   "source": [
    "loc_table=pt([\"Location\",\"Names\",\"Won Counts\"])\n",
    "loc_table.add_row([\"Others\",loc_df[loc_df[\"Location\"]==\"Others\"][\"Name Pair\"].value_counts().index[0],loc_df[loc_df[\"Location\"]==\"Others\"][\"Name Pair\"].value_counts()[0]])\n",
    "Loc,Names,Counts=[],[],[]\n",
    "for i in range(1,len(loc_df[\"Location\"].unique())):\n",
    "    loc_table.add_row([\"Location {}\".format(i),loc_df[loc_df[\"Location\"]==\"L{}\".format(i)][\"Name Pair\"].value_counts().index[0],loc_df[loc_df[\"Location\"]==\"L{}\".format(i)][\"Name Pair\"].value_counts()[0]])"
   ]
  },
  {
   "cell_type": "code",
   "execution_count": 32,
   "metadata": {},
   "outputs": [
    {
     "data": {
      "text/html": [
       "<table>\n",
       "    <thead>\n",
       "        <tr>\n",
       "            <th>Location</th>\n",
       "            <th>Names</th>\n",
       "            <th>Won Counts</th>\n",
       "        </tr>\n",
       "    </thead>\n",
       "    <tbody>\n",
       "        <tr>\n",
       "            <td>Location 5</td>\n",
       "            <td>Rahul Bajpai Rudraksh Sharma</td>\n",
       "            <td>70</td>\n",
       "        </tr>\n",
       "        <tr>\n",
       "            <td>Location 1</td>\n",
       "            <td>neeraj kumar Molly Eakes</td>\n",
       "            <td>54</td>\n",
       "        </tr>\n",
       "        <tr>\n",
       "            <td>Location 10</td>\n",
       "            <td>Long Bergstrom Russell Dahlen</td>\n",
       "            <td>53</td>\n",
       "        </tr>\n",
       "        <tr>\n",
       "            <td>Location 11</td>\n",
       "            <td>Long Bergstrom Jewell Tunstall</td>\n",
       "            <td>30</td>\n",
       "        </tr>\n",
       "        <tr>\n",
       "            <td>Location 3</td>\n",
       "            <td>Ekta Zutshi Jean Sappington</td>\n",
       "            <td>29</td>\n",
       "        </tr>\n",
       "        <tr>\n",
       "            <td>Others</td>\n",
       "            <td>Ankita Aggarwal Desmond Krout</td>\n",
       "            <td>22</td>\n",
       "        </tr>\n",
       "        <tr>\n",
       "            <td>Location 4</td>\n",
       "            <td>Ekta Zutshi Gayle Molter</td>\n",
       "            <td>19</td>\n",
       "        </tr>\n",
       "        <tr>\n",
       "            <td>Location 9</td>\n",
       "            <td>Sargar Deep Rao Manpreet Singh</td>\n",
       "            <td>10</td>\n",
       "        </tr>\n",
       "        <tr>\n",
       "            <td>Location 6</td>\n",
       "            <td>som dutt Roop Sachdeva</td>\n",
       "            <td>7</td>\n",
       "        </tr>\n",
       "        <tr>\n",
       "            <td>Location 7</td>\n",
       "            <td>Long Bergstrom Ayusha Gupta</td>\n",
       "            <td>6</td>\n",
       "        </tr>\n",
       "        <tr>\n",
       "            <td>Location 12</td>\n",
       "            <td>Long Bergstrom Karna Bhuvennant</td>\n",
       "            <td>6</td>\n",
       "        </tr>\n",
       "        <tr>\n",
       "            <td>Location 8</td>\n",
       "            <td>Hardeep Suksma Tarun Garg</td>\n",
       "            <td>1</td>\n",
       "        </tr>\n",
       "        <tr>\n",
       "            <td>Location 2</td>\n",
       "            <td>Sargar Deep Rao Darla Dickinson</td>\n",
       "            <td>1</td>\n",
       "        </tr>\n",
       "    </tbody>\n",
       "</table>"
      ],
      "text/plain": [
       "+-------------+---------------------------------+------------+\n",
       "|   Location  |              Names              | Won Counts |\n",
       "+-------------+---------------------------------+------------+\n",
       "|  Location 5 |   Rahul Bajpai Rudraksh Sharma  |     70     |\n",
       "|  Location 1 |     neeraj kumar Molly Eakes    |     54     |\n",
       "| Location 10 |  Long Bergstrom Russell Dahlen  |     53     |\n",
       "| Location 11 |  Long Bergstrom Jewell Tunstall |     30     |\n",
       "|  Location 3 |   Ekta Zutshi Jean Sappington   |     29     |\n",
       "|    Others   |  Ankita Aggarwal Desmond Krout  |     22     |\n",
       "|  Location 4 |     Ekta Zutshi Gayle Molter    |     19     |\n",
       "|  Location 9 |  Sargar Deep Rao Manpreet Singh |     10     |\n",
       "|  Location 6 |      som dutt Roop Sachdeva     |     7      |\n",
       "|  Location 7 |   Long Bergstrom Ayusha Gupta   |     6      |\n",
       "| Location 12 | Long Bergstrom Karna Bhuvennant |     6      |\n",
       "|  Location 8 |    Hardeep Suksma Tarun Garg    |     1      |\n",
       "|  Location 2 | Sargar Deep Rao Darla Dickinson |     1      |\n",
       "+-------------+---------------------------------+------------+"
      ]
     },
     "execution_count": 32,
     "metadata": {},
     "output_type": "execute_result"
    }
   ],
   "source": [
    "loc_table.sortby = 'Won Counts'\n",
    "loc_table.reversesort = True\n",
    "loc_table"
   ]
  },
  {
   "cell_type": "markdown",
   "metadata": {},
   "source": [
    "# VP Name"
   ]
  },
  {
   "cell_type": "code",
   "execution_count": 33,
   "metadata": {},
   "outputs": [
    {
     "data": {
      "image/png": "[encoded data removed]",
      "text/plain": [
       "<Figure size 1224x576 with 1 Axes>"
      ]
     },
     "metadata": {
      "needs_background": "light"
     },
     "output_type": "display_data"
    }
   ],
   "source": [
    "plt.figure(figsize=(17,8))\n",
    "ax = sns.countplot(x = \"VP Name\", hue = \"Deal Status Code\", data = df)\n",
    "ax.set_xticklabels(ax.get_xticklabels(), rotation=80, ha=\"right\")\n",
    "plt.tight_layout()\n",
    "plt.show()"
   ]
  },
  {
   "cell_type": "code",
   "execution_count": 34,
   "metadata": {},
   "outputs": [
    {
     "data": {
      "text/html": [
       "<div>\n",
       "<style scoped>\n",
       "    .dataframe tbody tr th:only-of-type {\n",
       "        vertical-align: middle;\n",
       "    }\n",
       "\n",
       "    .dataframe tbody tr th {\n",
       "        vertical-align: top;\n",
       "    }\n",
       "\n",
       "    .dataframe thead th {\n",
       "        text-align: right;\n",
       "    }\n",
       "</style>\n",
       "<table border=\"1\" class=\"dataframe\">\n",
       "  <thead>\n",
       "    <tr style=\"text-align: right;\">\n",
       "      <th>Deal Status Code</th>\n",
       "      <th>Lost</th>\n",
       "      <th>Won</th>\n",
       "      <th>Total</th>\n",
       "      <th>Win%</th>\n",
       "    </tr>\n",
       "    <tr>\n",
       "      <th>Name Pair</th>\n",
       "      <th></th>\n",
       "      <th></th>\n",
       "      <th></th>\n",
       "      <th></th>\n",
       "    </tr>\n",
       "  </thead>\n",
       "  <tbody>\n",
       "    <tr>\n",
       "      <th>som dutt som dutt</th>\n",
       "      <td>0</td>\n",
       "      <td>2</td>\n",
       "      <td>2</td>\n",
       "      <td>100.0</td>\n",
       "    </tr>\n",
       "    <tr>\n",
       "      <th>Hardeep Suksma Russell Dahlen</th>\n",
       "      <td>0</td>\n",
       "      <td>1</td>\n",
       "      <td>1</td>\n",
       "      <td>100.0</td>\n",
       "    </tr>\n",
       "    <tr>\n",
       "      <th>Jewell Tunstall pooran chand</th>\n",
       "      <td>0</td>\n",
       "      <td>1</td>\n",
       "      <td>1</td>\n",
       "      <td>100.0</td>\n",
       "    </tr>\n",
       "    <tr>\n",
       "      <th>Jewell Tunstall Anchal Pandey</th>\n",
       "      <td>0</td>\n",
       "      <td>2</td>\n",
       "      <td>2</td>\n",
       "      <td>100.0</td>\n",
       "    </tr>\n",
       "    <tr>\n",
       "      <th>Hardeep Suksma vansu dev</th>\n",
       "      <td>0</td>\n",
       "      <td>6</td>\n",
       "      <td>6</td>\n",
       "      <td>100.0</td>\n",
       "    </tr>\n",
       "    <tr>\n",
       "      <th>Hardeep Suksma shyam kumar</th>\n",
       "      <td>0</td>\n",
       "      <td>1</td>\n",
       "      <td>1</td>\n",
       "      <td>100.0</td>\n",
       "    </tr>\n",
       "    <tr>\n",
       "      <th>Hardeep Suksma Waseem Khan</th>\n",
       "      <td>0</td>\n",
       "      <td>1</td>\n",
       "      <td>1</td>\n",
       "      <td>100.0</td>\n",
       "    </tr>\n",
       "    <tr>\n",
       "      <th>Son Mcconnaughy Anchal Pandey</th>\n",
       "      <td>0</td>\n",
       "      <td>1</td>\n",
       "      <td>1</td>\n",
       "      <td>100.0</td>\n",
       "    </tr>\n",
       "    <tr>\n",
       "      <th>Son Mcconnaughy Arti Bindra</th>\n",
       "      <td>0</td>\n",
       "      <td>1</td>\n",
       "      <td>1</td>\n",
       "      <td>100.0</td>\n",
       "    </tr>\n",
       "    <tr>\n",
       "      <th>Son Mcconnaughy Atul Chaudhary</th>\n",
       "      <td>0</td>\n",
       "      <td>1</td>\n",
       "      <td>1</td>\n",
       "      <td>100.0</td>\n",
       "    </tr>\n",
       "  </tbody>\n",
       "</table>\n",
       "</div>"
      ],
      "text/plain": [
       "Deal Status Code                Lost  Won  Total   Win%\n",
       "Name Pair                                              \n",
       "som dutt som dutt                  0    2      2  100.0\n",
       "Hardeep Suksma Russell Dahlen      0    1      1  100.0\n",
       "Jewell Tunstall pooran chand       0    1      1  100.0\n",
       "Jewell Tunstall Anchal Pandey      0    2      2  100.0\n",
       "Hardeep Suksma vansu dev           0    6      6  100.0\n",
       "Hardeep Suksma shyam kumar         0    1      1  100.0\n",
       "Hardeep Suksma Waseem Khan         0    1      1  100.0\n",
       "Son Mcconnaughy Anchal Pandey      0    1      1  100.0\n",
       "Son Mcconnaughy Arti Bindra        0    1      1  100.0\n",
       "Son Mcconnaughy Atul Chaudhary     0    1      1  100.0"
      ]
     },
     "execution_count": 34,
     "metadata": {},
     "output_type": "execute_result"
    }
   ],
   "source": [
    "#Win%age of VP Name column\n",
    "Win_Ratio=pd.crosstab(df[\"Name Pair\"],df['Deal Status Code'])\n",
    "Win_Ratio['Total']=(Win_Ratio['Won']+Win_Ratio['Lost'])\n",
    "Win_Ratio['Win%']=(Win_Ratio['Won']*100)/(Win_Ratio['Total'])\n",
    "Win_Ratio.sort_values(by=['Win%'],ascending=False).head(10)"
   ]
  },
  {
   "cell_type": "markdown",
   "metadata": {},
   "source": [
    "# LOST % & LOST COUNTS WRT TO VP, MANAGER NAME COMBO."
   ]
  },
  {
   "cell_type": "markdown",
   "metadata": {},
   "source": [
    "# Client Category"
   ]
  },
  {
   "cell_type": "code",
   "execution_count": 35,
   "metadata": {},
   "outputs": [
    {
     "data": {
      "text/html": [
       "<div>\n",
       "<style scoped>\n",
       "    .dataframe tbody tr th:only-of-type {\n",
       "        vertical-align: middle;\n",
       "    }\n",
       "\n",
       "    .dataframe tbody tr th {\n",
       "        vertical-align: top;\n",
       "    }\n",
       "\n",
       "    .dataframe thead th {\n",
       "        text-align: right;\n",
       "    }\n",
       "</style>\n",
       "<table border=\"1\" class=\"dataframe\">\n",
       "  <thead>\n",
       "    <tr style=\"text-align: right;\">\n",
       "      <th>Deal Status Code</th>\n",
       "      <th>Lost</th>\n",
       "      <th>Won</th>\n",
       "      <th>Total</th>\n",
       "      <th>Lost%</th>\n",
       "    </tr>\n",
       "    <tr>\n",
       "      <th>Client Category</th>\n",
       "      <th></th>\n",
       "      <th></th>\n",
       "      <th></th>\n",
       "      <th></th>\n",
       "    </tr>\n",
       "  </thead>\n",
       "  <tbody>\n",
       "    <tr>\n",
       "      <th>International Org</th>\n",
       "      <td>22</td>\n",
       "      <td>3</td>\n",
       "      <td>25</td>\n",
       "      <td>88.000000</td>\n",
       "    </tr>\n",
       "    <tr>\n",
       "      <th>Tax_audit</th>\n",
       "      <td>6</td>\n",
       "      <td>1</td>\n",
       "      <td>7</td>\n",
       "      <td>85.714286</td>\n",
       "    </tr>\n",
       "    <tr>\n",
       "      <th>Retail_market</th>\n",
       "      <td>106</td>\n",
       "      <td>20</td>\n",
       "      <td>126</td>\n",
       "      <td>84.126984</td>\n",
       "    </tr>\n",
       "    <tr>\n",
       "      <th>Airpline</th>\n",
       "      <td>22</td>\n",
       "      <td>5</td>\n",
       "      <td>27</td>\n",
       "      <td>81.481481</td>\n",
       "    </tr>\n",
       "    <tr>\n",
       "      <th>Logistics</th>\n",
       "      <td>16</td>\n",
       "      <td>4</td>\n",
       "      <td>20</td>\n",
       "      <td>80.000000</td>\n",
       "    </tr>\n",
       "    <tr>\n",
       "      <th>Medical</th>\n",
       "      <td>4</td>\n",
       "      <td>1</td>\n",
       "      <td>5</td>\n",
       "      <td>80.000000</td>\n",
       "    </tr>\n",
       "    <tr>\n",
       "      <th>Hospitality</th>\n",
       "      <td>94</td>\n",
       "      <td>25</td>\n",
       "      <td>119</td>\n",
       "      <td>78.991597</td>\n",
       "    </tr>\n",
       "    <tr>\n",
       "      <th>Govt Bank Special</th>\n",
       "      <td>32</td>\n",
       "      <td>9</td>\n",
       "      <td>41</td>\n",
       "      <td>78.048780</td>\n",
       "    </tr>\n",
       "    <tr>\n",
       "      <th>Domestic Public Bank</th>\n",
       "      <td>324</td>\n",
       "      <td>95</td>\n",
       "      <td>419</td>\n",
       "      <td>77.326969</td>\n",
       "    </tr>\n",
       "    <tr>\n",
       "      <th>Energy</th>\n",
       "      <td>28</td>\n",
       "      <td>9</td>\n",
       "      <td>37</td>\n",
       "      <td>75.675676</td>\n",
       "    </tr>\n",
       "  </tbody>\n",
       "</table>\n",
       "</div>"
      ],
      "text/plain": [
       "Deal Status Code      Lost  Won  Total      Lost%\n",
       "Client Category                                  \n",
       "International Org       22    3     25  88.000000\n",
       "Tax_audit                6    1      7  85.714286\n",
       "Retail_market          106   20    126  84.126984\n",
       "Airpline                22    5     27  81.481481\n",
       "Logistics               16    4     20  80.000000\n",
       "Medical                  4    1      5  80.000000\n",
       "Hospitality             94   25    119  78.991597\n",
       "Govt Bank Special       32    9     41  78.048780\n",
       "Domestic Public Bank   324   95    419  77.326969\n",
       "Energy                  28    9     37  75.675676"
      ]
     },
     "execution_count": 35,
     "metadata": {},
     "output_type": "execute_result"
    }
   ],
   "source": [
    "#Lost%age of Client Category column\n",
    "Win_Ratio=pd.crosstab(df['Client Category'],df['Deal Status Code'])\n",
    "Win_Ratio['Total']=(Win_Ratio['Lost']+Win_Ratio['Won'])\n",
    "Win_Ratio['Lost%']=(Win_Ratio['Lost']*100)/(Win_Ratio['Total'])\n",
    "Win_Ratio.sort_values(by=['Lost%'],ascending=False).head(10)"
   ]
  },
  {
   "cell_type": "code",
   "execution_count": 36,
   "metadata": {},
   "outputs": [
    {
     "data": {
      "text/html": [
       "<div>\n",
       "<style scoped>\n",
       "    .dataframe tbody tr th:only-of-type {\n",
       "        vertical-align: middle;\n",
       "    }\n",
       "\n",
       "    .dataframe tbody tr th {\n",
       "        vertical-align: top;\n",
       "    }\n",
       "\n",
       "    .dataframe thead th {\n",
       "        text-align: right;\n",
       "    }\n",
       "</style>\n",
       "<table border=\"1\" class=\"dataframe\">\n",
       "  <thead>\n",
       "    <tr style=\"text-align: right;\">\n",
       "      <th></th>\n",
       "      <th>Name Pair</th>\n",
       "      <th>Client Category</th>\n",
       "    </tr>\n",
       "  </thead>\n",
       "  <tbody>\n",
       "    <tr>\n",
       "      <th>2</th>\n",
       "      <td>Ekta Zutshi Russell Dahlen</td>\n",
       "      <td>Internal</td>\n",
       "    </tr>\n",
       "    <tr>\n",
       "      <th>3</th>\n",
       "      <td>Ekta Zutshi Russell Dahlen</td>\n",
       "      <td>Internal</td>\n",
       "    </tr>\n",
       "    <tr>\n",
       "      <th>4</th>\n",
       "      <td>Ekta Zutshi Russell Dahlen</td>\n",
       "      <td>Internal</td>\n",
       "    </tr>\n",
       "    <tr>\n",
       "      <th>5</th>\n",
       "      <td>Ekta Zutshi Russell Dahlen</td>\n",
       "      <td>Internal</td>\n",
       "    </tr>\n",
       "    <tr>\n",
       "      <th>7</th>\n",
       "      <td>Sargar Deep Rao Vidur Hukle</td>\n",
       "      <td>Govt</td>\n",
       "    </tr>\n",
       "  </tbody>\n",
       "</table>\n",
       "</div>"
      ],
      "text/plain": [
       "                     Name Pair Client Category\n",
       "2   Ekta Zutshi Russell Dahlen        Internal\n",
       "3   Ekta Zutshi Russell Dahlen        Internal\n",
       "4   Ekta Zutshi Russell Dahlen        Internal\n",
       "5   Ekta Zutshi Russell Dahlen        Internal\n",
       "7  Sargar Deep Rao Vidur Hukle            Govt"
      ]
     },
     "execution_count": 36,
     "metadata": {},
     "output_type": "execute_result"
    }
   ],
   "source": [
    "cc_df_lost = df[df[\"Deal Status Code\"]==\"Lost\"][[\"Name Pair\",\"Client Category\"]]\n",
    "cc_df_lost.head()"
   ]
  },
  {
   "cell_type": "code",
   "execution_count": 37,
   "metadata": {},
   "outputs": [
    {
     "data": {
      "text/plain": [
       "Series([], Name: Name Pair, dtype: int64)"
      ]
     },
     "execution_count": 37,
     "metadata": {},
     "output_type": "execute_result"
    }
   ],
   "source": [
    "cc_df_lost[cc_df_lost[\"Client Category\"]==\"nan\"][\"Name Pair\"].value_counts()"
   ]
  },
  {
   "cell_type": "code",
   "execution_count": 38,
   "metadata": {},
   "outputs": [
    {
     "data": {
      "text/plain": [
       "array(['Internal', 'Govt', 'Manufacturing', 'Finance', 'Services_based',\n",
       "       'Others', 'Hospitality', 'Telecom', 'Research Development',\n",
       "       'Retail_market', 'Energy ', 'Domestic Private Bank', 'Industries',\n",
       "       'International Bank', 'Consulting', 'Domestic Bank', 'Automobiles',\n",
       "       'Tech', 'Medical ', 'Infrastructure', 'Domestic Public Bank',\n",
       "       'Holding', 'Logistics', 'Insurance', 'Energy', 'Power ind',\n",
       "       'International Org', 'Payment', 'Real Estate', 'Pharma',\n",
       "       'Consumer Good', nan, 'Govt Bank Special', 'Media_Journal',\n",
       "       'Tax_audit', 'Knowledge', 'Healthcare', 'Airpline', 'Electronics',\n",
       "       'Management', 'e-commerce', 'Share_market'], dtype=object)"
      ]
     },
     "execution_count": 38,
     "metadata": {},
     "output_type": "execute_result"
    }
   ],
   "source": [
    "cc_df_lost[\"Client Category\"].unique()"
   ]
  },
  {
   "cell_type": "code",
   "execution_count": 39,
   "metadata": {},
   "outputs": [],
   "source": [
    "cc_uniq_list = ['Telecom', 'Internal', 'Consumer Good', 'International Bank',\n",
    "       'Domestic Public Bank', 'Finance', 'Research Development',\n",
    "       'Services_based', 'Consulting', 'Others', 'Manufacturing', 'Tech',\n",
    "       'Domestic Private Bank', 'Healthcare', 'Electronics',\n",
    "       'Automobiles', 'Industries', 'Domestic Bank', 'Pharma',\n",
    "       'Power ind', 'Hospitality', 'Insurance', 'Payment',\n",
    "       'Govt Bank Special', 'Management', 'Media_Journal',\n",
    "       'Retail_market', 'Infrastructure', 'Energy', 'Govt',\n",
    "       'Tax_audit', 'Share_market', 'Logistics', 'Knowledge', 'Energy ',\n",
    "       'Airpline', 'e-commerce', 'Holding', 'Real Estate',\n",
    "       'International Org', 'Medical ']"
   ]
  },
  {
   "cell_type": "code",
   "execution_count": 40,
   "metadata": {},
   "outputs": [],
   "source": [
    "cc_table_lost=pt([\"Client Category\",\"Names\",\"Lost Counts\"])\n",
    "for i in cc_uniq_list:\n",
    "    cc_table_lost.add_row([i,cc_df_lost[cc_df_lost[\"Client Category\"]==i][\"Name Pair\"].value_counts().index[0],cc_df_lost[cc_df_lost[\"Client Category\"]==i][\"Name Pair\"].value_counts()[0]])"
   ]
  },
  {
   "cell_type": "code",
   "execution_count": 41,
   "metadata": {},
   "outputs": [
    {
     "data": {
      "text/html": [
       "<table>\n",
       "    <thead>\n",
       "        <tr>\n",
       "            <th>Client Category</th>\n",
       "            <th>Names</th>\n",
       "            <th>Lost Counts</th>\n",
       "        </tr>\n",
       "    </thead>\n",
       "    <tbody>\n",
       "        <tr>\n",
       "            <td>Internal</td>\n",
       "            <td>Ankita Aggarwal Desmond Krout</td>\n",
       "            <td>70</td>\n",
       "        </tr>\n",
       "        <tr>\n",
       "            <td>Domestic Public Bank</td>\n",
       "            <td>Ankita Aggarwal Manish Saundriyal</td>\n",
       "            <td>52</td>\n",
       "        </tr>\n",
       "        <tr>\n",
       "            <td>Hospitality</td>\n",
       "            <td>Sargar Deep Rao Manpreet Singh</td>\n",
       "            <td>40</td>\n",
       "        </tr>\n",
       "        <tr>\n",
       "            <td>Others</td>\n",
       "            <td>Rahul Bajpai Rudraksh Sharma</td>\n",
       "            <td>32</td>\n",
       "        </tr>\n",
       "        <tr>\n",
       "            <td>Tech</td>\n",
       "            <td>neeraj kumar Rayford Durgan</td>\n",
       "            <td>24</td>\n",
       "        </tr>\n",
       "        <tr>\n",
       "            <td>Services_based</td>\n",
       "            <td>Ankita Aggarwal Desmond Krout</td>\n",
       "            <td>24</td>\n",
       "        </tr>\n",
       "        <tr>\n",
       "            <td>Domestic Private Bank</td>\n",
       "            <td>Rosanna Maynez Abhinav Warrier</td>\n",
       "            <td>20</td>\n",
       "        </tr>\n",
       "        <tr>\n",
       "            <td>Consulting</td>\n",
       "            <td>neeraj kumar Molly Eakes</td>\n",
       "            <td>20</td>\n",
       "        </tr>\n",
       "        <tr>\n",
       "            <td>Telecom</td>\n",
       "            <td>Sargar Deep Rao Gopa Trilochana</td>\n",
       "            <td>18</td>\n",
       "        </tr>\n",
       "        <tr>\n",
       "            <td>Govt</td>\n",
       "            <td>Mervin Harwood Akshay Sharma</td>\n",
       "            <td>16</td>\n",
       "        </tr>\n",
       "        <tr>\n",
       "            <td>Consumer Good</td>\n",
       "            <td>Rahul Bajpai Rudraksh Sharma</td>\n",
       "            <td>16</td>\n",
       "        </tr>\n",
       "        <tr>\n",
       "            <td>Retail_market</td>\n",
       "            <td>Mervin Harwood nahar singh</td>\n",
       "            <td>12</td>\n",
       "        </tr>\n",
       "        <tr>\n",
       "            <td>Insurance</td>\n",
       "            <td>Mangesh K. Singh ram kumar</td>\n",
       "            <td>12</td>\n",
       "        </tr>\n",
       "        <tr>\n",
       "            <td>Manufacturing</td>\n",
       "            <td>Mangesh K. Singh ram kumar</td>\n",
       "            <td>10</td>\n",
       "        </tr>\n",
       "        <tr>\n",
       "            <td>Automobiles</td>\n",
       "            <td>Mangesh K. Singh Kamelesh Srinivasan</td>\n",
       "            <td>10</td>\n",
       "        </tr>\n",
       "        <tr>\n",
       "            <td>Power ind</td>\n",
       "            <td>Rahul Bajpai Rudraksh Sharma</td>\n",
       "            <td>8</td>\n",
       "        </tr>\n",
       "        <tr>\n",
       "            <td>Payment</td>\n",
       "            <td>Mervin Harwood Clinton Mani</td>\n",
       "            <td>8</td>\n",
       "        </tr>\n",
       "        <tr>\n",
       "            <td>International Bank</td>\n",
       "            <td>Mervin Harwood Lino Batterton</td>\n",
       "            <td>8</td>\n",
       "        </tr>\n",
       "        <tr>\n",
       "            <td>Govt Bank Special</td>\n",
       "            <td>Mervin Harwood Somnath Mukherji</td>\n",
       "            <td>8</td>\n",
       "        </tr>\n",
       "        <tr>\n",
       "            <td>Finance</td>\n",
       "            <td>Long Bergstrom Anand S. Pandey</td>\n",
       "            <td>8</td>\n",
       "        </tr>\n",
       "        <tr>\n",
       "            <td>Electronics</td>\n",
       "            <td>Rahul Bajpai Rudraksh Sharma</td>\n",
       "            <td>8</td>\n",
       "        </tr>\n",
       "        <tr>\n",
       "            <td>Domestic Bank</td>\n",
       "            <td>Rosanna Maynez Md. Daud</td>\n",
       "            <td>8</td>\n",
       "        </tr>\n",
       "        <tr>\n",
       "            <td>e-commerce</td>\n",
       "            <td>Mangesh K. Singh ram kumar</td>\n",
       "            <td>6</td>\n",
       "        </tr>\n",
       "        <tr>\n",
       "            <td>Research Development</td>\n",
       "            <td>Long Bergstrom Jewell Tunstall</td>\n",
       "            <td>6</td>\n",
       "        </tr>\n",
       "        <tr>\n",
       "            <td>Pharma</td>\n",
       "            <td>Russell Dahlen Siddhant Gaur</td>\n",
       "            <td>6</td>\n",
       "        </tr>\n",
       "        <tr>\n",
       "            <td>Infrastructure</td>\n",
       "            <td>Earline Langton Jayadev Mitali</td>\n",
       "            <td>6</td>\n",
       "        </tr>\n",
       "        <tr>\n",
       "            <td>Media_Journal</td>\n",
       "            <td>Son Mcconnaughy mohd khairul</td>\n",
       "            <td>4</td>\n",
       "        </tr>\n",
       "        <tr>\n",
       "            <td>Management</td>\n",
       "            <td>Mervin Harwood Rosana Yokum</td>\n",
       "            <td>4</td>\n",
       "        </tr>\n",
       "        <tr>\n",
       "            <td>Knowledge</td>\n",
       "            <td>Mangesh K. Singh Gayle Molter</td>\n",
       "            <td>4</td>\n",
       "        </tr>\n",
       "        <tr>\n",
       "            <td>Industries</td>\n",
       "            <td>Rosanna Maynez Abhinav Warrier</td>\n",
       "            <td>4</td>\n",
       "        </tr>\n",
       "        <tr>\n",
       "            <td>Healthcare</td>\n",
       "            <td>Brendon Wycoff Vikrant Soneja</td>\n",
       "            <td>4</td>\n",
       "        </tr>\n",
       "        <tr>\n",
       "            <td>Energy </td>\n",
       "            <td>Sargar Deep Rao Sang Ingle</td>\n",
       "            <td>4</td>\n",
       "        </tr>\n",
       "        <tr>\n",
       "            <td>Tax_audit</td>\n",
       "            <td>Rahul Bajpai Vidur Hukle</td>\n",
       "            <td>2</td>\n",
       "        </tr>\n",
       "        <tr>\n",
       "            <td>Share_market</td>\n",
       "            <td>som dutt Marcelo Riles</td>\n",
       "            <td>2</td>\n",
       "        </tr>\n",
       "        <tr>\n",
       "            <td>Real Estate</td>\n",
       "            <td>Ekta Zutshi shafibul</td>\n",
       "            <td>2</td>\n",
       "        </tr>\n",
       "        <tr>\n",
       "            <td>Medical </td>\n",
       "            <td>Rosanna Maynez Marcella Mo</td>\n",
       "            <td>2</td>\n",
       "        </tr>\n",
       "        <tr>\n",
       "            <td>Logistics</td>\n",
       "            <td>Sargar Deep Rao Rudraksh Sharma</td>\n",
       "            <td>2</td>\n",
       "        </tr>\n",
       "        <tr>\n",
       "            <td>International Org</td>\n",
       "            <td>Long Bergstrom Anand S. Pandey</td>\n",
       "            <td>2</td>\n",
       "        </tr>\n",
       "        <tr>\n",
       "            <td>Holding</td>\n",
       "            <td>Mervin Harwood Lino Batterton</td>\n",
       "            <td>2</td>\n",
       "        </tr>\n",
       "        <tr>\n",
       "            <td>Energy</td>\n",
       "            <td>Sargar Deep Rao Anoop Jatley</td>\n",
       "            <td>2</td>\n",
       "        </tr>\n",
       "        <tr>\n",
       "            <td>Airpline</td>\n",
       "            <td>Rosanna Maynez Molly Eakes</td>\n",
       "            <td>2</td>\n",
       "        </tr>\n",
       "    </tbody>\n",
       "</table>"
      ],
      "text/plain": [
       "+-----------------------+--------------------------------------+-------------+\n",
       "|    Client Category    |                Names                 | Lost Counts |\n",
       "+-----------------------+--------------------------------------+-------------+\n",
       "|        Internal       |    Ankita Aggarwal Desmond Krout     |      70     |\n",
       "|  Domestic Public Bank |  Ankita Aggarwal Manish Saundriyal   |      52     |\n",
       "|      Hospitality      |    Sargar Deep Rao Manpreet Singh    |      40     |\n",
       "|         Others        |     Rahul Bajpai Rudraksh Sharma     |      32     |\n",
       "|          Tech         |     neeraj kumar Rayford Durgan      |      24     |\n",
       "|     Services_based    |    Ankita Aggarwal Desmond Krout     |      24     |\n",
       "| Domestic Private Bank |    Rosanna Maynez Abhinav Warrier    |      20     |\n",
       "|       Consulting      |       neeraj kumar Molly Eakes       |      20     |\n",
       "|        Telecom        |   Sargar Deep Rao Gopa Trilochana    |      18     |\n",
       "|          Govt         |     Mervin Harwood Akshay Sharma     |      16     |\n",
       "|     Consumer Good     |     Rahul Bajpai Rudraksh Sharma     |      16     |\n",
       "|     Retail_market     |      Mervin Harwood nahar singh      |      12     |\n",
       "|       Insurance       |      Mangesh K. Singh ram kumar      |      12     |\n",
       "|     Manufacturing     |      Mangesh K. Singh ram kumar      |      10     |\n",
       "|      Automobiles      | Mangesh K. Singh Kamelesh Srinivasan |      10     |\n",
       "|       Power ind       |     Rahul Bajpai Rudraksh Sharma     |      8      |\n",
       "|        Payment        |     Mervin Harwood Clinton Mani      |      8      |\n",
       "|   International Bank  |    Mervin Harwood Lino Batterton     |      8      |\n",
       "|   Govt Bank Special   |   Mervin Harwood Somnath Mukherji    |      8      |\n",
       "|        Finance        |    Long Bergstrom Anand S. Pandey    |      8      |\n",
       "|      Electronics      |     Rahul Bajpai Rudraksh Sharma     |      8      |\n",
       "|     Domestic Bank     |       Rosanna Maynez Md. Daud        |      8      |\n",
       "|       e-commerce      |      Mangesh K. Singh ram kumar      |      6      |\n",
       "|  Research Development |    Long Bergstrom Jewell Tunstall    |      6      |\n",
       "|         Pharma        |     Russell Dahlen Siddhant Gaur     |      6      |\n",
       "|     Infrastructure    |    Earline Langton Jayadev Mitali    |      6      |\n",
       "|     Media_Journal     |     Son Mcconnaughy mohd khairul     |      4      |\n",
       "|       Management      |     Mervin Harwood Rosana Yokum      |      4      |\n",
       "|       Knowledge       |    Mangesh K. Singh Gayle Molter     |      4      |\n",
       "|       Industries      |    Rosanna Maynez Abhinav Warrier    |      4      |\n",
       "|       Healthcare      |    Brendon Wycoff Vikrant Soneja     |      4      |\n",
       "|        Energy         |      Sargar Deep Rao Sang Ingle      |      4      |\n",
       "|       Tax_audit       |       Rahul Bajpai Vidur Hukle       |      2      |\n",
       "|      Share_market     |        som dutt Marcelo Riles        |      2      |\n",
       "|      Real Estate      |         Ekta Zutshi shafibul         |      2      |\n",
       "|        Medical        |      Rosanna Maynez Marcella Mo      |      2      |\n",
       "|       Logistics       |   Sargar Deep Rao Rudraksh Sharma    |      2      |\n",
       "|   International Org   |    Long Bergstrom Anand S. Pandey    |      2      |\n",
       "|        Holding        |    Mervin Harwood Lino Batterton     |      2      |\n",
       "|         Energy        |     Sargar Deep Rao Anoop Jatley     |      2      |\n",
       "|        Airpline       |      Rosanna Maynez Molly Eakes      |      2      |\n",
       "+-----------------------+--------------------------------------+-------------+"
      ]
     },
     "execution_count": 41,
     "metadata": {},
     "output_type": "execute_result"
    }
   ],
   "source": [
    "cc_table_lost.sortby = 'Lost Counts'\n",
    "cc_table_lost.reversesort = True\n",
    "cc_table_lost"
   ]
  },
  {
   "cell_type": "markdown",
   "metadata": {},
   "source": [
    "# Sector"
   ]
  },
  {
   "cell_type": "code",
   "execution_count": 42,
   "metadata": {},
   "outputs": [
    {
     "data": {
      "text/html": [
       "<div>\n",
       "<style scoped>\n",
       "    .dataframe tbody tr th:only-of-type {\n",
       "        vertical-align: middle;\n",
       "    }\n",
       "\n",
       "    .dataframe tbody tr th {\n",
       "        vertical-align: top;\n",
       "    }\n",
       "\n",
       "    .dataframe thead th {\n",
       "        text-align: right;\n",
       "    }\n",
       "</style>\n",
       "<table border=\"1\" class=\"dataframe\">\n",
       "  <thead>\n",
       "    <tr style=\"text-align: right;\">\n",
       "      <th>Deal Status Code</th>\n",
       "      <th>Lost</th>\n",
       "      <th>Won</th>\n",
       "      <th>Total</th>\n",
       "      <th>Lost%</th>\n",
       "    </tr>\n",
       "    <tr>\n",
       "      <th>Sector</th>\n",
       "      <th></th>\n",
       "      <th></th>\n",
       "      <th></th>\n",
       "      <th></th>\n",
       "    </tr>\n",
       "  </thead>\n",
       "  <tbody>\n",
       "    <tr>\n",
       "      <th>Sector 1</th>\n",
       "      <td>158</td>\n",
       "      <td>73</td>\n",
       "      <td>316</td>\n",
       "      <td>50.0</td>\n",
       "    </tr>\n",
       "    <tr>\n",
       "      <th>Sector 21</th>\n",
       "      <td>10</td>\n",
       "      <td>20</td>\n",
       "      <td>20</td>\n",
       "      <td>50.0</td>\n",
       "    </tr>\n",
       "    <tr>\n",
       "      <th>Sector 8</th>\n",
       "      <td>30</td>\n",
       "      <td>9</td>\n",
       "      <td>60</td>\n",
       "      <td>50.0</td>\n",
       "    </tr>\n",
       "    <tr>\n",
       "      <th>Sector 7</th>\n",
       "      <td>6</td>\n",
       "      <td>8</td>\n",
       "      <td>12</td>\n",
       "      <td>50.0</td>\n",
       "    </tr>\n",
       "    <tr>\n",
       "      <th>Sector 6</th>\n",
       "      <td>62</td>\n",
       "      <td>34</td>\n",
       "      <td>124</td>\n",
       "      <td>50.0</td>\n",
       "    </tr>\n",
       "    <tr>\n",
       "      <th>Sector 5</th>\n",
       "      <td>52</td>\n",
       "      <td>12</td>\n",
       "      <td>104</td>\n",
       "      <td>50.0</td>\n",
       "    </tr>\n",
       "    <tr>\n",
       "      <th>Sector 4</th>\n",
       "      <td>88</td>\n",
       "      <td>40</td>\n",
       "      <td>176</td>\n",
       "      <td>50.0</td>\n",
       "    </tr>\n",
       "    <tr>\n",
       "      <th>Sector 3</th>\n",
       "      <td>90</td>\n",
       "      <td>45</td>\n",
       "      <td>180</td>\n",
       "      <td>50.0</td>\n",
       "    </tr>\n",
       "    <tr>\n",
       "      <th>Sector 25</th>\n",
       "      <td>178</td>\n",
       "      <td>95</td>\n",
       "      <td>356</td>\n",
       "      <td>50.0</td>\n",
       "    </tr>\n",
       "    <tr>\n",
       "      <th>Sector 24</th>\n",
       "      <td>360</td>\n",
       "      <td>218</td>\n",
       "      <td>720</td>\n",
       "      <td>50.0</td>\n",
       "    </tr>\n",
       "  </tbody>\n",
       "</table>\n",
       "</div>"
      ],
      "text/plain": [
       "Deal Status Code  Lost  Won  Total  Lost%\n",
       "Sector                                   \n",
       "Sector 1           158   73    316   50.0\n",
       "Sector 21           10   20     20   50.0\n",
       "Sector 8            30    9     60   50.0\n",
       "Sector 7             6    8     12   50.0\n",
       "Sector 6            62   34    124   50.0\n",
       "Sector 5            52   12    104   50.0\n",
       "Sector 4            88   40    176   50.0\n",
       "Sector 3            90   45    180   50.0\n",
       "Sector 25          178   95    356   50.0\n",
       "Sector 24          360  218    720   50.0"
      ]
     },
     "execution_count": 42,
     "metadata": {},
     "output_type": "execute_result"
    }
   ],
   "source": [
    "#Lost%age of Sector column\n",
    "Win_Ratio=pd.crosstab(df['Sector'],df['Deal Status Code'])\n",
    "Win_Ratio['Total']=(Win_Ratio['Lost']+Win_Ratio['Lost'])\n",
    "Win_Ratio['Lost%']=(Win_Ratio['Lost']*100)/(Win_Ratio['Total'])\n",
    "Win_Ratio.sort_values(by=['Lost%'],ascending=False).head(10)"
   ]
  },
  {
   "cell_type": "code",
   "execution_count": 43,
   "metadata": {},
   "outputs": [
    {
     "data": {
      "text/html": [
       "<div>\n",
       "<style scoped>\n",
       "    .dataframe tbody tr th:only-of-type {\n",
       "        vertical-align: middle;\n",
       "    }\n",
       "\n",
       "    .dataframe tbody tr th {\n",
       "        vertical-align: top;\n",
       "    }\n",
       "\n",
       "    .dataframe thead th {\n",
       "        text-align: right;\n",
       "    }\n",
       "</style>\n",
       "<table border=\"1\" class=\"dataframe\">\n",
       "  <thead>\n",
       "    <tr style=\"text-align: right;\">\n",
       "      <th></th>\n",
       "      <th>Name Pair</th>\n",
       "      <th>Sector</th>\n",
       "    </tr>\n",
       "  </thead>\n",
       "  <tbody>\n",
       "    <tr>\n",
       "      <th>2</th>\n",
       "      <td>Ekta Zutshi Russell Dahlen</td>\n",
       "      <td>Sector 20</td>\n",
       "    </tr>\n",
       "    <tr>\n",
       "      <th>3</th>\n",
       "      <td>Ekta Zutshi Russell Dahlen</td>\n",
       "      <td>Sector 20</td>\n",
       "    </tr>\n",
       "    <tr>\n",
       "      <th>4</th>\n",
       "      <td>Ekta Zutshi Russell Dahlen</td>\n",
       "      <td>Sector 20</td>\n",
       "    </tr>\n",
       "    <tr>\n",
       "      <th>5</th>\n",
       "      <td>Ekta Zutshi Russell Dahlen</td>\n",
       "      <td>Sector 20</td>\n",
       "    </tr>\n",
       "    <tr>\n",
       "      <th>7</th>\n",
       "      <td>Sargar Deep Rao Vidur Hukle</td>\n",
       "      <td>Sector 13</td>\n",
       "    </tr>\n",
       "  </tbody>\n",
       "</table>\n",
       "</div>"
      ],
      "text/plain": [
       "                     Name Pair     Sector\n",
       "2   Ekta Zutshi Russell Dahlen  Sector 20\n",
       "3   Ekta Zutshi Russell Dahlen  Sector 20\n",
       "4   Ekta Zutshi Russell Dahlen  Sector 20\n",
       "5   Ekta Zutshi Russell Dahlen  Sector 20\n",
       "7  Sargar Deep Rao Vidur Hukle  Sector 13"
      ]
     },
     "execution_count": 43,
     "metadata": {},
     "output_type": "execute_result"
    }
   ],
   "source": [
    "sect_df_lost = df[df[\"Deal Status Code\"]==\"Lost\"][[\"Name Pair\",\"Sector\"]]\n",
    "sect_df_lost.head()"
   ]
  },
  {
   "cell_type": "code",
   "execution_count": 44,
   "metadata": {},
   "outputs": [],
   "source": [
    "sect_table_lost=pt([\"Sector\",\"Names\",\"Lost Counts\"])\n",
    "for i in range(1,len(sect_df_lost[\"Sector\"].unique())):\n",
    "    sect_table_lost.add_row([\"Sector {}\".format(i),sect_df_lost[sect_df_lost[\"Sector\"]==\"Sector {}\".format(i)][\"Name Pair\"].value_counts().index[0],sect_df_lost[sect_df_lost[\"Sector\"]==\"Sector {}\".format(i)][\"Name Pair\"].value_counts()[0]])"
   ]
  },
  {
   "cell_type": "code",
   "execution_count": 45,
   "metadata": {},
   "outputs": [
    {
     "data": {
      "text/html": [
       "<table>\n",
       "    <thead>\n",
       "        <tr>\n",
       "            <th>Sector</th>\n",
       "            <th>Names</th>\n",
       "            <th>Lost Counts</th>\n",
       "        </tr>\n",
       "    </thead>\n",
       "    <tbody>\n",
       "        <tr>\n",
       "            <td>Sector 23</td>\n",
       "            <td>neeraj kumar Molly Eakes</td>\n",
       "            <td>60</td>\n",
       "        </tr>\n",
       "        <tr>\n",
       "            <td>Sector 2</td>\n",
       "            <td>Ankita Aggarwal Manish Saundriyal</td>\n",
       "            <td>58</td>\n",
       "        </tr>\n",
       "        <tr>\n",
       "            <td>Sector 20</td>\n",
       "            <td>Ankita Aggarwal Desmond Krout</td>\n",
       "            <td>44</td>\n",
       "        </tr>\n",
       "        <tr>\n",
       "            <td>Sector 12</td>\n",
       "            <td>Sargar Deep Rao Manpreet Singh</td>\n",
       "            <td>38</td>\n",
       "        </tr>\n",
       "        <tr>\n",
       "            <td>Sector 24</td>\n",
       "            <td>Sargar Deep Rao Gopa Trilochana</td>\n",
       "            <td>28</td>\n",
       "        </tr>\n",
       "        <tr>\n",
       "            <td>Sector 4</td>\n",
       "            <td>Mervin Harwood Akshay Sharma</td>\n",
       "            <td>16</td>\n",
       "        </tr>\n",
       "        <tr>\n",
       "            <td>Sector 15</td>\n",
       "            <td>Rahul Bajpai Rudraksh Sharma</td>\n",
       "            <td>16</td>\n",
       "        </tr>\n",
       "        <tr>\n",
       "            <td>Sector 9</td>\n",
       "            <td>Sargar Deep Rao Vidur Hukle</td>\n",
       "            <td>14</td>\n",
       "        </tr>\n",
       "        <tr>\n",
       "            <td>Sector 17</td>\n",
       "            <td>Mervin Harwood Jackie Wolfson</td>\n",
       "            <td>14</td>\n",
       "        </tr>\n",
       "        <tr>\n",
       "            <td>Sector 16</td>\n",
       "            <td>Mangesh K. Singh ram kumar</td>\n",
       "            <td>12</td>\n",
       "        </tr>\n",
       "        <tr>\n",
       "            <td>Sector 18</td>\n",
       "            <td>Rahul Bajpai Rudraksh Sharma</td>\n",
       "            <td>10</td>\n",
       "        </tr>\n",
       "        <tr>\n",
       "            <td>Sector 1</td>\n",
       "            <td>Mangesh K. Singh Kamelesh Srinivasan</td>\n",
       "            <td>10</td>\n",
       "        </tr>\n",
       "        <tr>\n",
       "            <td>Sector 6</td>\n",
       "            <td>Rahul Bajpai Rudraksh Sharma</td>\n",
       "            <td>8</td>\n",
       "        </tr>\n",
       "        <tr>\n",
       "            <td>Sector 3</td>\n",
       "            <td>Long Bergstrom Karna Bhuvennant</td>\n",
       "            <td>8</td>\n",
       "        </tr>\n",
       "        <tr>\n",
       "            <td>Sector 22</td>\n",
       "            <td>Gopa Trilochana Darla Dickinson</td>\n",
       "            <td>8</td>\n",
       "        </tr>\n",
       "        <tr>\n",
       "            <td>Sector 21</td>\n",
       "            <td>Long Bergstrom Anand S. Pandey</td>\n",
       "            <td>8</td>\n",
       "        </tr>\n",
       "        <tr>\n",
       "            <td>Sector 8</td>\n",
       "            <td>Long Bergstrom Karna Bhuvennant</td>\n",
       "            <td>6</td>\n",
       "        </tr>\n",
       "        <tr>\n",
       "            <td>Sector 5</td>\n",
       "            <td>Ankita Aggarwal Desmond Krout</td>\n",
       "            <td>6</td>\n",
       "        </tr>\n",
       "        <tr>\n",
       "            <td>Sector 19</td>\n",
       "            <td>Sargar Deep Rao Rahul Kocher</td>\n",
       "            <td>6</td>\n",
       "        </tr>\n",
       "        <tr>\n",
       "            <td>Sector 13</td>\n",
       "            <td>Earline Langton Jayadev Mitali</td>\n",
       "            <td>6</td>\n",
       "        </tr>\n",
       "        <tr>\n",
       "            <td>Sector 11</td>\n",
       "            <td>Rahul Bajpai Gaurav Sameria</td>\n",
       "            <td>6</td>\n",
       "        </tr>\n",
       "        <tr>\n",
       "            <td>Sector 14</td>\n",
       "            <td>Mangesh K. Singh Molly Eakes</td>\n",
       "            <td>4</td>\n",
       "        </tr>\n",
       "        <tr>\n",
       "            <td>Sector 7</td>\n",
       "            <td>Gaurav Sameria Vishvajeet Kumar</td>\n",
       "            <td>2</td>\n",
       "        </tr>\n",
       "        <tr>\n",
       "            <td>Sector 10</td>\n",
       "            <td>Earline Langton Mannan Upadhiya</td>\n",
       "            <td>2</td>\n",
       "        </tr>\n",
       "    </tbody>\n",
       "</table>"
      ],
      "text/plain": [
       "+-----------+--------------------------------------+-------------+\n",
       "|   Sector  |                Names                 | Lost Counts |\n",
       "+-----------+--------------------------------------+-------------+\n",
       "| Sector 23 |       neeraj kumar Molly Eakes       |      60     |\n",
       "|  Sector 2 |  Ankita Aggarwal Manish Saundriyal   |      58     |\n",
       "| Sector 20 |    Ankita Aggarwal Desmond Krout     |      44     |\n",
       "| Sector 12 |    Sargar Deep Rao Manpreet Singh    |      38     |\n",
       "| Sector 24 |   Sargar Deep Rao Gopa Trilochana    |      28     |\n",
       "|  Sector 4 |     Mervin Harwood Akshay Sharma     |      16     |\n",
       "| Sector 15 |     Rahul Bajpai Rudraksh Sharma     |      16     |\n",
       "|  Sector 9 |     Sargar Deep Rao Vidur Hukle      |      14     |\n",
       "| Sector 17 |    Mervin Harwood Jackie Wolfson     |      14     |\n",
       "| Sector 16 |      Mangesh K. Singh ram kumar      |      12     |\n",
       "| Sector 18 |     Rahul Bajpai Rudraksh Sharma     |      10     |\n",
       "|  Sector 1 | Mangesh K. Singh Kamelesh Srinivasan |      10     |\n",
       "|  Sector 6 |     Rahul Bajpai Rudraksh Sharma     |      8      |\n",
       "|  Sector 3 |   Long Bergstrom Karna Bhuvennant    |      8      |\n",
       "| Sector 22 |   Gopa Trilochana Darla Dickinson    |      8      |\n",
       "| Sector 21 |    Long Bergstrom Anand S. Pandey    |      8      |\n",
       "|  Sector 8 |   Long Bergstrom Karna Bhuvennant    |      6      |\n",
       "|  Sector 5 |    Ankita Aggarwal Desmond Krout     |      6      |\n",
       "| Sector 19 |     Sargar Deep Rao Rahul Kocher     |      6      |\n",
       "| Sector 13 |    Earline Langton Jayadev Mitali    |      6      |\n",
       "| Sector 11 |     Rahul Bajpai Gaurav Sameria      |      6      |\n",
       "| Sector 14 |     Mangesh K. Singh Molly Eakes     |      4      |\n",
       "|  Sector 7 |   Gaurav Sameria Vishvajeet Kumar    |      2      |\n",
       "| Sector 10 |   Earline Langton Mannan Upadhiya    |      2      |\n",
       "+-----------+--------------------------------------+-------------+"
      ]
     },
     "execution_count": 45,
     "metadata": {},
     "output_type": "execute_result"
    }
   ],
   "source": [
    "sect_table_lost.sortby = 'Lost Counts'\n",
    "sect_table_lost.reversesort = True\n",
    "sect_table_lost"
   ]
  },
  {
   "cell_type": "markdown",
   "metadata": {},
   "source": [
    "# Location"
   ]
  },
  {
   "cell_type": "code",
   "execution_count": 46,
   "metadata": {},
   "outputs": [
    {
     "data": {
      "text/html": [
       "<div>\n",
       "<style scoped>\n",
       "    .dataframe tbody tr th:only-of-type {\n",
       "        vertical-align: middle;\n",
       "    }\n",
       "\n",
       "    .dataframe tbody tr th {\n",
       "        vertical-align: top;\n",
       "    }\n",
       "\n",
       "    .dataframe thead th {\n",
       "        text-align: right;\n",
       "    }\n",
       "</style>\n",
       "<table border=\"1\" class=\"dataframe\">\n",
       "  <thead>\n",
       "    <tr style=\"text-align: right;\">\n",
       "      <th>Deal Status Code</th>\n",
       "      <th>Lost</th>\n",
       "      <th>Won</th>\n",
       "      <th>Total</th>\n",
       "      <th>Lost%</th>\n",
       "    </tr>\n",
       "    <tr>\n",
       "      <th>Location</th>\n",
       "      <th></th>\n",
       "      <th></th>\n",
       "      <th></th>\n",
       "      <th></th>\n",
       "    </tr>\n",
       "  </thead>\n",
       "  <tbody>\n",
       "    <tr>\n",
       "      <th>L8</th>\n",
       "      <td>10</td>\n",
       "      <td>1</td>\n",
       "      <td>11</td>\n",
       "      <td>90.909091</td>\n",
       "    </tr>\n",
       "    <tr>\n",
       "      <th>L9</th>\n",
       "      <td>194</td>\n",
       "      <td>46</td>\n",
       "      <td>240</td>\n",
       "      <td>80.833333</td>\n",
       "    </tr>\n",
       "    <tr>\n",
       "      <th>L2</th>\n",
       "      <td>6</td>\n",
       "      <td>2</td>\n",
       "      <td>8</td>\n",
       "      <td>75.000000</td>\n",
       "    </tr>\n",
       "    <tr>\n",
       "      <th>L7</th>\n",
       "      <td>174</td>\n",
       "      <td>64</td>\n",
       "      <td>238</td>\n",
       "      <td>73.109244</td>\n",
       "    </tr>\n",
       "    <tr>\n",
       "      <th>L6</th>\n",
       "      <td>70</td>\n",
       "      <td>30</td>\n",
       "      <td>100</td>\n",
       "      <td>70.000000</td>\n",
       "    </tr>\n",
       "    <tr>\n",
       "      <th>L4</th>\n",
       "      <td>126</td>\n",
       "      <td>62</td>\n",
       "      <td>188</td>\n",
       "      <td>67.021277</td>\n",
       "    </tr>\n",
       "    <tr>\n",
       "      <th>L10</th>\n",
       "      <td>2230</td>\n",
       "      <td>1130</td>\n",
       "      <td>3360</td>\n",
       "      <td>66.369048</td>\n",
       "    </tr>\n",
       "    <tr>\n",
       "      <th>L12</th>\n",
       "      <td>178</td>\n",
       "      <td>98</td>\n",
       "      <td>276</td>\n",
       "      <td>64.492754</td>\n",
       "    </tr>\n",
       "    <tr>\n",
       "      <th>L3</th>\n",
       "      <td>356</td>\n",
       "      <td>200</td>\n",
       "      <td>556</td>\n",
       "      <td>64.028777</td>\n",
       "    </tr>\n",
       "    <tr>\n",
       "      <th>L11</th>\n",
       "      <td>232</td>\n",
       "      <td>135</td>\n",
       "      <td>367</td>\n",
       "      <td>63.215259</td>\n",
       "    </tr>\n",
       "  </tbody>\n",
       "</table>\n",
       "</div>"
      ],
      "text/plain": [
       "Deal Status Code  Lost   Won  Total      Lost%\n",
       "Location                                      \n",
       "L8                  10     1     11  90.909091\n",
       "L9                 194    46    240  80.833333\n",
       "L2                   6     2      8  75.000000\n",
       "L7                 174    64    238  73.109244\n",
       "L6                  70    30    100  70.000000\n",
       "L4                 126    62    188  67.021277\n",
       "L10               2230  1130   3360  66.369048\n",
       "L12                178    98    276  64.492754\n",
       "L3                 356   200    556  64.028777\n",
       "L11                232   135    367  63.215259"
      ]
     },
     "execution_count": 46,
     "metadata": {},
     "output_type": "execute_result"
    }
   ],
   "source": [
    "#Win%age of Location column\n",
    "Win_Ratio=pd.crosstab(df['Location'],df['Deal Status Code'])\n",
    "Win_Ratio['Total']=(Win_Ratio['Lost']+Win_Ratio['Won'])\n",
    "Win_Ratio['Lost%']=(Win_Ratio['Lost']*100)/(Win_Ratio['Total'])\n",
    "Win_Ratio.sort_values(by=['Lost%'],ascending=False).head(10)"
   ]
  },
  {
   "cell_type": "code",
   "execution_count": 47,
   "metadata": {},
   "outputs": [
    {
     "data": {
      "text/html": [
       "<div>\n",
       "<style scoped>\n",
       "    .dataframe tbody tr th:only-of-type {\n",
       "        vertical-align: middle;\n",
       "    }\n",
       "\n",
       "    .dataframe tbody tr th {\n",
       "        vertical-align: top;\n",
       "    }\n",
       "\n",
       "    .dataframe thead th {\n",
       "        text-align: right;\n",
       "    }\n",
       "</style>\n",
       "<table border=\"1\" class=\"dataframe\">\n",
       "  <thead>\n",
       "    <tr style=\"text-align: right;\">\n",
       "      <th></th>\n",
       "      <th>Name Pair</th>\n",
       "      <th>Location</th>\n",
       "    </tr>\n",
       "  </thead>\n",
       "  <tbody>\n",
       "    <tr>\n",
       "      <th>2</th>\n",
       "      <td>Ekta Zutshi Russell Dahlen</td>\n",
       "      <td>Others</td>\n",
       "    </tr>\n",
       "    <tr>\n",
       "      <th>3</th>\n",
       "      <td>Ekta Zutshi Russell Dahlen</td>\n",
       "      <td>Others</td>\n",
       "    </tr>\n",
       "    <tr>\n",
       "      <th>4</th>\n",
       "      <td>Ekta Zutshi Russell Dahlen</td>\n",
       "      <td>Others</td>\n",
       "    </tr>\n",
       "    <tr>\n",
       "      <th>5</th>\n",
       "      <td>Ekta Zutshi Russell Dahlen</td>\n",
       "      <td>Others</td>\n",
       "    </tr>\n",
       "    <tr>\n",
       "      <th>7</th>\n",
       "      <td>Sargar Deep Rao Vidur Hukle</td>\n",
       "      <td>L5</td>\n",
       "    </tr>\n",
       "  </tbody>\n",
       "</table>\n",
       "</div>"
      ],
      "text/plain": [
       "                     Name Pair Location\n",
       "2   Ekta Zutshi Russell Dahlen   Others\n",
       "3   Ekta Zutshi Russell Dahlen   Others\n",
       "4   Ekta Zutshi Russell Dahlen   Others\n",
       "5   Ekta Zutshi Russell Dahlen   Others\n",
       "7  Sargar Deep Rao Vidur Hukle       L5"
      ]
     },
     "execution_count": 47,
     "metadata": {},
     "output_type": "execute_result"
    }
   ],
   "source": [
    "loc_df_lost = df[df[\"Deal Status Code\"]==\"Lost\"][[\"Name Pair\",\"Location\"]]\n",
    "loc_df_lost.head()"
   ]
  },
  {
   "cell_type": "code",
   "execution_count": 48,
   "metadata": {},
   "outputs": [],
   "source": [
    "loc_table_lost=pt([\"Location\",\"Names\",\"Lost Counts\"])\n",
    "loc_table_lost.add_row([\"Others\",loc_df_lost[loc_df_lost[\"Location\"]==\"Others\"][\"Name Pair\"].value_counts().index[0],loc_df_lost[loc_df_lost[\"Location\"]==\"Others\"][\"Name Pair\"].value_counts()[0]])\n",
    "Loc,Names,Counts=[],[],[]\n",
    "for i in range(1,len(loc_df_lost[\"Location\"].unique())):\n",
    "    loc_table_lost.add_row([\"Location {}\".format(i),loc_df_lost[loc_df_lost[\"Location\"]==\"L{}\".format(i)][\"Name Pair\"].value_counts().index[0],loc_df_lost[loc_df_lost[\"Location\"]==\"L{}\".format(i)][\"Name Pair\"].value_counts()[0]])"
   ]
  },
  {
   "cell_type": "code",
   "execution_count": 49,
   "metadata": {},
   "outputs": [
    {
     "data": {
      "text/html": [
       "<table>\n",
       "    <thead>\n",
       "        <tr>\n",
       "            <th>Location</th>\n",
       "            <th>Names</th>\n",
       "            <th>Lost Counts</th>\n",
       "        </tr>\n",
       "    </thead>\n",
       "    <tbody>\n",
       "        <tr>\n",
       "            <td>Location 5</td>\n",
       "            <td>Rahul Bajpai Rudraksh Sharma</td>\n",
       "            <td>102</td>\n",
       "        </tr>\n",
       "        <tr>\n",
       "            <td>Location 10</td>\n",
       "            <td>Ankita Aggarwal Manish Saundriyal</td>\n",
       "            <td>78</td>\n",
       "        </tr>\n",
       "        <tr>\n",
       "            <td>Location 1</td>\n",
       "            <td>neeraj kumar Molly Eakes</td>\n",
       "            <td>68</td>\n",
       "        </tr>\n",
       "        <tr>\n",
       "            <td>Location 11</td>\n",
       "            <td>Long Bergstrom Jewell Tunstall</td>\n",
       "            <td>56</td>\n",
       "        </tr>\n",
       "        <tr>\n",
       "            <td>Others</td>\n",
       "            <td>Ankita Aggarwal Desmond Krout</td>\n",
       "            <td>46</td>\n",
       "        </tr>\n",
       "        <tr>\n",
       "            <td>Location 9</td>\n",
       "            <td>Sargar Deep Rao Manpreet Singh</td>\n",
       "            <td>42</td>\n",
       "        </tr>\n",
       "        <tr>\n",
       "            <td>Location 4</td>\n",
       "            <td>Rosanna Maynez Abhinav Warrier</td>\n",
       "            <td>42</td>\n",
       "        </tr>\n",
       "        <tr>\n",
       "            <td>Location 3</td>\n",
       "            <td>neeraj kumar Rayford Durgan</td>\n",
       "            <td>26</td>\n",
       "        </tr>\n",
       "        <tr>\n",
       "            <td>Location 7</td>\n",
       "            <td>Rosanna Maynez Ayusha Gupta</td>\n",
       "            <td>24</td>\n",
       "        </tr>\n",
       "        <tr>\n",
       "            <td>Location 12</td>\n",
       "            <td>Ankita Aggarwal bhagwati prasad</td>\n",
       "            <td>20</td>\n",
       "        </tr>\n",
       "        <tr>\n",
       "            <td>Location 6</td>\n",
       "            <td>som dutt D. Ankit </td>\n",
       "            <td>8</td>\n",
       "        </tr>\n",
       "        <tr>\n",
       "            <td>Location 2</td>\n",
       "            <td>Earline Langton Jayadev Mitali</td>\n",
       "            <td>4</td>\n",
       "        </tr>\n",
       "        <tr>\n",
       "            <td>Location 8</td>\n",
       "            <td>Rahul Bajpai mohd shakib</td>\n",
       "            <td>2</td>\n",
       "        </tr>\n",
       "    </tbody>\n",
       "</table>"
      ],
      "text/plain": [
       "+-------------+-----------------------------------+-------------+\n",
       "|   Location  |               Names               | Lost Counts |\n",
       "+-------------+-----------------------------------+-------------+\n",
       "|  Location 5 |    Rahul Bajpai Rudraksh Sharma   |     102     |\n",
       "| Location 10 | Ankita Aggarwal Manish Saundriyal |      78     |\n",
       "|  Location 1 |      neeraj kumar Molly Eakes     |      68     |\n",
       "| Location 11 |   Long Bergstrom Jewell Tunstall  |      56     |\n",
       "|    Others   |   Ankita Aggarwal Desmond Krout   |      46     |\n",
       "|  Location 9 |   Sargar Deep Rao Manpreet Singh  |      42     |\n",
       "|  Location 4 |   Rosanna Maynez Abhinav Warrier  |      42     |\n",
       "|  Location 3 |    neeraj kumar Rayford Durgan    |      26     |\n",
       "|  Location 7 |    Rosanna Maynez Ayusha Gupta    |      24     |\n",
       "| Location 12 |  Ankita Aggarwal bhagwati prasad  |      20     |\n",
       "|  Location 6 |         som dutt D. Ankit         |      8      |\n",
       "|  Location 2 |   Earline Langton Jayadev Mitali  |      4      |\n",
       "|  Location 8 |      Rahul Bajpai mohd shakib     |      2      |\n",
       "+-------------+-----------------------------------+-------------+"
      ]
     },
     "execution_count": 49,
     "metadata": {},
     "output_type": "execute_result"
    }
   ],
   "source": [
    "loc_table_lost.sortby = 'Lost Counts'\n",
    "loc_table_lost.reversesort = True\n",
    "loc_table_lost"
   ]
  },
  {
   "cell_type": "code",
   "execution_count": 50,
   "metadata": {},
   "outputs": [
    {
     "data": {
      "text/html": [
       "<div>\n",
       "<style scoped>\n",
       "    .dataframe tbody tr th:only-of-type {\n",
       "        vertical-align: middle;\n",
       "    }\n",
       "\n",
       "    .dataframe tbody tr th {\n",
       "        vertical-align: top;\n",
       "    }\n",
       "\n",
       "    .dataframe thead th {\n",
       "        text-align: right;\n",
       "    }\n",
       "</style>\n",
       "<table border=\"1\" class=\"dataframe\">\n",
       "  <thead>\n",
       "    <tr style=\"text-align: right;\">\n",
       "      <th>Deal Status Code</th>\n",
       "      <th>Lost</th>\n",
       "      <th>Won</th>\n",
       "      <th>Total</th>\n",
       "      <th>Lost%</th>\n",
       "    </tr>\n",
       "    <tr>\n",
       "      <th>Name Pair</th>\n",
       "      <th></th>\n",
       "      <th></th>\n",
       "      <th></th>\n",
       "      <th></th>\n",
       "    </tr>\n",
       "  </thead>\n",
       "  <tbody>\n",
       "    <tr>\n",
       "      <th>Alam Syed Abhinav Warrier</th>\n",
       "      <td>2</td>\n",
       "      <td>0</td>\n",
       "      <td>4</td>\n",
       "      <td>50.0</td>\n",
       "    </tr>\n",
       "    <tr>\n",
       "      <th>Sargar Deep Rao Abhishek Singhal</th>\n",
       "      <td>16</td>\n",
       "      <td>8</td>\n",
       "      <td>32</td>\n",
       "      <td>50.0</td>\n",
       "    </tr>\n",
       "    <tr>\n",
       "      <th>Rosanna Maynez Deepak Chandra Prakash</th>\n",
       "      <td>2</td>\n",
       "      <td>0</td>\n",
       "      <td>4</td>\n",
       "      <td>50.0</td>\n",
       "    </tr>\n",
       "    <tr>\n",
       "      <th>Rosanna Maynez Dennis Faux</th>\n",
       "      <td>2</td>\n",
       "      <td>3</td>\n",
       "      <td>4</td>\n",
       "      <td>50.0</td>\n",
       "    </tr>\n",
       "    <tr>\n",
       "      <th>Rosanna Maynez Desmond Krout</th>\n",
       "      <td>10</td>\n",
       "      <td>5</td>\n",
       "      <td>20</td>\n",
       "      <td>50.0</td>\n",
       "    </tr>\n",
       "    <tr>\n",
       "      <th>Rosanna Maynez Devendra Vishvakarma</th>\n",
       "      <td>6</td>\n",
       "      <td>0</td>\n",
       "      <td>12</td>\n",
       "      <td>50.0</td>\n",
       "    </tr>\n",
       "    <tr>\n",
       "      <th>Rosanna Maynez Earline Langton</th>\n",
       "      <td>26</td>\n",
       "      <td>10</td>\n",
       "      <td>52</td>\n",
       "      <td>50.0</td>\n",
       "    </tr>\n",
       "    <tr>\n",
       "      <th>Rosanna Maynez Evangeline Kepley</th>\n",
       "      <td>2</td>\n",
       "      <td>0</td>\n",
       "      <td>4</td>\n",
       "      <td>50.0</td>\n",
       "    </tr>\n",
       "    <tr>\n",
       "      <th>Rosanna Maynez Fredricka Bald</th>\n",
       "      <td>12</td>\n",
       "      <td>16</td>\n",
       "      <td>24</td>\n",
       "      <td>50.0</td>\n",
       "    </tr>\n",
       "    <tr>\n",
       "      <th>Rosanna Maynez Ganesh Malwar</th>\n",
       "      <td>2</td>\n",
       "      <td>2</td>\n",
       "      <td>4</td>\n",
       "      <td>50.0</td>\n",
       "    </tr>\n",
       "  </tbody>\n",
       "</table>\n",
       "</div>"
      ],
      "text/plain": [
       "Deal Status Code                       Lost  Won  Total  Lost%\n",
       "Name Pair                                                     \n",
       "Alam Syed Abhinav Warrier                 2    0      4   50.0\n",
       "Sargar Deep Rao Abhishek Singhal         16    8     32   50.0\n",
       "Rosanna Maynez Deepak Chandra Prakash     2    0      4   50.0\n",
       "Rosanna Maynez Dennis Faux                2    3      4   50.0\n",
       "Rosanna Maynez Desmond Krout             10    5     20   50.0\n",
       "Rosanna Maynez Devendra Vishvakarma       6    0     12   50.0\n",
       "Rosanna Maynez Earline Langton           26   10     52   50.0\n",
       "Rosanna Maynez Evangeline Kepley          2    0      4   50.0\n",
       "Rosanna Maynez Fredricka Bald            12   16     24   50.0\n",
       "Rosanna Maynez Ganesh Malwar              2    2      4   50.0"
      ]
     },
     "execution_count": 50,
     "metadata": {},
     "output_type": "execute_result"
    }
   ],
   "source": [
    "#Win%age of VP Name column\n",
    "Loss_Ratio=pd.crosstab(df[\"Name Pair\"],df['Deal Status Code'])\n",
    "Loss_Ratio['Total']=(Loss_Ratio['Lost']+Loss_Ratio['Lost'])\n",
    "Loss_Ratio['Lost%']=(Loss_Ratio['Lost']*100)/(Loss_Ratio['Total'])\n",
    "Loss_Ratio.sort_values(by=['Lost%'],ascending=False).head(10)"
   ]
  },
  {
   "cell_type": "markdown",
   "metadata": {},
   "source": [
    "# DATA CLEANING"
   ]
  },
  {
   "cell_type": "markdown",
   "metadata": {},
   "source": [
    "# REPLACED NULL WITH MODE"
   ]
  },
  {
   "cell_type": "code",
   "execution_count": 51,
   "metadata": {},
   "outputs": [
    {
     "data": {
      "text/plain": [
       "Client Category     79\n",
       "Solution Type        0\n",
       "Deal Date            0\n",
       "Sector               0\n",
       "Location             0\n",
       "VP Name              0\n",
       "Manager Name         0\n",
       "Deal Cost            0\n",
       "Deal Status Code     0\n",
       "Name Pair            0\n",
       "dtype: int64"
      ]
     },
     "execution_count": 51,
     "metadata": {},
     "output_type": "execute_result"
    }
   ],
   "source": [
    "df.isna().sum()"
   ]
  },
  {
   "cell_type": "code",
   "execution_count": 52,
   "metadata": {},
   "outputs": [],
   "source": [
    "df['Client Category']=df['Client Category'].fillna(df['Client Category'].mode()[0]) "
   ]
  },
  {
   "cell_type": "code",
   "execution_count": 53,
   "metadata": {},
   "outputs": [
    {
     "data": {
      "text/plain": [
       "Client Category     0\n",
       "Solution Type       0\n",
       "Deal Date           0\n",
       "Sector              0\n",
       "Location            0\n",
       "VP Name             0\n",
       "Manager Name        0\n",
       "Deal Cost           0\n",
       "Deal Status Code    0\n",
       "Name Pair           0\n",
       "dtype: int64"
      ]
     },
     "execution_count": 53,
     "metadata": {},
     "output_type": "execute_result"
    }
   ],
   "source": [
    "df.isna().sum()"
   ]
  },
  {
   "cell_type": "markdown",
   "metadata": {},
   "source": [
    "# REPLACED THE DEAL COST VALUE WITH MEAN"
   ]
  },
  {
   "cell_type": "code",
   "execution_count": 54,
   "metadata": {},
   "outputs": [],
   "source": [
    "for i in df['Deal Cost']:\n",
    "    if i==0:\n",
    "        df['Deal Cost']=df['Deal Cost'].replace(i,df['Deal Cost'].mean())"
   ]
  },
  {
   "cell_type": "code",
   "execution_count": 55,
   "metadata": {},
   "outputs": [
    {
     "data": {
      "text/plain": [
       "10011     382352.94\n",
       "10012    1235294.12\n",
       "10013    1382352.94\n",
       "10014     204117.65\n",
       "10015     235294.12\n",
       "10016     144117.65\n",
       "10017     461764.71\n",
       "10018    1882352.94\n",
       "10019    1058823.53\n",
       "10020     220588.24\n",
       "10021     220588.24\n",
       "10022     502941.18\n",
       "10023     235294.12\n",
       "10024     882352.94\n",
       "10025     382352.94\n",
       "10026     176470.59\n",
       "10027     426470.59\n",
       "10028    1122058.82\n",
       "10029     424705.88\n",
       "10030     426470.59\n",
       "10031     352941.18\n",
       "10032      72941.18\n",
       "10033     733529.41\n",
       "10034    1122058.82\n",
       "10035     213235.29\n",
       "10036     352941.18\n",
       "10037     176470.59\n",
       "10038     529411.77\n",
       "10039     383823.53\n",
       "10040     276470.59\n",
       "10041     147058.82\n",
       "10042     102941.18\n",
       "10043      73529.41\n",
       "10044     701470.59\n",
       "10045     147058.82\n",
       "10046     383823.53\n",
       "10047      55000.00\n",
       "10048     701470.59\n",
       "10049     470588.24\n",
       "10050     882352.94\n",
       "10051    1404411.77\n",
       "10052     823529.41\n",
       "10053    3462058.82\n",
       "10054      58823.53\n",
       "10055     823529.41\n",
       "10056     588235.29\n",
       "10057     777058.82\n",
       "10058     588235.29\n",
       "10059    3042058.82\n",
       "10060     147058.82\n",
       "Name: Deal Cost, dtype: float64"
      ]
     },
     "execution_count": 55,
     "metadata": {},
     "output_type": "execute_result"
    }
   ],
   "source": [
    "df['Deal Cost'].tail(50)"
   ]
  },
  {
   "cell_type": "markdown",
   "metadata": {},
   "source": [
    "# OUTLIERS TREATMENT USING IQR METHOD"
   ]
  },
  {
   "cell_type": "code",
   "execution_count": 56,
   "metadata": {},
   "outputs": [
    {
     "data": {
      "text/plain": [
       "<matplotlib.axes._subplots.AxesSubplot at 0x21e79865ac8>"
      ]
     },
     "execution_count": 56,
     "metadata": {},
     "output_type": "execute_result"
    },
    {
     "data": {
      "image/png": "[encoded data removed]",
      "text/plain": [
       "<Figure size 864x432 with 1 Axes>"
      ]
     },
     "metadata": {
      "needs_background": "light"
     },
     "output_type": "display_data"
    }
   ],
   "source": [
    "plt.figure(figsize=(12, 6)) \n",
    "sns.boxplot(df['Deal Cost'])"
   ]
  },
  {
   "cell_type": "markdown",
   "metadata": {},
   "source": [
    "# IQR METHOD"
   ]
  },
  {
   "cell_type": "code",
   "execution_count": 57,
   "metadata": {},
   "outputs": [],
   "source": [
    "df['Deal Cost'] = df['Deal Cost'].astype(int)"
   ]
  },
  {
   "cell_type": "code",
   "execution_count": 58,
   "metadata": {},
   "outputs": [],
   "source": [
    "Q1=np.percentile(df['Deal Cost'],25)\n",
    "Q3=np.percentile(df['Deal Cost'],75)"
   ]
  },
  {
   "cell_type": "code",
   "execution_count": 59,
   "metadata": {},
   "outputs": [],
   "source": [
    "IQR = Q3-Q1\n",
    "upper=Q3+1.5*IQR\n",
    "lower = Q1 -1.5*IQR"
   ]
  },
  {
   "cell_type": "code",
   "execution_count": 60,
   "metadata": {},
   "outputs": [
    {
     "data": {
      "text/plain": [
       "count    1.006100e+04\n",
       "mean     7.856477e+05\n",
       "std      1.615340e+06\n",
       "min      2.940000e+02\n",
       "25%      2.058820e+05\n",
       "50%      4.117640e+05\n",
       "75%      7.668960e+05\n",
       "max      3.676470e+07\n",
       "Name: Deal Cost, dtype: float64"
      ]
     },
     "execution_count": 60,
     "metadata": {},
     "output_type": "execute_result"
    }
   ],
   "source": [
    "df['Deal Cost'].describe()"
   ]
  },
  {
   "cell_type": "code",
   "execution_count": 61,
   "metadata": {},
   "outputs": [],
   "source": [
    "df['Deal Cost']=np.where(df['Deal Cost']>upper,upper,df['Deal Cost'])"
   ]
  },
  {
   "cell_type": "code",
   "execution_count": 62,
   "metadata": {},
   "outputs": [
    {
     "data": {
      "text/plain": [
       "<matplotlib.axes._subplots.AxesSubplot at 0x21e798bbac8>"
      ]
     },
     "execution_count": 62,
     "metadata": {},
     "output_type": "execute_result"
    },
    {
     "data": {
      "image/png": "[encoded data removed]",
      "text/plain": [
       "<Figure size 864x432 with 1 Axes>"
      ]
     },
     "metadata": {
      "needs_background": "light"
     },
     "output_type": "display_data"
    }
   ],
   "source": [
    "plt.figure(figsize=(12, 6)) \n",
    "sns.boxplot(df['Deal Cost'])"
   ]
  },
  {
   "cell_type": "markdown",
   "metadata": {},
   "source": [
    "# BALANCING DATA USING LOGARITHMIC TRANSFORMATION"
   ]
  },
  {
   "cell_type": "code",
   "execution_count": 63,
   "metadata": {},
   "outputs": [],
   "source": [
    "df['Deal Cost']=np.log(df['Deal Cost'])"
   ]
  },
  {
   "cell_type": "code",
   "execution_count": 64,
   "metadata": {},
   "outputs": [
    {
     "data": {
      "text/plain": [
       "count    10061.000000\n",
       "mean        12.804678\n",
       "std          1.173087\n",
       "min          5.683580\n",
       "25%         12.235058\n",
       "50%         12.928206\n",
       "75%         13.550106\n",
       "max         14.290761\n",
       "Name: Deal Cost, dtype: float64"
      ]
     },
     "execution_count": 64,
     "metadata": {},
     "output_type": "execute_result"
    }
   ],
   "source": [
    "df['Deal Cost'].describe()"
   ]
  },
  {
   "cell_type": "code",
   "execution_count": 65,
   "metadata": {},
   "outputs": [
    {
     "data": {
      "text/plain": [
       "(10061, 10)"
      ]
     },
     "execution_count": 65,
     "metadata": {},
     "output_type": "execute_result"
    }
   ],
   "source": [
    "df.shape"
   ]
  },
  {
   "cell_type": "markdown",
   "metadata": {},
   "source": [
    "# ENCODING USING TARGET/MEAN ENCODING & LABEL ENCODING"
   ]
  },
  {
   "cell_type": "markdown",
   "metadata": {},
   "source": [
    "We have use target encoding involves replacing a categorical feature with average target value of all data points belonging to the category and label encoding for target variable as 0 for 'Lost' and 1 for 'Won'"
   ]
  },
  {
   "cell_type": "code",
   "execution_count": 66,
   "metadata": {},
   "outputs": [
    {
     "name": "stdout",
     "output_type": "stream",
     "text": [
      "VP Name :  43  labels\n",
      "Manager Name :  278  labels\n",
      "Client Category :  41  labels\n",
      "Solution Type :  67  labels\n",
      "Sector :  25  labels\n",
      "Location :  13  labels\n"
     ]
    }
   ],
   "source": [
    "for col in Names_df+ cat_df:\n",
    "    print(col, ': ', len(df[col].unique()), ' labels')"
   ]
  },
  {
   "cell_type": "code",
   "execution_count": 67,
   "metadata": {},
   "outputs": [],
   "source": [
    "#!pip install category_encoders"
   ]
  },
  {
   "cell_type": "code",
   "execution_count": 68,
   "metadata": {},
   "outputs": [],
   "source": [
    "from category_encoders import TargetEncoder\n",
    "from sklearn.preprocessing import LabelEncoder\n",
    "le = LabelEncoder()\n",
    "te = TargetEncoder()"
   ]
  },
  {
   "cell_type": "code",
   "execution_count": 69,
   "metadata": {},
   "outputs": [],
   "source": [
    "#!pip install category_encoders"
   ]
  },
  {
   "cell_type": "code",
   "execution_count": 70,
   "metadata": {},
   "outputs": [],
   "source": [
    "df['Deal Status Code']=le.fit_transform(df['Deal Status Code'].values)"
   ]
  },
  {
   "cell_type": "code",
   "execution_count": 71,
   "metadata": {},
   "outputs": [],
   "source": [
    "df['Client Category Encoded'] = te.fit_transform(df['Client Category'], df['Deal Status Code'])\n",
    "df['Solution Type Encoded'] = te.fit_transform(df['Solution Type'], df['Deal Status Code'])\n",
    "df['Sector Encoded'] = te.fit_transform(df['Sector'], df['Deal Status Code'])\n",
    "df['Location Encoded'] = te.fit_transform(df['Location'], df['Deal Status Code'])\n",
    "df['Name Pair Encoded'] = te.fit_transform(df['Name Pair'], df['Deal Status Code'])"
   ]
  },
  {
   "cell_type": "code",
   "execution_count": 72,
   "metadata": {},
   "outputs": [
    {
     "data": {
      "text/html": [
       "<div>\n",
       "<style scoped>\n",
       "    .dataframe tbody tr th:only-of-type {\n",
       "        vertical-align: middle;\n",
       "    }\n",
       "\n",
       "    .dataframe tbody tr th {\n",
       "        vertical-align: top;\n",
       "    }\n",
       "\n",
       "    .dataframe thead th {\n",
       "        text-align: right;\n",
       "    }\n",
       "</style>\n",
       "<table border=\"1\" class=\"dataframe\">\n",
       "  <thead>\n",
       "    <tr style=\"text-align: right;\">\n",
       "      <th></th>\n",
       "      <th>Client Category</th>\n",
       "      <th>Solution Type</th>\n",
       "      <th>Deal Date</th>\n",
       "      <th>Sector</th>\n",
       "      <th>Location</th>\n",
       "      <th>VP Name</th>\n",
       "      <th>Manager Name</th>\n",
       "      <th>Deal Cost</th>\n",
       "      <th>Deal Status Code</th>\n",
       "      <th>Name Pair</th>\n",
       "      <th>Client Category Encoded</th>\n",
       "      <th>Solution Type Encoded</th>\n",
       "      <th>Sector Encoded</th>\n",
       "      <th>Location Encoded</th>\n",
       "      <th>Name Pair Encoded</th>\n",
       "    </tr>\n",
       "  </thead>\n",
       "  <tbody>\n",
       "    <tr>\n",
       "      <th>0</th>\n",
       "      <td>Telecom</td>\n",
       "      <td>Solution 7</td>\n",
       "      <td>2012-03-27</td>\n",
       "      <td>Sector 24</td>\n",
       "      <td>L5</td>\n",
       "      <td>Ekta Zutshi</td>\n",
       "      <td>Gopa Trilochana</td>\n",
       "      <td>11.918391</td>\n",
       "      <td>1</td>\n",
       "      <td>Ekta Zutshi Gopa Trilochana</td>\n",
       "      <td>0.412844</td>\n",
       "      <td>0.348315</td>\n",
       "      <td>0.377163</td>\n",
       "      <td>0.402062</td>\n",
       "      <td>0.484755</td>\n",
       "    </tr>\n",
       "    <tr>\n",
       "      <th>1</th>\n",
       "      <td>Telecom</td>\n",
       "      <td>Solution 7</td>\n",
       "      <td>2012-09-25</td>\n",
       "      <td>Sector 24</td>\n",
       "      <td>L5</td>\n",
       "      <td>Ekta Zutshi</td>\n",
       "      <td>Gopa Trilochana</td>\n",
       "      <td>13.520743</td>\n",
       "      <td>1</td>\n",
       "      <td>Ekta Zutshi Gopa Trilochana</td>\n",
       "      <td>0.412844</td>\n",
       "      <td>0.348315</td>\n",
       "      <td>0.377163</td>\n",
       "      <td>0.402062</td>\n",
       "      <td>0.484755</td>\n",
       "    </tr>\n",
       "    <tr>\n",
       "      <th>2</th>\n",
       "      <td>Internal</td>\n",
       "      <td>Solution 59</td>\n",
       "      <td>2011-08-01</td>\n",
       "      <td>Sector 20</td>\n",
       "      <td>Others</td>\n",
       "      <td>Ekta Zutshi</td>\n",
       "      <td>Russell Dahlen</td>\n",
       "      <td>11.002100</td>\n",
       "      <td>0</td>\n",
       "      <td>Ekta Zutshi Russell Dahlen</td>\n",
       "      <td>0.522696</td>\n",
       "      <td>0.322176</td>\n",
       "      <td>0.503234</td>\n",
       "      <td>0.478580</td>\n",
       "      <td>0.310529</td>\n",
       "    </tr>\n",
       "    <tr>\n",
       "      <th>3</th>\n",
       "      <td>Internal</td>\n",
       "      <td>Solution 59</td>\n",
       "      <td>2011-04-28</td>\n",
       "      <td>Sector 20</td>\n",
       "      <td>Others</td>\n",
       "      <td>Ekta Zutshi</td>\n",
       "      <td>Russell Dahlen</td>\n",
       "      <td>11.002100</td>\n",
       "      <td>0</td>\n",
       "      <td>Ekta Zutshi Russell Dahlen</td>\n",
       "      <td>0.522696</td>\n",
       "      <td>0.322176</td>\n",
       "      <td>0.503234</td>\n",
       "      <td>0.478580</td>\n",
       "      <td>0.310529</td>\n",
       "    </tr>\n",
       "    <tr>\n",
       "      <th>4</th>\n",
       "      <td>Internal</td>\n",
       "      <td>Solution 32</td>\n",
       "      <td>2011-06-03</td>\n",
       "      <td>Sector 20</td>\n",
       "      <td>Others</td>\n",
       "      <td>Ekta Zutshi</td>\n",
       "      <td>Russell Dahlen</td>\n",
       "      <td>11.300747</td>\n",
       "      <td>0</td>\n",
       "      <td>Ekta Zutshi Russell Dahlen</td>\n",
       "      <td>0.522696</td>\n",
       "      <td>0.564976</td>\n",
       "      <td>0.503234</td>\n",
       "      <td>0.478580</td>\n",
       "      <td>0.310529</td>\n",
       "    </tr>\n",
       "  </tbody>\n",
       "</table>\n",
       "</div>"
      ],
      "text/plain": [
       "  Client Category Solution Type  Deal Date     Sector Location      VP Name  \\\n",
       "0         Telecom    Solution 7 2012-03-27  Sector 24       L5  Ekta Zutshi   \n",
       "1         Telecom    Solution 7 2012-09-25  Sector 24       L5  Ekta Zutshi   \n",
       "2        Internal   Solution 59 2011-08-01  Sector 20   Others  Ekta Zutshi   \n",
       "3        Internal   Solution 59 2011-04-28  Sector 20   Others  Ekta Zutshi   \n",
       "4        Internal   Solution 32 2011-06-03  Sector 20   Others  Ekta Zutshi   \n",
       "\n",
       "      Manager Name  Deal Cost  Deal Status Code                    Name Pair  \\\n",
       "0  Gopa Trilochana  11.918391                 1  Ekta Zutshi Gopa Trilochana   \n",
       "1  Gopa Trilochana  13.520743                 1  Ekta Zutshi Gopa Trilochana   \n",
       "2   Russell Dahlen  11.002100                 0   Ekta Zutshi Russell Dahlen   \n",
       "3   Russell Dahlen  11.002100                 0   Ekta Zutshi Russell Dahlen   \n",
       "4   Russell Dahlen  11.300747                 0   Ekta Zutshi Russell Dahlen   \n",
       "\n",
       "   Client Category Encoded  Solution Type Encoded  Sector Encoded  \\\n",
       "0                 0.412844               0.348315        0.377163   \n",
       "1                 0.412844               0.348315        0.377163   \n",
       "2                 0.522696               0.322176        0.503234   \n",
       "3                 0.522696               0.322176        0.503234   \n",
       "4                 0.522696               0.564976        0.503234   \n",
       "\n",
       "   Location Encoded  Name Pair Encoded  \n",
       "0          0.402062           0.484755  \n",
       "1          0.402062           0.484755  \n",
       "2          0.478580           0.310529  \n",
       "3          0.478580           0.310529  \n",
       "4          0.478580           0.310529  "
      ]
     },
     "execution_count": 72,
     "metadata": {},
     "output_type": "execute_result"
    }
   ],
   "source": [
    "df.head()"
   ]
  },
  {
   "cell_type": "code",
   "execution_count": 73,
   "metadata": {},
   "outputs": [],
   "source": [
    "df['Deal Cost']=np.log(df['Deal Cost'])"
   ]
  },
  {
   "cell_type": "code",
   "execution_count": 74,
   "metadata": {},
   "outputs": [
    {
     "data": {
      "text/html": [
       "<div>\n",
       "<style scoped>\n",
       "    .dataframe tbody tr th:only-of-type {\n",
       "        vertical-align: middle;\n",
       "    }\n",
       "\n",
       "    .dataframe tbody tr th {\n",
       "        vertical-align: top;\n",
       "    }\n",
       "\n",
       "    .dataframe thead th {\n",
       "        text-align: right;\n",
       "    }\n",
       "</style>\n",
       "<table border=\"1\" class=\"dataframe\">\n",
       "  <thead>\n",
       "    <tr style=\"text-align: right;\">\n",
       "      <th></th>\n",
       "      <th>Deal Cost</th>\n",
       "      <th>Deal Status Code</th>\n",
       "      <th>Client Category Encoded</th>\n",
       "      <th>Solution Type Encoded</th>\n",
       "      <th>Sector Encoded</th>\n",
       "      <th>Location Encoded</th>\n",
       "      <th>Name Pair Encoded</th>\n",
       "    </tr>\n",
       "  </thead>\n",
       "  <tbody>\n",
       "    <tr>\n",
       "      <th>count</th>\n",
       "      <td>10061.000000</td>\n",
       "      <td>10061.000000</td>\n",
       "      <td>10061.000000</td>\n",
       "      <td>10061.000000</td>\n",
       "      <td>10061.000000</td>\n",
       "      <td>10061.000000</td>\n",
       "      <td>10061.000000</td>\n",
       "    </tr>\n",
       "    <tr>\n",
       "      <th>mean</th>\n",
       "      <td>2.544900</td>\n",
       "      <td>0.373223</td>\n",
       "      <td>0.373917</td>\n",
       "      <td>0.373236</td>\n",
       "      <td>0.372907</td>\n",
       "      <td>0.373518</td>\n",
       "      <td>0.367384</td>\n",
       "    </tr>\n",
       "    <tr>\n",
       "      <th>std</th>\n",
       "      <td>0.103610</td>\n",
       "      <td>0.483685</td>\n",
       "      <td>0.085535</td>\n",
       "      <td>0.116817</td>\n",
       "      <td>0.060831</td>\n",
       "      <td>0.055219</td>\n",
       "      <td>0.128602</td>\n",
       "    </tr>\n",
       "    <tr>\n",
       "      <th>min</th>\n",
       "      <td>1.737581</td>\n",
       "      <td>0.000000</td>\n",
       "      <td>0.158736</td>\n",
       "      <td>0.163077</td>\n",
       "      <td>0.189753</td>\n",
       "      <td>0.191667</td>\n",
       "      <td>0.057243</td>\n",
       "    </tr>\n",
       "    <tr>\n",
       "      <th>25%</th>\n",
       "      <td>2.504305</td>\n",
       "      <td>0.000000</td>\n",
       "      <td>0.339434</td>\n",
       "      <td>0.282087</td>\n",
       "      <td>0.340961</td>\n",
       "      <td>0.336310</td>\n",
       "      <td>0.293811</td>\n",
       "    </tr>\n",
       "    <tr>\n",
       "      <th>50%</th>\n",
       "      <td>2.559411</td>\n",
       "      <td>0.000000</td>\n",
       "      <td>0.353963</td>\n",
       "      <td>0.320866</td>\n",
       "      <td>0.377163</td>\n",
       "      <td>0.367847</td>\n",
       "      <td>0.363636</td>\n",
       "    </tr>\n",
       "    <tr>\n",
       "      <th>75%</th>\n",
       "      <td>2.606394</td>\n",
       "      <td>1.000000</td>\n",
       "      <td>0.424242</td>\n",
       "      <td>0.480342</td>\n",
       "      <td>0.391014</td>\n",
       "      <td>0.402062</td>\n",
       "      <td>0.430555</td>\n",
       "    </tr>\n",
       "    <tr>\n",
       "      <th>max</th>\n",
       "      <td>2.659613</td>\n",
       "      <td>1.000000</td>\n",
       "      <td>0.522696</td>\n",
       "      <td>0.835749</td>\n",
       "      <td>0.587748</td>\n",
       "      <td>0.478580</td>\n",
       "      <td>0.835249</td>\n",
       "    </tr>\n",
       "  </tbody>\n",
       "</table>\n",
       "</div>"
      ],
      "text/plain": [
       "          Deal Cost  Deal Status Code  Client Category Encoded  \\\n",
       "count  10061.000000      10061.000000             10061.000000   \n",
       "mean       2.544900          0.373223                 0.373917   \n",
       "std        0.103610          0.483685                 0.085535   \n",
       "min        1.737581          0.000000                 0.158736   \n",
       "25%        2.504305          0.000000                 0.339434   \n",
       "50%        2.559411          0.000000                 0.353963   \n",
       "75%        2.606394          1.000000                 0.424242   \n",
       "max        2.659613          1.000000                 0.522696   \n",
       "\n",
       "       Solution Type Encoded  Sector Encoded  Location Encoded  \\\n",
       "count           10061.000000    10061.000000      10061.000000   \n",
       "mean                0.373236        0.372907          0.373518   \n",
       "std                 0.116817        0.060831          0.055219   \n",
       "min                 0.163077        0.189753          0.191667   \n",
       "25%                 0.282087        0.340961          0.336310   \n",
       "50%                 0.320866        0.377163          0.367847   \n",
       "75%                 0.480342        0.391014          0.402062   \n",
       "max                 0.835749        0.587748          0.478580   \n",
       "\n",
       "       Name Pair Encoded  \n",
       "count       10061.000000  \n",
       "mean            0.367384  \n",
       "std             0.128602  \n",
       "min             0.057243  \n",
       "25%             0.293811  \n",
       "50%             0.363636  \n",
       "75%             0.430555  \n",
       "max             0.835249  "
      ]
     },
     "execution_count": 74,
     "metadata": {},
     "output_type": "execute_result"
    }
   ],
   "source": [
    "df.describe()"
   ]
  },
  {
   "cell_type": "markdown",
   "metadata": {},
   "source": [
    "# CHECK CORR() USING HEATMAP"
   ]
  },
  {
   "cell_type": "code",
   "execution_count": 75,
   "metadata": {},
   "outputs": [
    {
     "data": {
      "text/html": [
       "<div>\n",
       "<style scoped>\n",
       "    .dataframe tbody tr th:only-of-type {\n",
       "        vertical-align: middle;\n",
       "    }\n",
       "\n",
       "    .dataframe tbody tr th {\n",
       "        vertical-align: top;\n",
       "    }\n",
       "\n",
       "    .dataframe thead th {\n",
       "        text-align: right;\n",
       "    }\n",
       "</style>\n",
       "<table border=\"1\" class=\"dataframe\">\n",
       "  <thead>\n",
       "    <tr style=\"text-align: right;\">\n",
       "      <th></th>\n",
       "      <th>Deal Cost</th>\n",
       "      <th>Deal Status Code</th>\n",
       "      <th>Client Category Encoded</th>\n",
       "      <th>Solution Type Encoded</th>\n",
       "      <th>Sector Encoded</th>\n",
       "      <th>Location Encoded</th>\n",
       "      <th>Name Pair Encoded</th>\n",
       "    </tr>\n",
       "  </thead>\n",
       "  <tbody>\n",
       "    <tr>\n",
       "      <th>Deal Cost</th>\n",
       "      <td>1.000000</td>\n",
       "      <td>-0.044853</td>\n",
       "      <td>0.041625</td>\n",
       "      <td>0.043350</td>\n",
       "      <td>-0.023358</td>\n",
       "      <td>0.036783</td>\n",
       "      <td>0.031922</td>\n",
       "    </tr>\n",
       "    <tr>\n",
       "      <th>Deal Status Code</th>\n",
       "      <td>-0.044853</td>\n",
       "      <td>1.000000</td>\n",
       "      <td>0.180709</td>\n",
       "      <td>0.247020</td>\n",
       "      <td>0.128306</td>\n",
       "      <td>0.114917</td>\n",
       "      <td>0.399338</td>\n",
       "    </tr>\n",
       "    <tr>\n",
       "      <th>Client Category Encoded</th>\n",
       "      <td>0.041625</td>\n",
       "      <td>0.180709</td>\n",
       "      <td>1.000000</td>\n",
       "      <td>0.126395</td>\n",
       "      <td>0.284930</td>\n",
       "      <td>0.370806</td>\n",
       "      <td>0.138194</td>\n",
       "    </tr>\n",
       "    <tr>\n",
       "      <th>Solution Type Encoded</th>\n",
       "      <td>0.043350</td>\n",
       "      <td>0.247020</td>\n",
       "      <td>0.126395</td>\n",
       "      <td>1.000000</td>\n",
       "      <td>0.112602</td>\n",
       "      <td>0.016434</td>\n",
       "      <td>0.403271</td>\n",
       "    </tr>\n",
       "    <tr>\n",
       "      <th>Sector Encoded</th>\n",
       "      <td>-0.023358</td>\n",
       "      <td>0.128306</td>\n",
       "      <td>0.284930</td>\n",
       "      <td>0.112602</td>\n",
       "      <td>1.000000</td>\n",
       "      <td>0.287482</td>\n",
       "      <td>0.097813</td>\n",
       "    </tr>\n",
       "    <tr>\n",
       "      <th>Location Encoded</th>\n",
       "      <td>0.036783</td>\n",
       "      <td>0.114917</td>\n",
       "      <td>0.370806</td>\n",
       "      <td>0.016434</td>\n",
       "      <td>0.287482</td>\n",
       "      <td>1.000000</td>\n",
       "      <td>0.087734</td>\n",
       "    </tr>\n",
       "    <tr>\n",
       "      <th>Name Pair Encoded</th>\n",
       "      <td>0.031922</td>\n",
       "      <td>0.399338</td>\n",
       "      <td>0.138194</td>\n",
       "      <td>0.403271</td>\n",
       "      <td>0.097813</td>\n",
       "      <td>0.087734</td>\n",
       "      <td>1.000000</td>\n",
       "    </tr>\n",
       "  </tbody>\n",
       "</table>\n",
       "</div>"
      ],
      "text/plain": [
       "                         Deal Cost  Deal Status Code  Client Category Encoded  \\\n",
       "Deal Cost                 1.000000         -0.044853                 0.041625   \n",
       "Deal Status Code         -0.044853          1.000000                 0.180709   \n",
       "Client Category Encoded   0.041625          0.180709                 1.000000   \n",
       "Solution Type Encoded     0.043350          0.247020                 0.126395   \n",
       "Sector Encoded           -0.023358          0.128306                 0.284930   \n",
       "Location Encoded          0.036783          0.114917                 0.370806   \n",
       "Name Pair Encoded         0.031922          0.399338                 0.138194   \n",
       "\n",
       "                         Solution Type Encoded  Sector Encoded  \\\n",
       "Deal Cost                             0.043350       -0.023358   \n",
       "Deal Status Code                      0.247020        0.128306   \n",
       "Client Category Encoded               0.126395        0.284930   \n",
       "Solution Type Encoded                 1.000000        0.112602   \n",
       "Sector Encoded                        0.112602        1.000000   \n",
       "Location Encoded                      0.016434        0.287482   \n",
       "Name Pair Encoded                     0.403271        0.097813   \n",
       "\n",
       "                         Location Encoded  Name Pair Encoded  \n",
       "Deal Cost                        0.036783           0.031922  \n",
       "Deal Status Code                 0.114917           0.399338  \n",
       "Client Category Encoded          0.370806           0.138194  \n",
       "Solution Type Encoded            0.016434           0.403271  \n",
       "Sector Encoded                   0.287482           0.097813  \n",
       "Location Encoded                 1.000000           0.087734  \n",
       "Name Pair Encoded                0.087734           1.000000  "
      ]
     },
     "execution_count": 75,
     "metadata": {},
     "output_type": "execute_result"
    }
   ],
   "source": [
    "df.corr()"
   ]
  },
  {
   "cell_type": "code",
   "execution_count": 76,
   "metadata": {},
   "outputs": [
    {
     "data": {
      "text/plain": [
       "<matplotlib.axes._subplots.AxesSubplot at 0x21e77fde088>"
      ]
     },
     "execution_count": 76,
     "metadata": {},
     "output_type": "execute_result"
    },
    {
     "data": {
      "image/png": "[encoded data removed]",
      "text/plain": [
       "<Figure size 1224x576 with 2 Axes>"
      ]
     },
     "metadata": {
      "needs_background": "light"
     },
     "output_type": "display_data"
    }
   ],
   "source": [
    "plt.figure(figsize=(17,8))\n",
    "c= df.corr()\n",
    "sns.heatmap(c,cmap=\"BrBG\",annot=True)"
   ]
  },
  {
   "cell_type": "code",
   "execution_count": 77,
   "metadata": {},
   "outputs": [
    {
     "data": {
      "text/html": [
       "<div>\n",
       "<style scoped>\n",
       "    .dataframe tbody tr th:only-of-type {\n",
       "        vertical-align: middle;\n",
       "    }\n",
       "\n",
       "    .dataframe tbody tr th {\n",
       "        vertical-align: top;\n",
       "    }\n",
       "\n",
       "    .dataframe thead th {\n",
       "        text-align: right;\n",
       "    }\n",
       "</style>\n",
       "<table border=\"1\" class=\"dataframe\">\n",
       "  <thead>\n",
       "    <tr style=\"text-align: right;\">\n",
       "      <th></th>\n",
       "      <th>Client Category</th>\n",
       "      <th>Solution Type</th>\n",
       "      <th>Deal Date</th>\n",
       "      <th>Sector</th>\n",
       "      <th>Location</th>\n",
       "      <th>VP Name</th>\n",
       "      <th>Manager Name</th>\n",
       "      <th>Deal Cost</th>\n",
       "      <th>Deal Status Code</th>\n",
       "      <th>Name Pair</th>\n",
       "      <th>Client Category Encoded</th>\n",
       "      <th>Solution Type Encoded</th>\n",
       "      <th>Sector Encoded</th>\n",
       "      <th>Location Encoded</th>\n",
       "      <th>Name Pair Encoded</th>\n",
       "    </tr>\n",
       "  </thead>\n",
       "  <tbody>\n",
       "    <tr>\n",
       "      <th>0</th>\n",
       "      <td>Telecom</td>\n",
       "      <td>Solution 7</td>\n",
       "      <td>2012-03-27</td>\n",
       "      <td>Sector 24</td>\n",
       "      <td>L5</td>\n",
       "      <td>Ekta Zutshi</td>\n",
       "      <td>Gopa Trilochana</td>\n",
       "      <td>2.478083</td>\n",
       "      <td>1</td>\n",
       "      <td>Ekta Zutshi Gopa Trilochana</td>\n",
       "      <td>0.412844</td>\n",
       "      <td>0.348315</td>\n",
       "      <td>0.377163</td>\n",
       "      <td>0.402062</td>\n",
       "      <td>0.484755</td>\n",
       "    </tr>\n",
       "    <tr>\n",
       "      <th>1</th>\n",
       "      <td>Telecom</td>\n",
       "      <td>Solution 7</td>\n",
       "      <td>2012-09-25</td>\n",
       "      <td>Sector 24</td>\n",
       "      <td>L5</td>\n",
       "      <td>Ekta Zutshi</td>\n",
       "      <td>Gopa Trilochana</td>\n",
       "      <td>2.604225</td>\n",
       "      <td>1</td>\n",
       "      <td>Ekta Zutshi Gopa Trilochana</td>\n",
       "      <td>0.412844</td>\n",
       "      <td>0.348315</td>\n",
       "      <td>0.377163</td>\n",
       "      <td>0.402062</td>\n",
       "      <td>0.484755</td>\n",
       "    </tr>\n",
       "    <tr>\n",
       "      <th>2</th>\n",
       "      <td>Internal</td>\n",
       "      <td>Solution 59</td>\n",
       "      <td>2011-08-01</td>\n",
       "      <td>Sector 20</td>\n",
       "      <td>Others</td>\n",
       "      <td>Ekta Zutshi</td>\n",
       "      <td>Russell Dahlen</td>\n",
       "      <td>2.398086</td>\n",
       "      <td>0</td>\n",
       "      <td>Ekta Zutshi Russell Dahlen</td>\n",
       "      <td>0.522696</td>\n",
       "      <td>0.322176</td>\n",
       "      <td>0.503234</td>\n",
       "      <td>0.478580</td>\n",
       "      <td>0.310529</td>\n",
       "    </tr>\n",
       "    <tr>\n",
       "      <th>3</th>\n",
       "      <td>Internal</td>\n",
       "      <td>Solution 59</td>\n",
       "      <td>2011-04-28</td>\n",
       "      <td>Sector 20</td>\n",
       "      <td>Others</td>\n",
       "      <td>Ekta Zutshi</td>\n",
       "      <td>Russell Dahlen</td>\n",
       "      <td>2.398086</td>\n",
       "      <td>0</td>\n",
       "      <td>Ekta Zutshi Russell Dahlen</td>\n",
       "      <td>0.522696</td>\n",
       "      <td>0.322176</td>\n",
       "      <td>0.503234</td>\n",
       "      <td>0.478580</td>\n",
       "      <td>0.310529</td>\n",
       "    </tr>\n",
       "    <tr>\n",
       "      <th>4</th>\n",
       "      <td>Internal</td>\n",
       "      <td>Solution 32</td>\n",
       "      <td>2011-06-03</td>\n",
       "      <td>Sector 20</td>\n",
       "      <td>Others</td>\n",
       "      <td>Ekta Zutshi</td>\n",
       "      <td>Russell Dahlen</td>\n",
       "      <td>2.424869</td>\n",
       "      <td>0</td>\n",
       "      <td>Ekta Zutshi Russell Dahlen</td>\n",
       "      <td>0.522696</td>\n",
       "      <td>0.564976</td>\n",
       "      <td>0.503234</td>\n",
       "      <td>0.478580</td>\n",
       "      <td>0.310529</td>\n",
       "    </tr>\n",
       "  </tbody>\n",
       "</table>\n",
       "</div>"
      ],
      "text/plain": [
       "  Client Category Solution Type  Deal Date     Sector Location      VP Name  \\\n",
       "0         Telecom    Solution 7 2012-03-27  Sector 24       L5  Ekta Zutshi   \n",
       "1         Telecom    Solution 7 2012-09-25  Sector 24       L5  Ekta Zutshi   \n",
       "2        Internal   Solution 59 2011-08-01  Sector 20   Others  Ekta Zutshi   \n",
       "3        Internal   Solution 59 2011-04-28  Sector 20   Others  Ekta Zutshi   \n",
       "4        Internal   Solution 32 2011-06-03  Sector 20   Others  Ekta Zutshi   \n",
       "\n",
       "      Manager Name  Deal Cost  Deal Status Code                    Name Pair  \\\n",
       "0  Gopa Trilochana   2.478083                 1  Ekta Zutshi Gopa Trilochana   \n",
       "1  Gopa Trilochana   2.604225                 1  Ekta Zutshi Gopa Trilochana   \n",
       "2   Russell Dahlen   2.398086                 0   Ekta Zutshi Russell Dahlen   \n",
       "3   Russell Dahlen   2.398086                 0   Ekta Zutshi Russell Dahlen   \n",
       "4   Russell Dahlen   2.424869                 0   Ekta Zutshi Russell Dahlen   \n",
       "\n",
       "   Client Category Encoded  Solution Type Encoded  Sector Encoded  \\\n",
       "0                 0.412844               0.348315        0.377163   \n",
       "1                 0.412844               0.348315        0.377163   \n",
       "2                 0.522696               0.322176        0.503234   \n",
       "3                 0.522696               0.322176        0.503234   \n",
       "4                 0.522696               0.564976        0.503234   \n",
       "\n",
       "   Location Encoded  Name Pair Encoded  \n",
       "0          0.402062           0.484755  \n",
       "1          0.402062           0.484755  \n",
       "2          0.478580           0.310529  \n",
       "3          0.478580           0.310529  \n",
       "4          0.478580           0.310529  "
      ]
     },
     "execution_count": 77,
     "metadata": {},
     "output_type": "execute_result"
    }
   ],
   "source": [
    "df.head()"
   ]
  },
  {
   "cell_type": "markdown",
   "metadata": {},
   "source": [
    "# Features Selection"
   ]
  },
  {
   "cell_type": "code",
   "execution_count": 78,
   "metadata": {},
   "outputs": [],
   "source": [
    "df2=df.reindex(columns= ['Client Category Encoded', 'Solution Type Encoded','Sector Encoded','Name Pair Encoded','Deal Cost','Deal Status Code'])"
   ]
  },
  {
   "cell_type": "markdown",
   "metadata": {},
   "source": [
    "# TRAIN TEST SPLIT"
   ]
  },
  {
   "cell_type": "code",
   "execution_count": 79,
   "metadata": {},
   "outputs": [],
   "source": [
    "x=df2.drop(columns=[\"Deal Status Code\"],axis=1)\n",
    "y=df2[\"Deal Status Code\"]"
   ]
  },
  {
   "cell_type": "code",
   "execution_count": 80,
   "metadata": {},
   "outputs": [],
   "source": [
    "from sklearn.model_selection import train_test_split\n",
    "x_train,x_test,y_train,y_test=train_test_split(x,y,test_size=0.3,random_state=0)"
   ]
  },
  {
   "cell_type": "markdown",
   "metadata": {},
   "source": [
    "# DATA SCALING"
   ]
  },
  {
   "cell_type": "code",
   "execution_count": 81,
   "metadata": {},
   "outputs": [],
   "source": [
    "from sklearn.preprocessing import StandardScaler\n",
    "sc = StandardScaler()"
   ]
  },
  {
   "cell_type": "code",
   "execution_count": 82,
   "metadata": {},
   "outputs": [],
   "source": [
    "x_train = sc.fit_transform(x_train)\n",
    "x_test = sc.transform(x_test)"
   ]
  },
  {
   "cell_type": "markdown",
   "metadata": {},
   "source": [
    "# USED LOGISTIC REGRESSION TO BUILD MODEL"
   ]
  },
  {
   "cell_type": "code",
   "execution_count": 83,
   "metadata": {},
   "outputs": [
    {
     "data": {
      "text/plain": [
       "LogisticRegression(C=1.0, class_weight=None, dual=False, fit_intercept=True,\n",
       "                   intercept_scaling=1, l1_ratio=None, max_iter=100,\n",
       "                   multi_class='auto', n_jobs=None, penalty='l2',\n",
       "                   random_state=None, solver='lbfgs', tol=0.0001, verbose=0,\n",
       "                   warm_start=False)"
      ]
     },
     "execution_count": 83,
     "metadata": {},
     "output_type": "execute_result"
    }
   ],
   "source": [
    "from sklearn.linear_model import LogisticRegression\n",
    "lor= LogisticRegression()\n",
    "lor.fit(x_train,y_train)"
   ]
  },
  {
   "cell_type": "code",
   "execution_count": 84,
   "metadata": {},
   "outputs": [],
   "source": [
    "pred_lor= lor.predict(x_test)"
   ]
  },
  {
   "cell_type": "code",
   "execution_count": 85,
   "metadata": {},
   "outputs": [],
   "source": [
    "from sklearn.metrics import accuracy_score, confusion_matrix, classification_report"
   ]
  },
  {
   "cell_type": "code",
   "execution_count": 86,
   "metadata": {},
   "outputs": [
    {
     "name": "stdout",
     "output_type": "stream",
     "text": [
      "Accuracy of Logistic Regression model :  72.11\n"
     ]
    }
   ],
   "source": [
    "acc_lor = round( metrics.accuracy_score(y_test, pred_lor) * 100 , 2 )\n",
    "print( 'Accuracy of Logistic Regression model : ', acc_lor )"
   ]
  },
  {
   "cell_type": "code",
   "execution_count": 87,
   "metadata": {},
   "outputs": [
    {
     "name": "stdout",
     "output_type": "stream",
     "text": [
      "              precision    recall  f1-score   support\n",
      "\n",
      "           0       0.73      0.88      0.80      1883\n",
      "           1       0.70      0.46      0.55      1136\n",
      "\n",
      "    accuracy                           0.72      3019\n",
      "   macro avg       0.71      0.67      0.68      3019\n",
      "weighted avg       0.72      0.72      0.71      3019\n",
      "\n"
     ]
    }
   ],
   "source": [
    "print(classification_report(y_test, pred_lor))"
   ]
  },
  {
   "cell_type": "code",
   "execution_count": 88,
   "metadata": {},
   "outputs": [
    {
     "name": "stdout",
     "output_type": "stream",
     "text": [
      "[[1655  228]\n",
      " [ 614  522]]\n"
     ]
    }
   ],
   "source": [
    "print(confusion_matrix(y_test, pred_lor))\n",
    "\n",
    "#TP FN\n",
    "#FP TN"
   ]
  },
  {
   "cell_type": "code",
   "execution_count": 89,
   "metadata": {},
   "outputs": [
    {
     "data": {
      "text/plain": [
       "<sklearn.metrics._plot.confusion_matrix.ConfusionMatrixDisplay at 0x21e78d2e488>"
      ]
     },
     "execution_count": 89,
     "metadata": {},
     "output_type": "execute_result"
    },
    {
     "data": {
      "image/png": "[encoded data removed]",
      "text/plain": [
       "<Figure size 432x288 with 2 Axes>"
      ]
     },
     "metadata": {
      "needs_background": "light"
     },
     "output_type": "display_data"
    }
   ],
   "source": [
    "from sklearn.metrics import plot_confusion_matrix,plot_roc_curve,roc_auc_score,roc_curve\n",
    "plot_confusion_matrix(lor, x_test, y_test, values_format='d', display_labels=['Won', 'Lost'])"
   ]
  },
  {
   "cell_type": "code",
   "execution_count": 90,
   "metadata": {},
   "outputs": [
    {
     "data": {
      "text/plain": [
       "<sklearn.metrics._plot.roc_curve.RocCurveDisplay at 0x21e79019b08>"
      ]
     },
     "execution_count": 90,
     "metadata": {},
     "output_type": "execute_result"
    },
    {
     "data": {
      "image/png": "[encoded data removed]",
      "text/plain": [
       "<Figure size 432x288 with 1 Axes>"
      ]
     },
     "metadata": {
      "needs_background": "light"
     },
     "output_type": "display_data"
    }
   ],
   "source": [
    "plot_roc_curve(lor,x_test,y_test)"
   ]
  },
  {
   "cell_type": "markdown",
   "metadata": {},
   "source": [
    "# VALIDATING THE MODEL USING K- FOLD CROSS VALIDATION"
   ]
  },
  {
   "cell_type": "code",
   "execution_count": 91,
   "metadata": {},
   "outputs": [],
   "source": [
    "from sklearn.model_selection import KFold\n",
    "from sklearn.model_selection import cross_val_score"
   ]
  },
  {
   "cell_type": "code",
   "execution_count": 92,
   "metadata": {},
   "outputs": [
    {
     "name": "stdout",
     "output_type": "stream",
     "text": [
      "Scores: [0.74184397 0.70496454 0.74147727 0.734375   0.71590909 0.70028409\n",
      " 0.74573864 0.71306818 0.72585227 0.74573864]\n",
      "Mean: 0.726925169245648\n",
      "Standard deviation: 0.01644464950510464\n"
     ]
    }
   ],
   "source": [
    "kfold = KFold(n_splits=10, shuffle=True, random_state=7)\n",
    "scores = cross_val_score(lor, x_train, y_train, cv=kfold)\n",
    "print(\"Scores:\", scores)\n",
    "print(\"Mean:\", scores.mean())\n",
    "print(\"Standard deviation:\", scores.std())"
   ]
  },
  {
   "cell_type": "markdown",
   "metadata": {},
   "source": [
    "# USED RANDOM FOREST CLASSIFIER TO BUILD MODEL"
   ]
  },
  {
   "cell_type": "code",
   "execution_count": 93,
   "metadata": {},
   "outputs": [
    {
     "data": {
      "text/plain": [
       "RandomForestClassifier(bootstrap=False, ccp_alpha=0.0, class_weight=None,\n",
       "                       criterion='entropy', max_depth=None, max_features=2,\n",
       "                       max_leaf_nodes=None, max_samples=None,\n",
       "                       min_impurity_decrease=0.0, min_impurity_split=None,\n",
       "                       min_samples_leaf=1, min_samples_split=5,\n",
       "                       min_weight_fraction_leaf=0.0, n_estimators=100,\n",
       "                       n_jobs=None, oob_score=False, random_state=10, verbose=0,\n",
       "                       warm_start=False)"
      ]
     },
     "execution_count": 93,
     "metadata": {},
     "output_type": "execute_result"
    }
   ],
   "source": [
    "from sklearn.ensemble import RandomForestClassifier\n",
    "rfc = RandomForestClassifier(bootstrap = False,\n",
    "                             criterion = 'entropy',\n",
    "                             max_depth = None,\n",
    "                             max_features = 2,\n",
    "                             min_samples_leaf = 1,\n",
    "                             min_samples_split = 5,\n",
    "                             n_estimators = 100,\n",
    "                             random_state = 10)\n",
    "rfc.fit(x_train,y_train)"
   ]
  },
  {
   "cell_type": "code",
   "execution_count": 94,
   "metadata": {},
   "outputs": [],
   "source": [
    "predict_rfc = rfc.predict(x_test)"
   ]
  },
  {
   "cell_type": "code",
   "execution_count": 95,
   "metadata": {},
   "outputs": [],
   "source": [
    "from sklearn.metrics import accuracy_score, confusion_matrix, classification_report"
   ]
  },
  {
   "cell_type": "code",
   "execution_count": 96,
   "metadata": {},
   "outputs": [
    {
     "name": "stdout",
     "output_type": "stream",
     "text": [
      "Accuracy of Random Forest Classifier model :  82.88\n"
     ]
    }
   ],
   "source": [
    "acc_rfc = round( metrics.accuracy_score(y_test, predict_rfc) * 100 , 2 )\n",
    "print( 'Accuracy of Random Forest Classifier model : ', acc_rfc )"
   ]
  },
  {
   "cell_type": "code",
   "execution_count": 97,
   "metadata": {},
   "outputs": [
    {
     "name": "stdout",
     "output_type": "stream",
     "text": [
      "              precision    recall  f1-score   support\n",
      "\n",
      "           0       0.83      0.92      0.87      1883\n",
      "           1       0.84      0.68      0.75      1136\n",
      "\n",
      "    accuracy                           0.83      3019\n",
      "   macro avg       0.83      0.80      0.81      3019\n",
      "weighted avg       0.83      0.83      0.82      3019\n",
      "\n"
     ]
    }
   ],
   "source": [
    "print(classification_report(y_test, predict_rfc))"
   ]
  },
  {
   "cell_type": "code",
   "execution_count": 98,
   "metadata": {},
   "outputs": [
    {
     "name": "stdout",
     "output_type": "stream",
     "text": [
      "[[1731  152]\n",
      " [ 365  771]]\n"
     ]
    }
   ],
   "source": [
    "print(confusion_matrix(y_test, predict_rfc))\n",
    "\n",
    "#TP FN\n",
    "#FP TN"
   ]
  },
  {
   "cell_type": "code",
   "execution_count": 99,
   "metadata": {},
   "outputs": [
    {
     "data": {
      "text/plain": [
       "<sklearn.metrics._plot.confusion_matrix.ConfusionMatrixDisplay at 0x21e794db8c8>"
      ]
     },
     "execution_count": 99,
     "metadata": {},
     "output_type": "execute_result"
    },
    {
     "data": {
      "image/png": "[encoded data removed]",
      "text/plain": [
       "<Figure size 432x288 with 2 Axes>"
      ]
     },
     "metadata": {
      "needs_background": "light"
     },
     "output_type": "display_data"
    }
   ],
   "source": [
    "from sklearn.metrics import plot_confusion_matrix,plot_roc_curve \n",
    "plot_confusion_matrix(rfc, x_test, y_test, values_format='d', display_labels=['Won', 'Lost'])"
   ]
  },
  {
   "cell_type": "code",
   "execution_count": 100,
   "metadata": {},
   "outputs": [
    {
     "data": {
      "text/plain": [
       "<sklearn.metrics._plot.roc_curve.RocCurveDisplay at 0x21e798f1a08>"
      ]
     },
     "execution_count": 100,
     "metadata": {},
     "output_type": "execute_result"
    },
    {
     "data": {
      "image/png": "[encoded data removed]",
      "text/plain": [
       "<Figure size 432x288 with 1 Axes>"
      ]
     },
     "metadata": {
      "needs_background": "light"
     },
     "output_type": "display_data"
    }
   ],
   "source": [
    "plot_roc_curve(rfc,x_test,y_test)"
   ]
  },
  {
   "cell_type": "markdown",
   "metadata": {},
   "source": [
    "# USED RANDOMIZED SEARCH CV"
   ]
  },
  {
   "cell_type": "code",
   "execution_count": 101,
   "metadata": {},
   "outputs": [],
   "source": [
    "from sklearn.model_selection import RandomizedSearchCV\n",
    "from scipy.stats import randint"
   ]
  },
  {
   "cell_type": "code",
   "execution_count": 102,
   "metadata": {},
   "outputs": [],
   "source": [
    "parameters={'max_depth':[3,5,None],\n",
    "            'n_estimators':[10,100,200],\n",
    "            'max_features':randint(1,3),\n",
    "            'criterion':['gini','entropy'],\n",
    "            'bootstrap':[True,False],\n",
    "            'min_samples_leaf':randint(1,4),\n",
    "            'min_samples_split': [2,5,10]\n",
    "              }"
   ]
  },
  {
   "cell_type": "code",
   "execution_count": 103,
   "metadata": {},
   "outputs": [],
   "source": [
    "rfc_randomcv = RandomizedSearchCV(estimator = rfc,\n",
    "                                  param_distributions = parameters,\n",
    "                                  cv = 5,\n",
    "                                  verbose = 2,\n",
    "                                  n_jobs = -1, random_state=10)"
   ]
  },
  {
   "cell_type": "code",
   "execution_count": 104,
   "metadata": {},
   "outputs": [
    {
     "name": "stdout",
     "output_type": "stream",
     "text": [
      "Fitting 5 folds for each of 10 candidates, totalling 50 fits\n"
     ]
    },
    {
     "name": "stderr",
     "output_type": "stream",
     "text": [
      "[Parallel(n_jobs=-1)]: Using backend LokyBackend with 8 concurrent workers.\n",
      "[Parallel(n_jobs=-1)]: Done  25 tasks      | elapsed:    4.1s\n",
      "[Parallel(n_jobs=-1)]: Done  50 out of  50 | elapsed:    5.0s finished\n"
     ]
    },
    {
     "data": {
      "text/plain": [
       "RandomizedSearchCV(cv=5, error_score=nan,\n",
       "                   estimator=RandomForestClassifier(bootstrap=False,\n",
       "                                                    ccp_alpha=0.0,\n",
       "                                                    class_weight=None,\n",
       "                                                    criterion='entropy',\n",
       "                                                    max_depth=None,\n",
       "                                                    max_features=2,\n",
       "                                                    max_leaf_nodes=None,\n",
       "                                                    max_samples=None,\n",
       "                                                    min_impurity_decrease=0.0,\n",
       "                                                    min_impurity_split=None,\n",
       "                                                    min_samples_leaf=1,\n",
       "                                                    min_samples_split=5,\n",
       "                                                    min_weight_fraction_leaf=0.0,\n",
       "                                                    n_estimators=100,\n",
       "                                                    n_jobs=...\n",
       "                                        'max_depth': [3, 5, None],\n",
       "                                        'max_features': <scipy.stats._distn_infrastructure.rv_frozen object at 0x0000021E799DB748>,\n",
       "                                        'min_samples_leaf': <scipy.stats._distn_infrastructure.rv_frozen object at 0x0000021E799C33C8>,\n",
       "                                        'min_samples_split': [2, 5, 10],\n",
       "                                        'n_estimators': [10, 100, 200]},\n",
       "                   pre_dispatch='2*n_jobs', random_state=10, refit=True,\n",
       "                   return_train_score=False, scoring=None, verbose=2)"
      ]
     },
     "execution_count": 104,
     "metadata": {},
     "output_type": "execute_result"
    }
   ],
   "source": [
    "rfc_randomcv.fit(x_train, y_train)"
   ]
  },
  {
   "cell_type": "code",
   "execution_count": 105,
   "metadata": {},
   "outputs": [
    {
     "data": {
      "text/plain": [
       "{'bootstrap': False,\n",
       " 'criterion': 'gini',\n",
       " 'max_depth': None,\n",
       " 'max_features': 1,\n",
       " 'min_samples_leaf': 2,\n",
       " 'min_samples_split': 10,\n",
       " 'n_estimators': 10}"
      ]
     },
     "execution_count": 105,
     "metadata": {},
     "output_type": "execute_result"
    }
   ],
   "source": [
    "rfc_randomcv.best_params_"
   ]
  },
  {
   "cell_type": "markdown",
   "metadata": {},
   "source": [
    "# VALIDATING THE MODEL USING K- FOLD CROSS VALIDATION"
   ]
  },
  {
   "cell_type": "code",
   "execution_count": 106,
   "metadata": {},
   "outputs": [
    {
     "name": "stdout",
     "output_type": "stream",
     "text": [
      "Scores: [0.82836879 0.82695035 0.828125   0.81107955 0.828125   0.79545455\n",
      " 0.8125     0.828125   0.80823864 0.82102273]\n",
      "Mean: 0.8187989603481624\n",
      "Standard deviation: 0.010861148898838846\n"
     ]
    }
   ],
   "source": [
    "kfold = KFold(n_splits=10, shuffle=True, random_state=7)\n",
    "scores = cross_val_score(rfc, x_train, y_train, cv=kfold)\n",
    "print(\"Scores:\", scores)\n",
    "print(\"Mean:\", scores.mean())\n",
    "print(\"Standard deviation:\", scores.std())"
   ]
  },
  {
   "cell_type": "markdown",
   "metadata": {},
   "source": [
    "# USED XGBOOST CLASSIFIER TO BUILD MODEL"
   ]
  },
  {
   "cell_type": "code",
   "execution_count": 107,
   "metadata": {},
   "outputs": [],
   "source": [
    "#!pip install xgboost"
   ]
  },
  {
   "cell_type": "code",
   "execution_count": 108,
   "metadata": {},
   "outputs": [
    {
     "data": {
      "text/plain": [
       "XGBClassifier(base_score=0.5, booster='gbtree', callbacks=None,\n",
       "              colsample_bylevel=1, colsample_bynode=1, colsample_bytree=1,\n",
       "              early_stopping_rounds=None, enable_categorical=False,\n",
       "              eval_metric=None, gamma=0, gpu_id=-1, grow_policy='depthwise',\n",
       "              importance_type=None, interaction_constraints='',\n",
       "              learning_rate=0.300000012, max_bin=256, max_cat_to_onehot=4,\n",
       "              max_delta_step=0, max_depth=6, max_leaves=0, min_child_weight=1,\n",
       "              missing=nan, monotone_constraints='()', n_estimators=100,\n",
       "              n_jobs=0, num_parallel_tree=1, objective='binary:logistic',\n",
       "              predictor='auto', random_state=0, reg_alpha=0, ...)"
      ]
     },
     "execution_count": 108,
     "metadata": {},
     "output_type": "execute_result"
    }
   ],
   "source": [
    "from xgboost import XGBClassifier\n",
    "xgc = XGBClassifier()\n",
    "xgc.fit(x_train, y_train)"
   ]
  },
  {
   "cell_type": "code",
   "execution_count": 109,
   "metadata": {},
   "outputs": [],
   "source": [
    "#!pip install xgboost"
   ]
  },
  {
   "cell_type": "code",
   "execution_count": 110,
   "metadata": {},
   "outputs": [],
   "source": [
    "predict_xgc = xgc.predict(x_test)"
   ]
  },
  {
   "cell_type": "code",
   "execution_count": 111,
   "metadata": {},
   "outputs": [
    {
     "name": "stdout",
     "output_type": "stream",
     "text": [
      "Accuracy of XGBoost Classifier model :  80.42\n"
     ]
    }
   ],
   "source": [
    "acc_xgc = round( metrics.accuracy_score(y_test, predict_xgc) * 100 , 2 )\n",
    "print( 'Accuracy of XGBoost Classifier model : ', acc_xgc )"
   ]
  },
  {
   "cell_type": "code",
   "execution_count": 112,
   "metadata": {},
   "outputs": [
    {
     "name": "stdout",
     "output_type": "stream",
     "text": [
      "              precision    recall  f1-score   support\n",
      "\n",
      "           0       0.82      0.89      0.85      1883\n",
      "           1       0.78      0.67      0.72      1136\n",
      "\n",
      "    accuracy                           0.80      3019\n",
      "   macro avg       0.80      0.78      0.78      3019\n",
      "weighted avg       0.80      0.80      0.80      3019\n",
      "\n"
     ]
    }
   ],
   "source": [
    "print(classification_report(y_test, predict_xgc))"
   ]
  },
  {
   "cell_type": "code",
   "execution_count": 113,
   "metadata": {},
   "outputs": [
    {
     "name": "stdout",
     "output_type": "stream",
     "text": [
      "[[1671  212]\n",
      " [ 379  757]]\n"
     ]
    }
   ],
   "source": [
    "print(confusion_matrix(y_test, predict_xgc))\n",
    "\n",
    "#TP FN\n",
    "#FP TN"
   ]
  },
  {
   "cell_type": "code",
   "execution_count": 114,
   "metadata": {},
   "outputs": [
    {
     "data": {
      "text/plain": [
       "<sklearn.metrics._plot.confusion_matrix.ConfusionMatrixDisplay at 0x21e79da1b48>"
      ]
     },
     "execution_count": 114,
     "metadata": {},
     "output_type": "execute_result"
    },
    {
     "data": {
      "image/png": "[encoded data removed]",
      "text/plain": [
       "<Figure size 432x288 with 2 Axes>"
      ]
     },
     "metadata": {
      "needs_background": "light"
     },
     "output_type": "display_data"
    }
   ],
   "source": [
    "from sklearn.metrics import plot_confusion_matrix,plot_roc_curve \n",
    "plot_confusion_matrix(xgc, x_test, y_test, values_format='d', display_labels=['Won', 'Lost'])"
   ]
  },
  {
   "cell_type": "code",
   "execution_count": 115,
   "metadata": {},
   "outputs": [
    {
     "data": {
      "text/plain": [
       "<sklearn.metrics._plot.roc_curve.RocCurveDisplay at 0x21e7a00b288>"
      ]
     },
     "execution_count": 115,
     "metadata": {},
     "output_type": "execute_result"
    },
    {
     "data": {
      "image/png": "[encoded data removed]",
      "text/plain": [
       "<Figure size 432x288 with 1 Axes>"
      ]
     },
     "metadata": {
      "needs_background": "light"
     },
     "output_type": "display_data"
    }
   ],
   "source": [
    "plot_roc_curve(xgc,x_test,y_test)"
   ]
  },
  {
   "cell_type": "markdown",
   "metadata": {},
   "source": [
    "# VALIDATING THE MODEL USING K- FOLD CROSS VALIDATION"
   ]
  },
  {
   "cell_type": "code",
   "execution_count": 116,
   "metadata": {},
   "outputs": [
    {
     "name": "stdout",
     "output_type": "stream",
     "text": [
      "Scores: [0.80425532 0.79007092 0.79545455 0.80539773 0.8125     0.78409091\n",
      " 0.81818182 0.77840909 0.77556818 0.81534091]\n",
      "Mean: 0.7979269422952934\n",
      "Standard deviation: 0.014703290578178208\n"
     ]
    }
   ],
   "source": [
    "kfold = KFold(n_splits=10, shuffle=True, random_state=7)\n",
    "scores = cross_val_score(xgc, x_train, y_train, cv=kfold)\n",
    "print(\"Scores:\", scores)\n",
    "print(\"Mean:\", scores.mean())\n",
    "print(\"Standard deviation:\", scores.std())"
   ]
  },
  {
   "cell_type": "markdown",
   "metadata": {},
   "source": [
    "# MODELS ACCURACY"
   ]
  },
  {
   "cell_type": "code",
   "execution_count": 117,
   "metadata": {},
   "outputs": [
    {
     "data": {
      "text/html": [
       "<div>\n",
       "<style scoped>\n",
       "    .dataframe tbody tr th:only-of-type {\n",
       "        vertical-align: middle;\n",
       "    }\n",
       "\n",
       "    .dataframe tbody tr th {\n",
       "        vertical-align: top;\n",
       "    }\n",
       "\n",
       "    .dataframe thead th {\n",
       "        text-align: right;\n",
       "    }\n",
       "</style>\n",
       "<table border=\"1\" class=\"dataframe\">\n",
       "  <thead>\n",
       "    <tr style=\"text-align: right;\">\n",
       "      <th></th>\n",
       "      <th>Model</th>\n",
       "      <th>Score</th>\n",
       "    </tr>\n",
       "  </thead>\n",
       "  <tbody>\n",
       "    <tr>\n",
       "      <th>1</th>\n",
       "      <td>RandomForest</td>\n",
       "      <td>82.88</td>\n",
       "    </tr>\n",
       "    <tr>\n",
       "      <th>2</th>\n",
       "      <td>XGBoost</td>\n",
       "      <td>80.42</td>\n",
       "    </tr>\n",
       "    <tr>\n",
       "      <th>0</th>\n",
       "      <td>LogisticRegression</td>\n",
       "      <td>72.11</td>\n",
       "    </tr>\n",
       "  </tbody>\n",
       "</table>\n",
       "</div>"
      ],
      "text/plain": [
       "                Model  Score\n",
       "1        RandomForest  82.88\n",
       "2             XGBoost  80.42\n",
       "0  LogisticRegression  72.11"
      ]
     },
     "execution_count": 117,
     "metadata": {},
     "output_type": "execute_result"
    }
   ],
   "source": [
    "models = pd.DataFrame({'Model':['LogisticRegression', 'RandomForest', 'XGBoost'],'Score': [acc_lor,acc_rfc, acc_xgc]})\n",
    "\n",
    "models.sort_values(by='Score', ascending=False)"
   ]
  },
  {
   "cell_type": "markdown",
   "metadata": {},
   "source": [
    "# TOP 5 COMBINATION OF SBU HEAD-BID MANAGER"
   ]
  },
  {
   "cell_type": "code",
   "execution_count": 118,
   "metadata": {},
   "outputs": [
    {
     "data": {
      "text/plain": [
       "3755"
      ]
     },
     "execution_count": 118,
     "metadata": {},
     "output_type": "execute_result"
    }
   ],
   "source": [
    "sum(df['Deal Status Code']==1)"
   ]
  },
  {
   "cell_type": "code",
   "execution_count": 119,
   "metadata": {
    "scrolled": true
   },
   "outputs": [
    {
     "data": {
      "text/html": [
       "<div>\n",
       "<style scoped>\n",
       "    .dataframe tbody tr th:only-of-type {\n",
       "        vertical-align: middle;\n",
       "    }\n",
       "\n",
       "    .dataframe tbody tr th {\n",
       "        vertical-align: top;\n",
       "    }\n",
       "\n",
       "    .dataframe thead th {\n",
       "        text-align: right;\n",
       "    }\n",
       "</style>\n",
       "<table border=\"1\" class=\"dataframe\">\n",
       "  <thead>\n",
       "    <tr style=\"text-align: right;\">\n",
       "      <th></th>\n",
       "      <th>Name Pair</th>\n",
       "      <th>Won Counts</th>\n",
       "    </tr>\n",
       "  </thead>\n",
       "  <tbody>\n",
       "    <tr>\n",
       "      <th>0</th>\n",
       "      <td>Long Bergstrom Russell Dahlen</td>\n",
       "      <td>75</td>\n",
       "    </tr>\n",
       "    <tr>\n",
       "      <th>1</th>\n",
       "      <td>Rahul Bajpai Rudraksh Sharma</td>\n",
       "      <td>72</td>\n",
       "    </tr>\n",
       "    <tr>\n",
       "      <th>2</th>\n",
       "      <td>neeraj kumar Molly Eakes</td>\n",
       "      <td>62</td>\n",
       "    </tr>\n",
       "    <tr>\n",
       "      <th>3</th>\n",
       "      <td>Ankita Aggarwal Desmond Krout</td>\n",
       "      <td>53</td>\n",
       "    </tr>\n",
       "    <tr>\n",
       "      <th>4</th>\n",
       "      <td>neeraj kumar Vinay Kumar</td>\n",
       "      <td>51</td>\n",
       "    </tr>\n",
       "  </tbody>\n",
       "</table>\n",
       "</div>"
      ],
      "text/plain": [
       "                       Name Pair  Won Counts\n",
       "0  Long Bergstrom Russell Dahlen          75\n",
       "1   Rahul Bajpai Rudraksh Sharma          72\n",
       "2       neeraj kumar Molly Eakes          62\n",
       "3  Ankita Aggarwal Desmond Krout          53\n",
       "4       neeraj kumar Vinay Kumar          51"
      ]
     },
     "execution_count": 119,
     "metadata": {},
     "output_type": "execute_result"
    }
   ],
   "source": [
    "combination = df[df[\"Deal Status Code\"]==1]\n",
    "combi = combination[\"Name Pair\"].value_counts().rename_axis(\"Name Pair\").reset_index(name=\"Won Counts\")\n",
    "combi.head()\n"
   ]
  },
  {
   "cell_type": "code",
   "execution_count": 120,
   "metadata": {},
   "outputs": [
    {
     "data": {
      "image/png": "[encoded data removed]",
      "text/plain": [
       "<Figure size 720x576 with 1 Axes>"
      ]
     },
     "metadata": {
      "needs_background": "light"
     },
     "output_type": "display_data"
    }
   ],
   "source": [
    "\n",
    "\n",
    "# filter the dataframe based on the condition\n",
    "combination = df[df[\"Deal Status Code\"] == 1]\n",
    "\n",
    "# count the number of times each \"Name Pair\" appears in the filtered dataframe\n",
    "combi = combination[\"Name Pair\"].value_counts().rename_axis(\"Name Pair\").reset_index(name=\"Won Counts\")\n",
    "\n",
    "# sort the values in descending order\n",
    "combi = combi.sort_values(by=\"Won Counts\", ascending=False)\n",
    "\n",
    "# plot the bar chart\n",
    "plt.figure(figsize=(10, 8))\n",
    "plt.bar(combi[\"Name Pair\"], combi[\"Won Counts\"])\n",
    "plt.xticks(rotation=90)\n",
    "plt.xlabel(\"Name Pair\")\n",
    "plt.ylabel(\"Won Counts\")\n",
    "plt.title(\"Number of Deals Won by Name Pair\")\n",
    "plt.show()\n"
   ]
  },
  {
   "cell_type": "markdown",
   "metadata": {},
   "source": [
    "# COMPANY LOSS WRT FALSE PREDICTION"
   ]
  },
  {
   "cell_type": "code",
   "execution_count": 121,
   "metadata": {},
   "outputs": [],
   "source": [
    "df1 = pd.read_excel('Win_Prediction_Data.xlsx')"
   ]
  },
  {
   "cell_type": "code",
   "execution_count": 122,
   "metadata": {},
   "outputs": [
    {
     "data": {
      "text/html": [
       "<div>\n",
       "<style scoped>\n",
       "    .dataframe tbody tr th:only-of-type {\n",
       "        vertical-align: middle;\n",
       "    }\n",
       "\n",
       "    .dataframe tbody tr th {\n",
       "        vertical-align: top;\n",
       "    }\n",
       "\n",
       "    .dataframe thead th {\n",
       "        text-align: right;\n",
       "    }\n",
       "</style>\n",
       "<table border=\"1\" class=\"dataframe\">\n",
       "  <thead>\n",
       "    <tr style=\"text-align: right;\">\n",
       "      <th></th>\n",
       "      <th>Deal Cost</th>\n",
       "      <th>Actual Values</th>\n",
       "      <th>Predicted Values</th>\n",
       "    </tr>\n",
       "  </thead>\n",
       "  <tbody>\n",
       "    <tr>\n",
       "      <th>0</th>\n",
       "      <td>147058.82</td>\n",
       "      <td>0</td>\n",
       "      <td>0</td>\n",
       "    </tr>\n",
       "    <tr>\n",
       "      <th>1</th>\n",
       "      <td>279411.77</td>\n",
       "      <td>0</td>\n",
       "      <td>1</td>\n",
       "    </tr>\n",
       "    <tr>\n",
       "      <th>2</th>\n",
       "      <td>323529.41</td>\n",
       "      <td>1</td>\n",
       "      <td>0</td>\n",
       "    </tr>\n",
       "    <tr>\n",
       "      <th>3</th>\n",
       "      <td>226176.47</td>\n",
       "      <td>1</td>\n",
       "      <td>1</td>\n",
       "    </tr>\n",
       "    <tr>\n",
       "      <th>4</th>\n",
       "      <td>2558823.53</td>\n",
       "      <td>0</td>\n",
       "      <td>0</td>\n",
       "    </tr>\n",
       "  </tbody>\n",
       "</table>\n",
       "</div>"
      ],
      "text/plain": [
       "    Deal Cost  Actual Values  Predicted Values\n",
       "0   147058.82              0                 0\n",
       "1   279411.77              0                 1\n",
       "2   323529.41              1                 0\n",
       "3   226176.47              1                 1\n",
       "4  2558823.53              0                 0"
      ]
     },
     "execution_count": 122,
     "metadata": {},
     "output_type": "execute_result"
    }
   ],
   "source": [
    "compn_df = pd.DataFrame(y_test)\n",
    "compn_df[\"Deal Cost\"] = df1[\"Deal Cost\"]\n",
    "compn_df[\"Actual Values\"]= compn_df[\"Deal Status Code\"]\n",
    "compn_df = compn_df.drop(\"Deal Status Code\",axis = 1)\n",
    "compn_df[\"Predicted Values\"] = predict_rfc\n",
    "compn_df = compn_df.reset_index(drop=True)\n",
    "compn_df.head()"
   ]
  },
  {
   "cell_type": "code",
   "execution_count": 123,
   "metadata": {},
   "outputs": [
    {
     "name": "stdout",
     "output_type": "stream",
     "text": [
      "381677941.4400003\n"
     ]
    }
   ],
   "source": [
    "sums = 0\n",
    "for i,j,k in zip(compn_df[\"Predicted Values\"],compn_df[\"Actual Values\"],compn_df[\"Deal Cost\"]):\n",
    "    if i!=j:\n",
    "        sums=k+sums        \n",
    "print(sums)"
   ]
  },
  {
   "cell_type": "code",
   "execution_count": null,
   "metadata": {},
   "outputs": [],
   "source": []
  }
 ],
 "metadata": {
  "kernelspec": {
   "display_name": "Python 3",
   "language": "python",
   "name": "python3"
  },
  "language_info": {
   "codemirror_mode": {
    "name": "ipython",
    "version": 3
   },
   "file_extension": ".py",
   "mimetype": "text/x-python",
   "name": "python",
   "nbconvert_exporter": "python",
   "pygments_lexer": "ipython3",
   "version": "3.7.6"
  },
  "varInspector": {
   "cols": {
    "lenName": 16,
    "lenType": 16,
    "lenVar": 40
   },
   "kernels_config": {
    "python": {
     "delete_cmd_postfix": "",
     "delete_cmd_prefix": "del ",
     "library": "var_list.py",
     "varRefreshCmd": "print(var_dic_list())"
    },
    "r": {
     "delete_cmd_postfix": ") ",
     "delete_cmd_prefix": "rm(",
     "library": "var_list.r",
     "varRefreshCmd": "cat(var_dic_list()) "
    }
   },
   "types_to_exclude": [
    "module",
    "function",
    "builtin_function_or_method",
    "instance",
    "_Feature"
   ],
   "window_display": false
  }
 },
 "nbformat": 4,
 "nbformat_minor": 5
}
